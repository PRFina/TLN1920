{
 "cells": [
  {
   "cell_type": "markdown",
   "source": [
    "# Esercitazione 2: Content-to-Form\n",
    "\n",
    "In questa esercitazione vedremo come implementare un sistema che, dato in input un insieme di definizioni, permette di individuare in modo automatico il concetto a cui esse si riferiscono. Essenzialmente il task, qui riferito come content-to-form, consiste in una **ricerca onomasiologica** automatica sfruttando un **sense repository** come *WordNet*.\n",
    "\n",
    "Lo scopo dell'esercitazione risponde alla domanda \"quanto è difficile identificare un concetto dalla sua definizione\"?\n"
   ],
   "metadata": {
    "tags": [],
    "cell_id": "00001-0851cb57-208b-42af-94b9-f4ceb032a9b0",
    "deepnote_cell_type": "markdown"
   }
  },
  {
   "cell_type": "code",
   "metadata": {
    "tags": [],
    "cell_id": "00002-3cc3248b-8a78-421e-84d1-39dd503f0646",
    "deepnote_to_be_reexecuted": false,
    "source_hash": "634d9f3a",
    "execution_start": 1621090456298,
    "execution_millis": 2801,
    "deepnote_cell_type": "code"
   },
   "source": [
    "import pandas as pd\n",
    "from pathlib import Path\n",
    "\n",
    "import warnings\n",
    "warnings.simplefilter(action='ignore', category=UserWarning) # for annoying NLTK warnings\n",
    "\n",
    "import nltk\n",
    "import numpy as np\n",
    "from nltk.corpus import wordnet as wn\n",
    "\n",
    "import src.content_to_form as ctof"
   ],
   "execution_count": 1,
   "outputs": [
    {
     "output_type": "stream",
     "name": "stderr",
     "text": [
      "[nltk_data] Downloading package wordnet to /home/prf/nltk_data...\n[nltk_data]   Package wordnet is already up-to-date!\n[nltk_data] Downloading package punkt to /home/prf/nltk_data...\n[nltk_data]   Package punkt is already up-to-date!\n[nltk_data] Downloading package stopwords to /home/prf/nltk_data...\n[nltk_data]   Package stopwords is already up-to-date!\n[nltk_data] Downloading package averaged_perceptron_tagger to\n[nltk_data]     /home/prf/nltk_data...\n[nltk_data]   Package averaged_perceptron_tagger is already up-to-\n[nltk_data]       date!\n"
     ]
    }
   ]
  },
  {
   "source": [
    "### Dati\n",
    "I dati a disposizione (file `data/definitions.tsv`) consistono in 8 concetti ognuno con 12 definizioni date da 12 differenti annotatori."
   ],
   "cell_type": "markdown",
   "metadata": {}
  },
  {
   "cell_type": "code",
   "execution_count": 2,
   "metadata": {},
   "outputs": [
    {
     "output_type": "execute_result",
     "data": {
      "text/plain": [
       "                                             justice  \\\n",
       "0  the concept of fairness, equality for all the ...   \n",
       "1                 condition of being morally correct   \n",
       "2      abstract concept that refers to what is right   \n",
       "3          moral principle determining what is right   \n",
       "4       entity that allows compliance with the rules   \n",
       "\n",
       "                                            patience  \\\n",
       "0  the quality of being able to wait for a long p...   \n",
       "1                      capacity to tolerate problems   \n",
       "2  behavior of people inclined to bear unpleasant...   \n",
       "3   ability to tolerate stress over a period of time   \n",
       "4           ability to be quiet or tolerate problems   \n",
       "\n",
       "                                               greed  \\\n",
       "0  quality of a person that is attached to money ...   \n",
       "1                     excessive desire for something   \n",
       "2  typical attitude of non generosity; behavior o...   \n",
       "3  intense desire to acquire or possess more than...   \n",
       "4                                attachment to money   \n",
       "\n",
       "                                            politics  \\\n",
       "0    the discipline that regulates territorial rules   \n",
       "1   activities associated with covernance of an area   \n",
       "2  abstract concept of governance inside a social...   \n",
       "3  the activity of governing an entity and its af...   \n",
       "4  entity based on sets of principles that guide ...   \n",
       "\n",
       "                                                food  \\\n",
       "0                                   something edible   \n",
       "1                          subtance that animals eat   \n",
       "2  thing needed to sustain a human being or an an...   \n",
       "3  material used by organisms for maintaining the...   \n",
       "4                         one or more edible objects   \n",
       "\n",
       "                                            radiator  \\\n",
       "0                             item that emits warmth   \n",
       "1                           thing that radiated head   \n",
       "2  object used to heat and raise temperature in a...   \n",
       "3                    something that can produce heat   \n",
       "4                              heat diffusion object   \n",
       "\n",
       "                                             vehicle  \\\n",
       "0                    rideable mean of transportation   \n",
       "1        thing used for transporting people or goods   \n",
       "2  thing that provides a way to transport other t...   \n",
       "3         an artifact create to move things in space   \n",
       "4                      object used as transportation   \n",
       "\n",
       "                                               screw  \n",
       "0     item used to connect artificial parts together  \n",
       "1  metal pin with raised helical thread running a...  \n",
       "2  little metal object which can be inserted in a...  \n",
       "3  metal object threaded used to produce other ar...  \n",
       "4       metal object used to fix componible elements  "
      ],
      "text/html": "<div>\n<style scoped>\n    .dataframe tbody tr th:only-of-type {\n        vertical-align: middle;\n    }\n\n    .dataframe tbody tr th {\n        vertical-align: top;\n    }\n\n    .dataframe thead th {\n        text-align: right;\n    }\n</style>\n<table border=\"1\" class=\"dataframe\">\n  <thead>\n    <tr style=\"text-align: right;\">\n      <th></th>\n      <th>justice</th>\n      <th>patience</th>\n      <th>greed</th>\n      <th>politics</th>\n      <th>food</th>\n      <th>radiator</th>\n      <th>vehicle</th>\n      <th>screw</th>\n    </tr>\n  </thead>\n  <tbody>\n    <tr>\n      <th>0</th>\n      <td>the concept of fairness, equality for all the ...</td>\n      <td>the quality of being able to wait for a long p...</td>\n      <td>quality of a person that is attached to money ...</td>\n      <td>the discipline that regulates territorial rules</td>\n      <td>something edible</td>\n      <td>item that emits warmth</td>\n      <td>rideable mean of transportation</td>\n      <td>item used to connect artificial parts together</td>\n    </tr>\n    <tr>\n      <th>1</th>\n      <td>condition of being morally correct</td>\n      <td>capacity to tolerate problems</td>\n      <td>excessive desire for something</td>\n      <td>activities associated with covernance of an area</td>\n      <td>subtance that animals eat</td>\n      <td>thing that radiated head</td>\n      <td>thing used for transporting people or goods</td>\n      <td>metal pin with raised helical thread running a...</td>\n    </tr>\n    <tr>\n      <th>2</th>\n      <td>abstract concept that refers to what is right</td>\n      <td>behavior of people inclined to bear unpleasant...</td>\n      <td>typical attitude of non generosity; behavior o...</td>\n      <td>abstract concept of governance inside a social...</td>\n      <td>thing needed to sustain a human being or an an...</td>\n      <td>object used to heat and raise temperature in a...</td>\n      <td>thing that provides a way to transport other t...</td>\n      <td>little metal object which can be inserted in a...</td>\n    </tr>\n    <tr>\n      <th>3</th>\n      <td>moral principle determining what is right</td>\n      <td>ability to tolerate stress over a period of time</td>\n      <td>intense desire to acquire or possess more than...</td>\n      <td>the activity of governing an entity and its af...</td>\n      <td>material used by organisms for maintaining the...</td>\n      <td>something that can produce heat</td>\n      <td>an artifact create to move things in space</td>\n      <td>metal object threaded used to produce other ar...</td>\n    </tr>\n    <tr>\n      <th>4</th>\n      <td>entity that allows compliance with the rules</td>\n      <td>ability to be quiet or tolerate problems</td>\n      <td>attachment to money</td>\n      <td>entity based on sets of principles that guide ...</td>\n      <td>one or more edible objects</td>\n      <td>heat diffusion object</td>\n      <td>object used as transportation</td>\n      <td>metal object used to fix componible elements</td>\n    </tr>\n  </tbody>\n</table>\n</div>"
     },
     "metadata": {},
     "execution_count": 2
    }
   ],
   "source": [
    "concepts = pd.read_csv(Path(\"data/definitions.tsv\"), sep=\"\\t\")\n",
    "\n",
    "# annotated manually\n",
    "true_concepts = [wn.synset('justice.n.01'), wn.synset('patience.n.01'),\n",
    "                 wn.synset('greed.n.01'), wn.synset('politics.n.05'),\n",
    "                 wn.synset('food.n.01'), wn.synset('radiator.n.02'),\n",
    "                 wn.synset('vehicle.n.01'), wn.synset('screw.n.04 ')]\n",
    "\n",
    "concepts.columns =  [\"justice\", \"patience\", \"greed\", \"politics\", \"food\", \"radiator\", \"vehicle\", \"screw\"]\n",
    "concept_labels = [] # TODO put sysnet instead of lemma\n",
    "concepts.head(5)"
   ]
  },
  {
   "source": [
    "### Algoritmo\n",
    "\n",
    "L'approccio algoritmico utilizzato, si basa sul principio di genus-differentia. L'ipotesi alla base dell'approccio consiste nel assumere che le definizioni seguono il pattern:\n",
    "$$ \\text{Concept}:\\ \\overbrace{\\ldots\\ldots\\ldots}^{\\text{genus}}\\quad\\overbrace{\\ldots\\ldots\\ldots}^{\\text{differentia}}$$\n",
    "\n",
    "Ogni definizione dunque è composta da un *genus* ovvero il concetto target è espresso in termini di un suo concetto superordinato più generico, e da una *differentia* una serie di caratteristiche che permettono di caratterizzarlo e contraddistinguerlo da altri concetti.\n",
    "\n",
    "Sorge però un problema principale, queste informazioni non sono codificate strutturalmente in WordNet! Riportiamo di seguito un [estratto](http://eprints-phd.biblio.unitn.it/1265/1/phd-thesis.pdf) che ha aiutato notevolmente nello sviluppo dell'algoritmo:\n",
    "\n",
    "\n",
    "> Genus and differentia are not formally defined in WordNet. Notice that the synset and its genus ___should belong to the same grammatical category___. This is __not required for differentia__. For example, ricotta and its genus (cheese) in the following synset are nouns, while the differentia contains two adjectives soft and Italian\n",
    "\n",
    "Partendo da questa osservazione, l'algoritmo implementato si articola nei seguenti steps:\n",
    "\n",
    "1. Estrazione dei genus candidati basata su euristica.\n",
    "    1. Pos Tagging ed estrazione lemmi NN e NNS\n",
    "    2. Lesk-based WSD per l'identificazione del senso corretto per i lemmi dei genera estratti\n",
    "    3. Creazione di un ranking basato su euristica di frequenza\n",
    "2. Ricerca nella tassonomia di wordnet per ogni genus candidato\n",
    "    1. Espansione del sottoalbero radicato nel synset del genus candidato\n",
    "    2. Calcolo della signature dei synset iponimi\n",
    "    3. Ricerca dell'iponimo la cui signature massimizza la similarità media con la signature del concetto target\n",
    "\n",
    "Dobbiamo però specificare meglio cosa s'intende con **signature dei concetti** e come è stata calcolata la **similarità media**.\n",
    "Si è scelto di utilizzare una rappresentazione vettoriale attraverso la **matrice document-term** e valutare la similarità tra signature del concetto (insieme di definizioni) e signature dell'iponimo (definizione + frasi di esempio) utilizzando la **similarità del coseno**.\n",
    "\n",
    "Ricordando che la similarità del coseno è una funzione definita su due vettori, e nel nostro caso ad un concetto target abbiamo associati 12 vettori differenti (le definizioni), per ottenere un unico **valore aggregato** è stata calcolata la similarità in  modo pairwise:\n",
    "\n",
    "$$  \\overline{\\operatorname{sim}}(\\mathbf{v}_h,c)  = \\frac{1}{12} \\sum_{i=1}^{12}\\operatorname{sim}(\\mathbf{v}_h,\\mathbf{v}_i)  \\qquad \\text{con} \\qquad \\operatorname{sim}(\\mathbf{v}_h,\\mathbf{v}_i) = \\frac{\\mathbf{v}_h\\cdot\\mathbf{v}_i}{||\\mathbf{v}_h||\\cdot||\\mathbf{v}_i||}$$\n",
    "\n",
    "Dove $\\mathbf{v}_h$ è la rappresentazione vettoriale della signature dell'iponimo considerato e $\\mathbf{v}_i$ è la rappresentazione vettoriale della $i$-esima definizione del concetto target \n",
    "\n",
    "data la signature del concetto target $c$ e un genus candidato $g\\in G$, denotiamo con $H_g := \\operatorname{hyponyms(g)}$ l'insieme degli iponimi estratti dall'algoritmo, il senso identificato dall'algoritmo per il concetto $c$ è dato da:\n",
    "\n",
    "$$ \\operatorname{argmax}_{\\mathbf{v}_h \\in H_g} \\overline{\\operatorname{sim}}(\\mathbf{v}_h,c) $$\n"
   ],
   "cell_type": "markdown",
   "metadata": {}
  },
  {
   "cell_type": "code",
   "metadata": {
    "tags": [],
    "cell_id": "00003-37f16e47-2f12-4a48-b180-63d799b13da5",
    "deepnote_to_be_reexecuted": false,
    "source_hash": "f476058b",
    "execution_start": 1621101666206,
    "execution_millis": 3,
    "deepnote_cell_type": "code"
   },
   "source": [
    "concept_name = 'justice'\n",
    "concept_signature = concepts[concept_name]\n",
    "\n",
    "candidate_genus = ctof.generate_genus_candidates(concept_signature)\n",
    "\n",
    "print(f'Candidate genus ranking for \"{concept_name}\" concept:')\n",
    "for k, genus_syn in enumerate(candidate_genus, start=1):\n",
    "    print(f\"{k}. {genus_syn.name()}\")\n"
   ],
   "execution_count": 3,
   "outputs": [
    {
     "output_type": "stream",
     "name": "stdout",
     "text": [
      "Candidate genus ranking for \"justice\" concept:\n1. concept.n.01\n2. paleness.n.02\n3. theme.n.03\n4. right_field.n.01\n5. equality.n.01\n6. region.n.01\n7. condition.n.03\n8. abstraction.n.01\n9. principle.n.01\n10. entity.n.01\n11. submission.n.02\n12. rule.n.12\n13. outline.n.02\n14. front.n.03\n15. code.n.03\n16. law.n.06\n17. community.n.06\n18. multitude.n.03\n19. court.n.06\n20. timbre.n.01\n21. point.n.22\n22. opinion.n.02\n23. application.n.07\n24. jurisprudence.n.01\n25. recognition.n.07\n26. regard.n.06\n27. people.n.03\n"
     ]
    }
   ]
  },
  {
   "source": [
    "Consideraimo ora il primo candidato nel ranking ed espandiamo il sottoalbero alla ricerca dei possibili iponimi che massimizzano la similarità con la signature del concetto target.\n",
    "\n",
    "Vediamo un esempio sui primi 10 iponimi, in questo caso la lista non è un ranking."
   ],
   "cell_type": "markdown",
   "metadata": {}
  },
  {
   "cell_type": "code",
   "execution_count": 4,
   "metadata": {},
   "outputs": [
    {
     "output_type": "stream",
     "name": "stdout",
     "text": [
      "concept.n.01: an abstract or general idea inferred or derived from specific instances\nabstraction.n.01: a concept or idea not associated with any specific instance he loved her only in the abstract--not in person\ncategory.n.02: a general concept that marks divisions or coordinations in a conceptual scheme\nconceptualization.n.02: an elaborated concept\nfact.n.04: a concept whose truth can be proved scientific hypotheses are not facts\nhypothesis.n.02: a tentative insight into the natural world; a concept that is not yet verified but that if true would explain certain facts or phenomena a scientific hypothesis that survives experimental testing becomes a scientific theory he proposed a fresh theory of alkalis that later was accepted in chemical practices\nlaw.n.03: a rule or body of rules of conduct inherent in human nature and essential to or binding upon human society\nlaw.n.04: a generalization that describes recurring facts or events in nature the laws of thermodynamics\nlexicalized_concept.n.01: a concept that is expressed by a word (in some particular language)\nnotion.n.02: a general inclusive concept\n"
     ]
    }
   ],
   "source": [
    "best_candidate = candidate_genus[0]\n",
    "hyponyms, hyponym_signatures =  ctof.hyponyms_signatures(best_candidate, max_search_depth=2)\n",
    "\n",
    "MAX_HYPS = 10\n",
    "for hyponym, hyponym_def in zip(hyponyms[:MAX_HYPS], hyponym_signatures[:MAX_HYPS]):\n",
    "    print(f\"{hyponym.name()}: {hyponym_def}\")"
   ]
  },
  {
   "source": [
    "Avendo a disposizione sia una signature per il concetto target che una signature per ogni iponimo candidato a rappresentare il concetto target possiamo calcolare la similarità tra le signature utilizzando una rappresentazione vettoriale.\n",
    "\n",
    "Questa procedura viene implementata dalla funzione `content_to_form.compute_similarity_matrix` "
   ],
   "cell_type": "markdown",
   "metadata": {}
  },
  {
   "cell_type": "code",
   "execution_count": 5,
   "metadata": {},
   "outputs": [
    {
     "output_type": "execute_result",
     "data": {
      "text/plain": [
       "(12, 116)"
      ]
     },
     "metadata": {},
     "execution_count": 5
    }
   ],
   "source": [
    "similarity_mat = ctof.compute_similarity_matrix(concept_signature, hyponym_signatures)\n",
    "\n",
    "similarity_mat.shape"
   ]
  },
  {
   "source": [
    "Le dimensioni della matrice (12x116) rappresentano i valori di simalrità pairwise tra le 12 definizioni del concetto target e le 116 signature degli iponimi estratti dal sottoalbero radicato nel genus."
   ],
   "cell_type": "markdown",
   "metadata": {}
  },
  {
   "cell_type": "code",
   "execution_count": 6,
   "metadata": {},
   "outputs": [
    {
     "output_type": "execute_result",
     "data": {
      "text/plain": [
       "Text(0, 0.5, 'Concept Definition')"
      ]
     },
     "metadata": {},
     "execution_count": 6
    },
    {
     "output_type": "display_data",
     "data": {
      "text/plain": "<Figure size 1080x720 with 1 Axes>",
      "image/svg+xml": "<?xml version=\"1.0\" encoding=\"utf-8\" standalone=\"no\"?>\n<!DOCTYPE svg PUBLIC \"-//W3C//DTD SVG 1.1//EN\"\n  \"http://www.w3.org/Graphics/SVG/1.1/DTD/svg11.dtd\">\n<!-- Created with matplotlib (https://matplotlib.org/) -->\n<svg height=\"146.460582pt\" version=\"1.1\" viewBox=\"0 0 884.803125 146.460582\" width=\"884.803125pt\" xmlns=\"http://www.w3.org/2000/svg\" xmlns:xlink=\"http://www.w3.org/1999/xlink\">\n <metadata>\n  <rdf:RDF xmlns:cc=\"http://creativecommons.org/ns#\" xmlns:dc=\"http://purl.org/dc/elements/1.1/\" xmlns:rdf=\"http://www.w3.org/1999/02/22-rdf-syntax-ns#\">\n   <cc:Work>\n    <dc:type rdf:resource=\"http://purl.org/dc/dcmitype/StillImage\"/>\n    <dc:date>2021-05-19T12:26:23.640252</dc:date>\n    <dc:format>image/svg+xml</dc:format>\n    <dc:creator>\n     <cc:Agent>\n      <dc:title>Matplotlib v3.3.4, https://matplotlib.org/</dc:title>\n     </cc:Agent>\n    </dc:creator>\n   </cc:Work>\n  </rdf:RDF>\n </metadata>\n <defs>\n  <style type=\"text/css\">*{stroke-linecap:butt;stroke-linejoin:round;}</style>\n </defs>\n <g id=\"figure_1\">\n  <g id=\"patch_1\">\n   <path d=\"M 0 146.460582 \nL 884.803125 146.460582 \nL 884.803125 -0 \nL 0 -0 \nz\n\" style=\"fill:none;\"/>\n  </g>\n  <g id=\"axes_1\">\n   <g id=\"patch_2\">\n    <path d=\"M 40.603125 125.582457 \nL 877.603125 125.582457 \nL 877.603125 38.99625 \nL 40.603125 38.99625 \nz\n\" style=\"fill:#ffffff;\"/>\n   </g>\n   <g clip-path=\"url(#p5c8920d510)\">\n    <image height=\"87\" id=\"image2aadcac6f5\" transform=\"scale(1 -1)translate(0 -87)\" width=\"837\" x=\"40.603125\" xlink:href=\"data:image/png;base64,\niVBORw0KGgoAAAANSUhEUgAAA0UAAABXCAYAAADLce64AAAEfUlEQVR4nO3dwWscVRwH8B0TRCr1UMRDKo2HJgeLICqaFA+mLHg25C65iEUQ+g/kkIsIQr2I3oL/QL0JChoUaVJBKWgPxoDk0IBFCiJ6aoiHHLz4ZstuZmZ3v5/P9ce++c3M7pv58uBt1a/WjntEmNs9W6wdLv3VYicAADA+Hum6AQAAgC4JRQAAQDShCAAAiCYUAQAA0YQiAAAgmlAEAABEm92/vlQsPnavnJmefu9mE/0MbWZ7rrZ+tHLYUifja//9Z4u1M71bLXYCnIZB816J+XCwumtbd/3qnqkXr+2O1NNpG/YcASZV3bxnpQgAAIgmFAEAANGEIgAAIJpQBAAARBOKAACAaEIRAAAQTSgCAACiVf1q7bjrJgAAALpipQgAAIgmFAEAANGEIgAAIJpQBAAARBOKAACAaEIRAAAQbbbrBphsV376u7b+9XOPt9QJADDp6t4rvFPQJCtFAABANKEIAACIJhQBAADRhCIAACCaUAQAAEQTigAAgGhVv1o77roJ2nHvncvF2lMf3Wyxk8nzxeHtYu31uedb6+Nh1PXa641fvzBNZrbnirWjlcMWOzlxsLlcrM1v7Aw97ridJ8CorBQBAADRhCIAACCaUAQAAEQTigAAgGhCEQAAEE0oAgAAotmSO8je1ovF2uL6Dy12cmLv45eLtcWr37fYSXPqzrHXm57zBACYZFaKAACAaEIRAAAQTSgCAACiCUUAAEA0oQgAAIgmFAEAANGEIgAAINrs3RuXisUrF/aKtS8/f6mJfmrNb+wUaweby60fc5C6nkYZd1hPfvto68esMy3/0XN/vXyfF6+2f58ZTd2ceH71ToudDDbsvNfF/DNpxm3+bsIoz82zv5Vr57aauT4J9wRoVt08YqUIAACIJhQBAADRhCIAACCaUAQAAEQTigAAgGhCEQAAEK3qV2vHXTfxsGa254q1o5XDFjuB/+xfXyrWLl7bbbETAID/5z26npUiAAAgmlAEAABEE4oAAIBoQhEAABBNKAIAAKIJRQAAQLSJ2pJ7mnSxjfM/b7xSrJ357FYjx2SyNLFdZ92Yg8ZN6KfJcdvm+gw/t4/yvazzycF3xdrb868ONSYwfQbNQSXjNgePwkoRAAAQTSgCAACiCUUAAEA0oQgAAIgmFAEAANGEIgAAIFr1zIcfFLfkfqv/VfGD3/yx0EhDdZra0rWLY3axhWEX24DDpPE7YRTj9v25v75crJ3b2inWBj0zf7l9oVhr6jzH7ZkKTBcrRQAAQDShCAAAiCYUAQAA0YQiAAAgmlAEAABEE4oAAIBoQhEAABCt6ldrxf8pojm/fvpCsbbw5o8tdgIAANmsFAEAANGEIgAAIJpQBAAARBOKAACAaEIRAAAQTSgCAACizdYVf3/3crH24LU/T72ZQc6v3hn6s3dvXBqrYy6sDrftdt2Yo/QKnDjYXC7W5jd2WuwEujPomfng5yeKNb8ToEnDvtP3evXvylaKAACAaEIRAAAQTSgCAACiCUUAAEA0oQgAAIgmFAEAANH+Be2o2F8bqIZPAAAAAElFTkSuQmCC\" y=\"-38.582457\"/>\n   </g>\n   <g id=\"matplotlib.axis_1\">\n    <g id=\"xtick_1\">\n     <g id=\"line2d_1\">\n      <defs>\n       <path d=\"M 0 0 \nL 0 3.5 \n\" id=\"m937a939b6b\" style=\"stroke:#000000;stroke-width:0.8;\"/>\n      </defs>\n      <g>\n       <use style=\"stroke:#000000;stroke-width:0.8;\" x=\"44.210884\" xlink:href=\"#m937a939b6b\" y=\"125.582457\"/>\n      </g>\n     </g>\n     <g id=\"line2d_2\">\n      <defs>\n       <path d=\"M 0 0 \nL 0 -3.5 \n\" id=\"m9253d73a66\" style=\"stroke:#000000;stroke-width:0.8;\"/>\n      </defs>\n      <g>\n       <use style=\"stroke:#000000;stroke-width:0.8;\" x=\"44.210884\" xlink:href=\"#m9253d73a66\" y=\"38.99625\"/>\n      </g>\n     </g>\n     <g id=\"text_1\">\n      <!-- 0 -->\n      <g transform=\"translate(41.029634 29.916562)scale(0.1 -0.1)\">\n       <defs>\n        <path d=\"M 31.78125 66.40625 \nQ 24.171875 66.40625 20.328125 58.90625 \nQ 16.5 51.421875 16.5 36.375 \nQ 16.5 21.390625 20.328125 13.890625 \nQ 24.171875 6.390625 31.78125 6.390625 \nQ 39.453125 6.390625 43.28125 13.890625 \nQ 47.125 21.390625 47.125 36.375 \nQ 47.125 51.421875 43.28125 58.90625 \nQ 39.453125 66.40625 31.78125 66.40625 \nz\nM 31.78125 74.21875 \nQ 44.046875 74.21875 50.515625 64.515625 \nQ 56.984375 54.828125 56.984375 36.375 \nQ 56.984375 17.96875 50.515625 8.265625 \nQ 44.046875 -1.421875 31.78125 -1.421875 \nQ 19.53125 -1.421875 13.0625 8.265625 \nQ 6.59375 17.96875 6.59375 36.375 \nQ 6.59375 54.828125 13.0625 64.515625 \nQ 19.53125 74.21875 31.78125 74.21875 \nz\n\" id=\"DejaVuSans-48\"/>\n       </defs>\n       <use xlink:href=\"#DejaVuSans-48\"/>\n      </g>\n     </g>\n    </g>\n    <g id=\"xtick_2\">\n     <g id=\"line2d_3\">\n      <g>\n       <use style=\"stroke:#000000;stroke-width:0.8;\" x=\"188.521228\" xlink:href=\"#m937a939b6b\" y=\"125.582457\"/>\n      </g>\n     </g>\n     <g id=\"line2d_4\">\n      <g>\n       <use style=\"stroke:#000000;stroke-width:0.8;\" x=\"188.521228\" xlink:href=\"#m9253d73a66\" y=\"38.99625\"/>\n      </g>\n     </g>\n     <g id=\"text_2\">\n      <!-- 20 -->\n      <g transform=\"translate(182.158728 29.916562)scale(0.1 -0.1)\">\n       <defs>\n        <path d=\"M 19.1875 8.296875 \nL 53.609375 8.296875 \nL 53.609375 0 \nL 7.328125 0 \nL 7.328125 8.296875 \nQ 12.9375 14.109375 22.625 23.890625 \nQ 32.328125 33.6875 34.8125 36.53125 \nQ 39.546875 41.84375 41.421875 45.53125 \nQ 43.3125 49.21875 43.3125 52.78125 \nQ 43.3125 58.59375 39.234375 62.25 \nQ 35.15625 65.921875 28.609375 65.921875 \nQ 23.96875 65.921875 18.8125 64.3125 \nQ 13.671875 62.703125 7.8125 59.421875 \nL 7.8125 69.390625 \nQ 13.765625 71.78125 18.9375 73 \nQ 24.125 74.21875 28.421875 74.21875 \nQ 39.75 74.21875 46.484375 68.546875 \nQ 53.21875 62.890625 53.21875 53.421875 \nQ 53.21875 48.921875 51.53125 44.890625 \nQ 49.859375 40.875 45.40625 35.40625 \nQ 44.1875 33.984375 37.640625 27.21875 \nQ 31.109375 20.453125 19.1875 8.296875 \nz\n\" id=\"DejaVuSans-50\"/>\n       </defs>\n       <use xlink:href=\"#DejaVuSans-50\"/>\n       <use x=\"63.623047\" xlink:href=\"#DejaVuSans-48\"/>\n      </g>\n     </g>\n    </g>\n    <g id=\"xtick_3\">\n     <g id=\"line2d_5\">\n      <g>\n       <use style=\"stroke:#000000;stroke-width:0.8;\" x=\"332.831573\" xlink:href=\"#m937a939b6b\" y=\"125.582457\"/>\n      </g>\n     </g>\n     <g id=\"line2d_6\">\n      <g>\n       <use style=\"stroke:#000000;stroke-width:0.8;\" x=\"332.831573\" xlink:href=\"#m9253d73a66\" y=\"38.99625\"/>\n      </g>\n     </g>\n     <g id=\"text_3\">\n      <!-- 40 -->\n      <g transform=\"translate(326.469073 29.916562)scale(0.1 -0.1)\">\n       <defs>\n        <path d=\"M 37.796875 64.3125 \nL 12.890625 25.390625 \nL 37.796875 25.390625 \nz\nM 35.203125 72.90625 \nL 47.609375 72.90625 \nL 47.609375 25.390625 \nL 58.015625 25.390625 \nL 58.015625 17.1875 \nL 47.609375 17.1875 \nL 47.609375 0 \nL 37.796875 0 \nL 37.796875 17.1875 \nL 4.890625 17.1875 \nL 4.890625 26.703125 \nz\n\" id=\"DejaVuSans-52\"/>\n       </defs>\n       <use xlink:href=\"#DejaVuSans-52\"/>\n       <use x=\"63.623047\" xlink:href=\"#DejaVuSans-48\"/>\n      </g>\n     </g>\n    </g>\n    <g id=\"xtick_4\">\n     <g id=\"line2d_7\">\n      <g>\n       <use style=\"stroke:#000000;stroke-width:0.8;\" x=\"477.141918\" xlink:href=\"#m937a939b6b\" y=\"125.582457\"/>\n      </g>\n     </g>\n     <g id=\"line2d_8\">\n      <g>\n       <use style=\"stroke:#000000;stroke-width:0.8;\" x=\"477.141918\" xlink:href=\"#m9253d73a66\" y=\"38.99625\"/>\n      </g>\n     </g>\n     <g id=\"text_4\">\n      <!-- 60 -->\n      <g transform=\"translate(470.779418 29.916562)scale(0.1 -0.1)\">\n       <defs>\n        <path d=\"M 33.015625 40.375 \nQ 26.375 40.375 22.484375 35.828125 \nQ 18.609375 31.296875 18.609375 23.390625 \nQ 18.609375 15.53125 22.484375 10.953125 \nQ 26.375 6.390625 33.015625 6.390625 \nQ 39.65625 6.390625 43.53125 10.953125 \nQ 47.40625 15.53125 47.40625 23.390625 \nQ 47.40625 31.296875 43.53125 35.828125 \nQ 39.65625 40.375 33.015625 40.375 \nz\nM 52.59375 71.296875 \nL 52.59375 62.3125 \nQ 48.875 64.0625 45.09375 64.984375 \nQ 41.3125 65.921875 37.59375 65.921875 \nQ 27.828125 65.921875 22.671875 59.328125 \nQ 17.53125 52.734375 16.796875 39.40625 \nQ 19.671875 43.65625 24.015625 45.921875 \nQ 28.375 48.1875 33.59375 48.1875 \nQ 44.578125 48.1875 50.953125 41.515625 \nQ 57.328125 34.859375 57.328125 23.390625 \nQ 57.328125 12.15625 50.6875 5.359375 \nQ 44.046875 -1.421875 33.015625 -1.421875 \nQ 20.359375 -1.421875 13.671875 8.265625 \nQ 6.984375 17.96875 6.984375 36.375 \nQ 6.984375 53.65625 15.1875 63.9375 \nQ 23.390625 74.21875 37.203125 74.21875 \nQ 40.921875 74.21875 44.703125 73.484375 \nQ 48.484375 72.75 52.59375 71.296875 \nz\n\" id=\"DejaVuSans-54\"/>\n       </defs>\n       <use xlink:href=\"#DejaVuSans-54\"/>\n       <use x=\"63.623047\" xlink:href=\"#DejaVuSans-48\"/>\n      </g>\n     </g>\n    </g>\n    <g id=\"xtick_5\">\n     <g id=\"line2d_9\">\n      <g>\n       <use style=\"stroke:#000000;stroke-width:0.8;\" x=\"621.452263\" xlink:href=\"#m937a939b6b\" y=\"125.582457\"/>\n      </g>\n     </g>\n     <g id=\"line2d_10\">\n      <g>\n       <use style=\"stroke:#000000;stroke-width:0.8;\" x=\"621.452263\" xlink:href=\"#m9253d73a66\" y=\"38.99625\"/>\n      </g>\n     </g>\n     <g id=\"text_5\">\n      <!-- 80 -->\n      <g transform=\"translate(615.089763 29.916562)scale(0.1 -0.1)\">\n       <defs>\n        <path d=\"M 31.78125 34.625 \nQ 24.75 34.625 20.71875 30.859375 \nQ 16.703125 27.09375 16.703125 20.515625 \nQ 16.703125 13.921875 20.71875 10.15625 \nQ 24.75 6.390625 31.78125 6.390625 \nQ 38.8125 6.390625 42.859375 10.171875 \nQ 46.921875 13.96875 46.921875 20.515625 \nQ 46.921875 27.09375 42.890625 30.859375 \nQ 38.875 34.625 31.78125 34.625 \nz\nM 21.921875 38.8125 \nQ 15.578125 40.375 12.03125 44.71875 \nQ 8.5 49.078125 8.5 55.328125 \nQ 8.5 64.0625 14.71875 69.140625 \nQ 20.953125 74.21875 31.78125 74.21875 \nQ 42.671875 74.21875 48.875 69.140625 \nQ 55.078125 64.0625 55.078125 55.328125 \nQ 55.078125 49.078125 51.53125 44.71875 \nQ 48 40.375 41.703125 38.8125 \nQ 48.828125 37.15625 52.796875 32.3125 \nQ 56.78125 27.484375 56.78125 20.515625 \nQ 56.78125 9.90625 50.3125 4.234375 \nQ 43.84375 -1.421875 31.78125 -1.421875 \nQ 19.734375 -1.421875 13.25 4.234375 \nQ 6.78125 9.90625 6.78125 20.515625 \nQ 6.78125 27.484375 10.78125 32.3125 \nQ 14.796875 37.15625 21.921875 38.8125 \nz\nM 18.3125 54.390625 \nQ 18.3125 48.734375 21.84375 45.5625 \nQ 25.390625 42.390625 31.78125 42.390625 \nQ 38.140625 42.390625 41.71875 45.5625 \nQ 45.3125 48.734375 45.3125 54.390625 \nQ 45.3125 60.0625 41.71875 63.234375 \nQ 38.140625 66.40625 31.78125 66.40625 \nQ 25.390625 66.40625 21.84375 63.234375 \nQ 18.3125 60.0625 18.3125 54.390625 \nz\n\" id=\"DejaVuSans-56\"/>\n       </defs>\n       <use xlink:href=\"#DejaVuSans-56\"/>\n       <use x=\"63.623047\" xlink:href=\"#DejaVuSans-48\"/>\n      </g>\n     </g>\n    </g>\n    <g id=\"xtick_6\">\n     <g id=\"line2d_11\">\n      <g>\n       <use style=\"stroke:#000000;stroke-width:0.8;\" x=\"765.762608\" xlink:href=\"#m937a939b6b\" y=\"125.582457\"/>\n      </g>\n     </g>\n     <g id=\"line2d_12\">\n      <g>\n       <use style=\"stroke:#000000;stroke-width:0.8;\" x=\"765.762608\" xlink:href=\"#m9253d73a66\" y=\"38.99625\"/>\n      </g>\n     </g>\n     <g id=\"text_6\">\n      <!-- 100 -->\n      <g transform=\"translate(756.218858 29.916562)scale(0.1 -0.1)\">\n       <defs>\n        <path d=\"M 12.40625 8.296875 \nL 28.515625 8.296875 \nL 28.515625 63.921875 \nL 10.984375 60.40625 \nL 10.984375 69.390625 \nL 28.421875 72.90625 \nL 38.28125 72.90625 \nL 38.28125 8.296875 \nL 54.390625 8.296875 \nL 54.390625 0 \nL 12.40625 0 \nz\n\" id=\"DejaVuSans-49\"/>\n       </defs>\n       <use xlink:href=\"#DejaVuSans-49\"/>\n       <use x=\"63.623047\" xlink:href=\"#DejaVuSans-48\"/>\n       <use x=\"127.246094\" xlink:href=\"#DejaVuSans-48\"/>\n      </g>\n     </g>\n    </g>\n    <g id=\"text_7\">\n     <!-- Hyponyms Signature -->\n     <g transform=\"translate(406.839063 137.180894)scale(0.1 -0.1)\">\n      <defs>\n       <path d=\"M 9.8125 72.90625 \nL 19.671875 72.90625 \nL 19.671875 43.015625 \nL 55.515625 43.015625 \nL 55.515625 72.90625 \nL 65.375 72.90625 \nL 65.375 0 \nL 55.515625 0 \nL 55.515625 34.71875 \nL 19.671875 34.71875 \nL 19.671875 0 \nL 9.8125 0 \nz\n\" id=\"DejaVuSans-72\"/>\n       <path d=\"M 32.171875 -5.078125 \nQ 28.375 -14.84375 24.75 -17.8125 \nQ 21.140625 -20.796875 15.09375 -20.796875 \nL 7.90625 -20.796875 \nL 7.90625 -13.28125 \nL 13.1875 -13.28125 \nQ 16.890625 -13.28125 18.9375 -11.515625 \nQ 21 -9.765625 23.484375 -3.21875 \nL 25.09375 0.875 \nL 2.984375 54.6875 \nL 12.5 54.6875 \nL 29.59375 11.921875 \nL 46.6875 54.6875 \nL 56.203125 54.6875 \nz\n\" id=\"DejaVuSans-121\"/>\n       <path d=\"M 18.109375 8.203125 \nL 18.109375 -20.796875 \nL 9.078125 -20.796875 \nL 9.078125 54.6875 \nL 18.109375 54.6875 \nL 18.109375 46.390625 \nQ 20.953125 51.265625 25.265625 53.625 \nQ 29.59375 56 35.59375 56 \nQ 45.5625 56 51.78125 48.09375 \nQ 58.015625 40.1875 58.015625 27.296875 \nQ 58.015625 14.40625 51.78125 6.484375 \nQ 45.5625 -1.421875 35.59375 -1.421875 \nQ 29.59375 -1.421875 25.265625 0.953125 \nQ 20.953125 3.328125 18.109375 8.203125 \nz\nM 48.6875 27.296875 \nQ 48.6875 37.203125 44.609375 42.84375 \nQ 40.53125 48.484375 33.40625 48.484375 \nQ 26.265625 48.484375 22.1875 42.84375 \nQ 18.109375 37.203125 18.109375 27.296875 \nQ 18.109375 17.390625 22.1875 11.75 \nQ 26.265625 6.109375 33.40625 6.109375 \nQ 40.53125 6.109375 44.609375 11.75 \nQ 48.6875 17.390625 48.6875 27.296875 \nz\n\" id=\"DejaVuSans-112\"/>\n       <path d=\"M 30.609375 48.390625 \nQ 23.390625 48.390625 19.1875 42.75 \nQ 14.984375 37.109375 14.984375 27.296875 \nQ 14.984375 17.484375 19.15625 11.84375 \nQ 23.34375 6.203125 30.609375 6.203125 \nQ 37.796875 6.203125 41.984375 11.859375 \nQ 46.1875 17.53125 46.1875 27.296875 \nQ 46.1875 37.015625 41.984375 42.703125 \nQ 37.796875 48.390625 30.609375 48.390625 \nz\nM 30.609375 56 \nQ 42.328125 56 49.015625 48.375 \nQ 55.71875 40.765625 55.71875 27.296875 \nQ 55.71875 13.875 49.015625 6.21875 \nQ 42.328125 -1.421875 30.609375 -1.421875 \nQ 18.84375 -1.421875 12.171875 6.21875 \nQ 5.515625 13.875 5.515625 27.296875 \nQ 5.515625 40.765625 12.171875 48.375 \nQ 18.84375 56 30.609375 56 \nz\n\" id=\"DejaVuSans-111\"/>\n       <path d=\"M 54.890625 33.015625 \nL 54.890625 0 \nL 45.90625 0 \nL 45.90625 32.71875 \nQ 45.90625 40.484375 42.875 44.328125 \nQ 39.84375 48.1875 33.796875 48.1875 \nQ 26.515625 48.1875 22.3125 43.546875 \nQ 18.109375 38.921875 18.109375 30.90625 \nL 18.109375 0 \nL 9.078125 0 \nL 9.078125 54.6875 \nL 18.109375 54.6875 \nL 18.109375 46.1875 \nQ 21.34375 51.125 25.703125 53.5625 \nQ 30.078125 56 35.796875 56 \nQ 45.21875 56 50.046875 50.171875 \nQ 54.890625 44.34375 54.890625 33.015625 \nz\n\" id=\"DejaVuSans-110\"/>\n       <path d=\"M 52 44.1875 \nQ 55.375 50.25 60.0625 53.125 \nQ 64.75 56 71.09375 56 \nQ 79.640625 56 84.28125 50.015625 \nQ 88.921875 44.046875 88.921875 33.015625 \nL 88.921875 0 \nL 79.890625 0 \nL 79.890625 32.71875 \nQ 79.890625 40.578125 77.09375 44.375 \nQ 74.3125 48.1875 68.609375 48.1875 \nQ 61.625 48.1875 57.5625 43.546875 \nQ 53.515625 38.921875 53.515625 30.90625 \nL 53.515625 0 \nL 44.484375 0 \nL 44.484375 32.71875 \nQ 44.484375 40.625 41.703125 44.40625 \nQ 38.921875 48.1875 33.109375 48.1875 \nQ 26.21875 48.1875 22.15625 43.53125 \nQ 18.109375 38.875 18.109375 30.90625 \nL 18.109375 0 \nL 9.078125 0 \nL 9.078125 54.6875 \nL 18.109375 54.6875 \nL 18.109375 46.1875 \nQ 21.1875 51.21875 25.484375 53.609375 \nQ 29.78125 56 35.6875 56 \nQ 41.65625 56 45.828125 52.96875 \nQ 50 49.953125 52 44.1875 \nz\n\" id=\"DejaVuSans-109\"/>\n       <path d=\"M 44.28125 53.078125 \nL 44.28125 44.578125 \nQ 40.484375 46.53125 36.375 47.5 \nQ 32.28125 48.484375 27.875 48.484375 \nQ 21.1875 48.484375 17.84375 46.4375 \nQ 14.5 44.390625 14.5 40.28125 \nQ 14.5 37.15625 16.890625 35.375 \nQ 19.28125 33.59375 26.515625 31.984375 \nL 29.59375 31.296875 \nQ 39.15625 29.25 43.1875 25.515625 \nQ 47.21875 21.78125 47.21875 15.09375 \nQ 47.21875 7.46875 41.1875 3.015625 \nQ 35.15625 -1.421875 24.609375 -1.421875 \nQ 20.21875 -1.421875 15.453125 -0.5625 \nQ 10.6875 0.296875 5.421875 2 \nL 5.421875 11.28125 \nQ 10.40625 8.6875 15.234375 7.390625 \nQ 20.0625 6.109375 24.8125 6.109375 \nQ 31.15625 6.109375 34.5625 8.28125 \nQ 37.984375 10.453125 37.984375 14.40625 \nQ 37.984375 18.0625 35.515625 20.015625 \nQ 33.0625 21.96875 24.703125 23.78125 \nL 21.578125 24.515625 \nQ 13.234375 26.265625 9.515625 29.90625 \nQ 5.8125 33.546875 5.8125 39.890625 \nQ 5.8125 47.609375 11.28125 51.796875 \nQ 16.75 56 26.8125 56 \nQ 31.78125 56 36.171875 55.265625 \nQ 40.578125 54.546875 44.28125 53.078125 \nz\n\" id=\"DejaVuSans-115\"/>\n       <path id=\"DejaVuSans-32\"/>\n       <path d=\"M 53.515625 70.515625 \nL 53.515625 60.890625 \nQ 47.90625 63.578125 42.921875 64.890625 \nQ 37.9375 66.21875 33.296875 66.21875 \nQ 25.25 66.21875 20.875 63.09375 \nQ 16.5 59.96875 16.5 54.203125 \nQ 16.5 49.359375 19.40625 46.890625 \nQ 22.3125 44.4375 30.421875 42.921875 \nL 36.375 41.703125 \nQ 47.40625 39.59375 52.65625 34.296875 \nQ 57.90625 29 57.90625 20.125 \nQ 57.90625 9.515625 50.796875 4.046875 \nQ 43.703125 -1.421875 29.984375 -1.421875 \nQ 24.8125 -1.421875 18.96875 -0.25 \nQ 13.140625 0.921875 6.890625 3.21875 \nL 6.890625 13.375 \nQ 12.890625 10.015625 18.65625 8.296875 \nQ 24.421875 6.59375 29.984375 6.59375 \nQ 38.421875 6.59375 43.015625 9.90625 \nQ 47.609375 13.234375 47.609375 19.390625 \nQ 47.609375 24.75 44.3125 27.78125 \nQ 41.015625 30.8125 33.5 32.328125 \nL 27.484375 33.5 \nQ 16.453125 35.6875 11.515625 40.375 \nQ 6.59375 45.0625 6.59375 53.421875 \nQ 6.59375 63.09375 13.40625 68.65625 \nQ 20.21875 74.21875 32.171875 74.21875 \nQ 37.3125 74.21875 42.625 73.28125 \nQ 47.953125 72.359375 53.515625 70.515625 \nz\n\" id=\"DejaVuSans-83\"/>\n       <path d=\"M 9.421875 54.6875 \nL 18.40625 54.6875 \nL 18.40625 0 \nL 9.421875 0 \nz\nM 9.421875 75.984375 \nL 18.40625 75.984375 \nL 18.40625 64.59375 \nL 9.421875 64.59375 \nz\n\" id=\"DejaVuSans-105\"/>\n       <path d=\"M 45.40625 27.984375 \nQ 45.40625 37.75 41.375 43.109375 \nQ 37.359375 48.484375 30.078125 48.484375 \nQ 22.859375 48.484375 18.828125 43.109375 \nQ 14.796875 37.75 14.796875 27.984375 \nQ 14.796875 18.265625 18.828125 12.890625 \nQ 22.859375 7.515625 30.078125 7.515625 \nQ 37.359375 7.515625 41.375 12.890625 \nQ 45.40625 18.265625 45.40625 27.984375 \nz\nM 54.390625 6.78125 \nQ 54.390625 -7.171875 48.1875 -13.984375 \nQ 42 -20.796875 29.203125 -20.796875 \nQ 24.46875 -20.796875 20.265625 -20.09375 \nQ 16.0625 -19.390625 12.109375 -17.921875 \nL 12.109375 -9.1875 \nQ 16.0625 -11.328125 19.921875 -12.34375 \nQ 23.78125 -13.375 27.78125 -13.375 \nQ 36.625 -13.375 41.015625 -8.765625 \nQ 45.40625 -4.15625 45.40625 5.171875 \nL 45.40625 9.625 \nQ 42.625 4.78125 38.28125 2.390625 \nQ 33.9375 0 27.875 0 \nQ 17.828125 0 11.671875 7.65625 \nQ 5.515625 15.328125 5.515625 27.984375 \nQ 5.515625 40.671875 11.671875 48.328125 \nQ 17.828125 56 27.875 56 \nQ 33.9375 56 38.28125 53.609375 \nQ 42.625 51.21875 45.40625 46.390625 \nL 45.40625 54.6875 \nL 54.390625 54.6875 \nz\n\" id=\"DejaVuSans-103\"/>\n       <path d=\"M 34.28125 27.484375 \nQ 23.390625 27.484375 19.1875 25 \nQ 14.984375 22.515625 14.984375 16.5 \nQ 14.984375 11.71875 18.140625 8.90625 \nQ 21.296875 6.109375 26.703125 6.109375 \nQ 34.1875 6.109375 38.703125 11.40625 \nQ 43.21875 16.703125 43.21875 25.484375 \nL 43.21875 27.484375 \nz\nM 52.203125 31.203125 \nL 52.203125 0 \nL 43.21875 0 \nL 43.21875 8.296875 \nQ 40.140625 3.328125 35.546875 0.953125 \nQ 30.953125 -1.421875 24.3125 -1.421875 \nQ 15.921875 -1.421875 10.953125 3.296875 \nQ 6 8.015625 6 15.921875 \nQ 6 25.140625 12.171875 29.828125 \nQ 18.359375 34.515625 30.609375 34.515625 \nL 43.21875 34.515625 \nL 43.21875 35.40625 \nQ 43.21875 41.609375 39.140625 45 \nQ 35.0625 48.390625 27.6875 48.390625 \nQ 23 48.390625 18.546875 47.265625 \nQ 14.109375 46.140625 10.015625 43.890625 \nL 10.015625 52.203125 \nQ 14.9375 54.109375 19.578125 55.046875 \nQ 24.21875 56 28.609375 56 \nQ 40.484375 56 46.34375 49.84375 \nQ 52.203125 43.703125 52.203125 31.203125 \nz\n\" id=\"DejaVuSans-97\"/>\n       <path d=\"M 18.3125 70.21875 \nL 18.3125 54.6875 \nL 36.8125 54.6875 \nL 36.8125 47.703125 \nL 18.3125 47.703125 \nL 18.3125 18.015625 \nQ 18.3125 11.328125 20.140625 9.421875 \nQ 21.96875 7.515625 27.59375 7.515625 \nL 36.8125 7.515625 \nL 36.8125 0 \nL 27.59375 0 \nQ 17.1875 0 13.234375 3.875 \nQ 9.28125 7.765625 9.28125 18.015625 \nL 9.28125 47.703125 \nL 2.6875 47.703125 \nL 2.6875 54.6875 \nL 9.28125 54.6875 \nL 9.28125 70.21875 \nz\n\" id=\"DejaVuSans-116\"/>\n       <path d=\"M 8.5 21.578125 \nL 8.5 54.6875 \nL 17.484375 54.6875 \nL 17.484375 21.921875 \nQ 17.484375 14.15625 20.5 10.265625 \nQ 23.53125 6.390625 29.59375 6.390625 \nQ 36.859375 6.390625 41.078125 11.03125 \nQ 45.3125 15.671875 45.3125 23.6875 \nL 45.3125 54.6875 \nL 54.296875 54.6875 \nL 54.296875 0 \nL 45.3125 0 \nL 45.3125 8.40625 \nQ 42.046875 3.421875 37.71875 1 \nQ 33.40625 -1.421875 27.6875 -1.421875 \nQ 18.265625 -1.421875 13.375 4.4375 \nQ 8.5 10.296875 8.5 21.578125 \nz\nM 31.109375 56 \nz\n\" id=\"DejaVuSans-117\"/>\n       <path d=\"M 41.109375 46.296875 \nQ 39.59375 47.171875 37.8125 47.578125 \nQ 36.03125 48 33.890625 48 \nQ 26.265625 48 22.1875 43.046875 \nQ 18.109375 38.09375 18.109375 28.8125 \nL 18.109375 0 \nL 9.078125 0 \nL 9.078125 54.6875 \nL 18.109375 54.6875 \nL 18.109375 46.1875 \nQ 20.953125 51.171875 25.484375 53.578125 \nQ 30.03125 56 36.53125 56 \nQ 37.453125 56 38.578125 55.875 \nQ 39.703125 55.765625 41.0625 55.515625 \nz\n\" id=\"DejaVuSans-114\"/>\n       <path d=\"M 56.203125 29.59375 \nL 56.203125 25.203125 \nL 14.890625 25.203125 \nQ 15.484375 15.921875 20.484375 11.0625 \nQ 25.484375 6.203125 34.421875 6.203125 \nQ 39.59375 6.203125 44.453125 7.46875 \nQ 49.3125 8.734375 54.109375 11.28125 \nL 54.109375 2.78125 \nQ 49.265625 0.734375 44.1875 -0.34375 \nQ 39.109375 -1.421875 33.890625 -1.421875 \nQ 20.796875 -1.421875 13.15625 6.1875 \nQ 5.515625 13.8125 5.515625 26.8125 \nQ 5.515625 40.234375 12.765625 48.109375 \nQ 20.015625 56 32.328125 56 \nQ 43.359375 56 49.78125 48.890625 \nQ 56.203125 41.796875 56.203125 29.59375 \nz\nM 47.21875 32.234375 \nQ 47.125 39.59375 43.09375 43.984375 \nQ 39.0625 48.390625 32.421875 48.390625 \nQ 24.90625 48.390625 20.390625 44.140625 \nQ 15.875 39.890625 15.1875 32.171875 \nz\n\" id=\"DejaVuSans-101\"/>\n      </defs>\n      <use xlink:href=\"#DejaVuSans-72\"/>\n      <use x=\"75.195312\" xlink:href=\"#DejaVuSans-121\"/>\n      <use x=\"134.375\" xlink:href=\"#DejaVuSans-112\"/>\n      <use x=\"197.851562\" xlink:href=\"#DejaVuSans-111\"/>\n      <use x=\"259.033203\" xlink:href=\"#DejaVuSans-110\"/>\n      <use x=\"322.412109\" xlink:href=\"#DejaVuSans-121\"/>\n      <use x=\"381.591797\" xlink:href=\"#DejaVuSans-109\"/>\n      <use x=\"479.003906\" xlink:href=\"#DejaVuSans-115\"/>\n      <use x=\"531.103516\" xlink:href=\"#DejaVuSans-32\"/>\n      <use x=\"562.890625\" xlink:href=\"#DejaVuSans-83\"/>\n      <use x=\"626.367188\" xlink:href=\"#DejaVuSans-105\"/>\n      <use x=\"654.150391\" xlink:href=\"#DejaVuSans-103\"/>\n      <use x=\"717.626953\" xlink:href=\"#DejaVuSans-110\"/>\n      <use x=\"781.005859\" xlink:href=\"#DejaVuSans-97\"/>\n      <use x=\"842.285156\" xlink:href=\"#DejaVuSans-116\"/>\n      <use x=\"881.494141\" xlink:href=\"#DejaVuSans-117\"/>\n      <use x=\"944.873047\" xlink:href=\"#DejaVuSans-114\"/>\n      <use x=\"983.736328\" xlink:href=\"#DejaVuSans-101\"/>\n     </g>\n    </g>\n   </g>\n   <g id=\"matplotlib.axis_2\">\n    <g id=\"ytick_1\">\n     <g id=\"line2d_13\">\n      <defs>\n       <path d=\"M 0 0 \nL -3.5 0 \n\" id=\"m17c12c50e8\" style=\"stroke:#000000;stroke-width:0.8;\"/>\n      </defs>\n      <g>\n       <use style=\"stroke:#000000;stroke-width:0.8;\" x=\"40.603125\" xlink:href=\"#m17c12c50e8\" y=\"42.604009\"/>\n      </g>\n     </g>\n     <g id=\"text_8\">\n      <!-- 0 -->\n      <g transform=\"translate(27.240625 46.403227)scale(0.1 -0.1)\">\n       <use xlink:href=\"#DejaVuSans-48\"/>\n      </g>\n     </g>\n    </g>\n    <g id=\"ytick_2\">\n     <g id=\"line2d_14\">\n      <g>\n       <use style=\"stroke:#000000;stroke-width:0.8;\" x=\"40.603125\" xlink:href=\"#m17c12c50e8\" y=\"57.035043\"/>\n      </g>\n     </g>\n     <g id=\"text_9\">\n      <!-- 2 -->\n      <g transform=\"translate(27.240625 60.834262)scale(0.1 -0.1)\">\n       <use xlink:href=\"#DejaVuSans-50\"/>\n      </g>\n     </g>\n    </g>\n    <g id=\"ytick_3\">\n     <g id=\"line2d_15\">\n      <g>\n       <use style=\"stroke:#000000;stroke-width:0.8;\" x=\"40.603125\" xlink:href=\"#m17c12c50e8\" y=\"71.466078\"/>\n      </g>\n     </g>\n     <g id=\"text_10\">\n      <!-- 4 -->\n      <g transform=\"translate(27.240625 75.265296)scale(0.1 -0.1)\">\n       <use xlink:href=\"#DejaVuSans-52\"/>\n      </g>\n     </g>\n    </g>\n    <g id=\"ytick_4\">\n     <g id=\"line2d_16\">\n      <g>\n       <use style=\"stroke:#000000;stroke-width:0.8;\" x=\"40.603125\" xlink:href=\"#m17c12c50e8\" y=\"85.897112\"/>\n      </g>\n     </g>\n     <g id=\"text_11\">\n      <!-- 6 -->\n      <g transform=\"translate(27.240625 89.696331)scale(0.1 -0.1)\">\n       <use xlink:href=\"#DejaVuSans-54\"/>\n      </g>\n     </g>\n    </g>\n    <g id=\"ytick_5\">\n     <g id=\"line2d_17\">\n      <g>\n       <use style=\"stroke:#000000;stroke-width:0.8;\" x=\"40.603125\" xlink:href=\"#m17c12c50e8\" y=\"100.328147\"/>\n      </g>\n     </g>\n     <g id=\"text_12\">\n      <!-- 8 -->\n      <g transform=\"translate(27.240625 104.127365)scale(0.1 -0.1)\">\n       <use xlink:href=\"#DejaVuSans-56\"/>\n      </g>\n     </g>\n    </g>\n    <g id=\"ytick_6\">\n     <g id=\"line2d_18\">\n      <g>\n       <use style=\"stroke:#000000;stroke-width:0.8;\" x=\"40.603125\" xlink:href=\"#m17c12c50e8\" y=\"114.759181\"/>\n      </g>\n     </g>\n     <g id=\"text_13\">\n      <!-- 10 -->\n      <g transform=\"translate(20.878125 118.5584)scale(0.1 -0.1)\">\n       <use xlink:href=\"#DejaVuSans-49\"/>\n       <use x=\"63.623047\" xlink:href=\"#DejaVuSans-48\"/>\n      </g>\n     </g>\n    </g>\n    <g id=\"text_14\">\n     <!-- Concept Definition -->\n     <g transform=\"translate(14.798438 128.769041)rotate(-90)scale(0.1 -0.1)\">\n      <defs>\n       <path d=\"M 64.40625 67.28125 \nL 64.40625 56.890625 \nQ 59.421875 61.53125 53.78125 63.8125 \nQ 48.140625 66.109375 41.796875 66.109375 \nQ 29.296875 66.109375 22.65625 58.46875 \nQ 16.015625 50.828125 16.015625 36.375 \nQ 16.015625 21.96875 22.65625 14.328125 \nQ 29.296875 6.6875 41.796875 6.6875 \nQ 48.140625 6.6875 53.78125 8.984375 \nQ 59.421875 11.28125 64.40625 15.921875 \nL 64.40625 5.609375 \nQ 59.234375 2.09375 53.4375 0.328125 \nQ 47.65625 -1.421875 41.21875 -1.421875 \nQ 24.65625 -1.421875 15.125 8.703125 \nQ 5.609375 18.84375 5.609375 36.375 \nQ 5.609375 53.953125 15.125 64.078125 \nQ 24.65625 74.21875 41.21875 74.21875 \nQ 47.75 74.21875 53.53125 72.484375 \nQ 59.328125 70.75 64.40625 67.28125 \nz\n\" id=\"DejaVuSans-67\"/>\n       <path d=\"M 48.78125 52.59375 \nL 48.78125 44.1875 \nQ 44.96875 46.296875 41.140625 47.34375 \nQ 37.3125 48.390625 33.40625 48.390625 \nQ 24.65625 48.390625 19.8125 42.84375 \nQ 14.984375 37.3125 14.984375 27.296875 \nQ 14.984375 17.28125 19.8125 11.734375 \nQ 24.65625 6.203125 33.40625 6.203125 \nQ 37.3125 6.203125 41.140625 7.25 \nQ 44.96875 8.296875 48.78125 10.40625 \nL 48.78125 2.09375 \nQ 45.015625 0.34375 40.984375 -0.53125 \nQ 36.96875 -1.421875 32.421875 -1.421875 \nQ 20.0625 -1.421875 12.78125 6.34375 \nQ 5.515625 14.109375 5.515625 27.296875 \nQ 5.515625 40.671875 12.859375 48.328125 \nQ 20.21875 56 33.015625 56 \nQ 37.15625 56 41.109375 55.140625 \nQ 45.0625 54.296875 48.78125 52.59375 \nz\n\" id=\"DejaVuSans-99\"/>\n       <path d=\"M 19.671875 64.796875 \nL 19.671875 8.109375 \nL 31.59375 8.109375 \nQ 46.6875 8.109375 53.6875 14.9375 \nQ 60.6875 21.78125 60.6875 36.53125 \nQ 60.6875 51.171875 53.6875 57.984375 \nQ 46.6875 64.796875 31.59375 64.796875 \nz\nM 9.8125 72.90625 \nL 30.078125 72.90625 \nQ 51.265625 72.90625 61.171875 64.09375 \nQ 71.09375 55.28125 71.09375 36.53125 \nQ 71.09375 17.671875 61.125 8.828125 \nQ 51.171875 0 30.078125 0 \nL 9.8125 0 \nz\n\" id=\"DejaVuSans-68\"/>\n       <path d=\"M 37.109375 75.984375 \nL 37.109375 68.5 \nL 28.515625 68.5 \nQ 23.6875 68.5 21.796875 66.546875 \nQ 19.921875 64.59375 19.921875 59.515625 \nL 19.921875 54.6875 \nL 34.71875 54.6875 \nL 34.71875 47.703125 \nL 19.921875 47.703125 \nL 19.921875 0 \nL 10.890625 0 \nL 10.890625 47.703125 \nL 2.296875 47.703125 \nL 2.296875 54.6875 \nL 10.890625 54.6875 \nL 10.890625 58.5 \nQ 10.890625 67.625 15.140625 71.796875 \nQ 19.390625 75.984375 28.609375 75.984375 \nz\n\" id=\"DejaVuSans-102\"/>\n      </defs>\n      <use xlink:href=\"#DejaVuSans-67\"/>\n      <use x=\"69.824219\" xlink:href=\"#DejaVuSans-111\"/>\n      <use x=\"131.005859\" xlink:href=\"#DejaVuSans-110\"/>\n      <use x=\"194.384766\" xlink:href=\"#DejaVuSans-99\"/>\n      <use x=\"249.365234\" xlink:href=\"#DejaVuSans-101\"/>\n      <use x=\"310.888672\" xlink:href=\"#DejaVuSans-112\"/>\n      <use x=\"374.365234\" xlink:href=\"#DejaVuSans-116\"/>\n      <use x=\"413.574219\" xlink:href=\"#DejaVuSans-32\"/>\n      <use x=\"445.361328\" xlink:href=\"#DejaVuSans-68\"/>\n      <use x=\"522.363281\" xlink:href=\"#DejaVuSans-101\"/>\n      <use x=\"583.886719\" xlink:href=\"#DejaVuSans-102\"/>\n      <use x=\"619.091797\" xlink:href=\"#DejaVuSans-105\"/>\n      <use x=\"646.875\" xlink:href=\"#DejaVuSans-110\"/>\n      <use x=\"710.253906\" xlink:href=\"#DejaVuSans-105\"/>\n      <use x=\"738.037109\" xlink:href=\"#DejaVuSans-116\"/>\n      <use x=\"777.246094\" xlink:href=\"#DejaVuSans-105\"/>\n      <use x=\"805.029297\" xlink:href=\"#DejaVuSans-111\"/>\n      <use x=\"866.210938\" xlink:href=\"#DejaVuSans-110\"/>\n     </g>\n    </g>\n   </g>\n   <g id=\"patch_3\">\n    <path d=\"M 40.603125 125.582457 \nL 40.603125 38.99625 \n\" style=\"fill:none;stroke:#000000;stroke-linecap:square;stroke-linejoin:miter;stroke-width:0.8;\"/>\n   </g>\n   <g id=\"patch_4\">\n    <path d=\"M 877.603125 125.582457 \nL 877.603125 38.99625 \n\" style=\"fill:none;stroke:#000000;stroke-linecap:square;stroke-linejoin:miter;stroke-width:0.8;\"/>\n   </g>\n   <g id=\"patch_5\">\n    <path d=\"M 40.603125 125.582457 \nL 877.603125 125.582457 \n\" style=\"fill:none;stroke:#000000;stroke-linecap:square;stroke-linejoin:miter;stroke-width:0.8;\"/>\n   </g>\n   <g id=\"patch_6\">\n    <path d=\"M 40.603125 38.99625 \nL 877.603125 38.99625 \n\" style=\"fill:none;stroke:#000000;stroke-linecap:square;stroke-linejoin:miter;stroke-width:0.8;\"/>\n   </g>\n   <g id=\"text_15\">\n    <!-- Similarity Matrix -->\n    <g transform=\"translate(409.937813 16.318125)scale(0.12 -0.12)\">\n     <defs>\n      <path d=\"M 9.421875 75.984375 \nL 18.40625 75.984375 \nL 18.40625 0 \nL 9.421875 0 \nz\n\" id=\"DejaVuSans-108\"/>\n      <path d=\"M 9.8125 72.90625 \nL 24.515625 72.90625 \nL 43.109375 23.296875 \nL 61.8125 72.90625 \nL 76.515625 72.90625 \nL 76.515625 0 \nL 66.890625 0 \nL 66.890625 64.015625 \nL 48.09375 14.015625 \nL 38.1875 14.015625 \nL 19.390625 64.015625 \nL 19.390625 0 \nL 9.8125 0 \nz\n\" id=\"DejaVuSans-77\"/>\n      <path d=\"M 54.890625 54.6875 \nL 35.109375 28.078125 \nL 55.90625 0 \nL 45.3125 0 \nL 29.390625 21.484375 \nL 13.484375 0 \nL 2.875 0 \nL 24.125 28.609375 \nL 4.6875 54.6875 \nL 15.28125 54.6875 \nL 29.78125 35.203125 \nL 44.28125 54.6875 \nz\n\" id=\"DejaVuSans-120\"/>\n     </defs>\n     <use xlink:href=\"#DejaVuSans-83\"/>\n     <use x=\"63.476562\" xlink:href=\"#DejaVuSans-105\"/>\n     <use x=\"91.259766\" xlink:href=\"#DejaVuSans-109\"/>\n     <use x=\"188.671875\" xlink:href=\"#DejaVuSans-105\"/>\n     <use x=\"216.455078\" xlink:href=\"#DejaVuSans-108\"/>\n     <use x=\"244.238281\" xlink:href=\"#DejaVuSans-97\"/>\n     <use x=\"305.517578\" xlink:href=\"#DejaVuSans-114\"/>\n     <use x=\"346.630859\" xlink:href=\"#DejaVuSans-105\"/>\n     <use x=\"374.414062\" xlink:href=\"#DejaVuSans-116\"/>\n     <use x=\"413.623047\" xlink:href=\"#DejaVuSans-121\"/>\n     <use x=\"472.802734\" xlink:href=\"#DejaVuSans-32\"/>\n     <use x=\"504.589844\" xlink:href=\"#DejaVuSans-77\"/>\n     <use x=\"590.869141\" xlink:href=\"#DejaVuSans-97\"/>\n     <use x=\"652.148438\" xlink:href=\"#DejaVuSans-116\"/>\n     <use x=\"691.357422\" xlink:href=\"#DejaVuSans-114\"/>\n     <use x=\"732.470703\" xlink:href=\"#DejaVuSans-105\"/>\n     <use x=\"760.253906\" xlink:href=\"#DejaVuSans-120\"/>\n    </g>\n   </g>\n  </g>\n </g>\n <defs>\n  <clipPath id=\"p5c8920d510\">\n   <rect height=\"86.586207\" width=\"837\" x=\"40.603125\" y=\"38.99625\"/>\n  </clipPath>\n </defs>\n</svg>\n",
      "image/png": "[encoded data removed]"
     },
     "metadata": {
      "needs_background": "light"
     }
    }
   ],
   "source": [
    "import matplotlib.pyplot as plt\n",
    "fig, ax = plt.subplots(1,1, figsize=(15,10))\n",
    "\n",
    "ax.matshow(similarity_mat)\n",
    "ax.set_title(\"Similarity Matrix\")\n",
    "ax.set_xlabel('Hyponyms Signature')\n",
    "ax.set_ylabel('Concept Definition')"
   ]
  },
  {
   "cell_type": "markdown",
   "source": [
    "### Batch Processing\n",
    "\n",
    "Eseguiamo l'intero algoritmo su tutti i concetti. Il risultato ottenuto è un ranking dei top-k sensi individuati dall'algoritmo. L'ordine nel ranking è dato dalla similarità media.\n",
    "\n",
    "Viene inoltre riporta la distanza (shortest path nella tassonomia) tra i concetti individauti dall'algoritmo e il \"true\" concept (annotato manualmente)."
   ],
   "metadata": {
    "tags": [],
    "cell_id": "00007-c38267d8-cfd1-4af2-938c-5f528ea534fa",
    "deepnote_cell_type": "markdown"
   }
  },
  {
   "cell_type": "code",
   "metadata": {
    "tags": [],
    "cell_id": "00007-d61ece90-28e9-4930-b2fa-aad08c98e7c9",
    "deepnote_to_be_reexecuted": false,
    "source_hash": "fe9447b6",
    "execution_start": 1621103079781,
    "execution_millis": 6092,
    "deepnote_cell_type": "code"
   },
   "source": [
    "MAX_SEARCH_DEPTH = 2\n",
    "TOP_K_SENSES = 5\n",
    "\n",
    "\n",
    "for concept_name, true_concept in zip(concepts.columns, true_concepts):\n",
    "        \n",
    "    concept_signature = concepts[concept_name]\n",
    "\n",
    "    concept_signature = list(filter(lambda c: c is not np.NaN, concept_signature))\n",
    "    top_k = ctof.content_to_form(concept_signature, TOP_K_SENSES, MAX_SEARCH_DEPTH)\n",
    "    \n",
    "    print(f\"Concept: {concept_name}\")\n",
    "    print()\n",
    "    for i, (sense, score) in enumerate(top_k, start=1):\n",
    "        distance = sense.shortest_path_distance(true_concept)\n",
    "        print(f\"{i}. {sense.name()}; score {score:.4f}, distance {distance}\")\n",
    "    print(\"------------------------------------\")"
   ],
   "execution_count": 7,
   "outputs": [
    {
     "output_type": "stream",
     "name": "stdout",
     "text": [
      "Concept: justice\n",
      "\n",
      "1. right.n.01; score 0.1760, distance 12\n",
      "2. right.n.01; score 0.1760, distance 12\n",
      "3. right_field.n.01; score 0.1423, distance 13\n",
      "4. side.n.01; score 0.1423, distance 11\n",
      "5. abstraction.n.06; score 0.1053, distance 5\n",
      "------------------------------------\n",
      "Concept: patience\n",
      "\n",
      "1. aptitude.n.01; score 0.2092, distance 10\n",
      "2. adaptability.n.01; score 0.2092, distance 8\n",
      "3. pons_asinorum.n.01; score 0.2092, distance 12\n",
      "4. difficulty.n.03; score 0.1720, distance 8\n",
      "5. capacity.n.08; score 0.1601, distance 10\n",
      "------------------------------------\n",
      "Concept: greed\n",
      "\n",
      "1. hunger.n.02; score 0.2114, distance 2\n",
      "2. thing.n.11; score 0.2091, distance 8\n",
      "3. wish.n.02; score 0.2091, distance 12\n",
      "4. pile.n.03; score 0.2059, distance 12\n",
      "5. generosity.n.01; score 0.2059, distance 10\n",
      "------------------------------------\n",
      "Concept: politics\n",
      "\n",
      "1. clubroom.n.01; score 0.1456, distance 14\n",
      "2. nonprofit_organization.n.01; score 0.1324, distance 8\n",
      "3. state.n.03; score 0.1099, distance 11\n",
      "4. citizenry.n.01; score 0.1030, distance 7\n",
      "5. commission.n.04; score 0.0975, distance 10\n",
      "------------------------------------\n",
      "Concept: food\n",
      "\n",
      "1. hen-of-the-woods.n.01; score 0.2673, distance 9\n",
      "2. critter.n.01; score 0.1479, distance 9\n",
      "3. water.n.06; score 0.1440, distance 1\n",
      "4. living.n.02; score 0.1269, distance 8\n",
      "5. living.n.02; score 0.1208, distance 8\n",
      "------------------------------------\n",
      "Concept: radiator\n",
      "\n",
      "1. heat_pump.n.01; score 0.2628, distance 6\n",
      "2. heat_of_fusion.n.01; score 0.2484, distance 15\n",
      "3. coldness.n.03; score 0.2381, distance 11\n",
      "4. hotness.n.01; score 0.2381, distance 13\n",
      "5. warmth.n.03; score 0.2381, distance 14\n",
      "------------------------------------\n",
      "Concept: vehicle\n",
      "\n",
      "1. folk.n.01; score 0.2497, distance 11\n",
      "2. hand_truck.n.01; score 0.2384, distance 3\n",
      "3. towpath.n.01; score 0.2190, distance 6\n",
      "4. burial_chamber.n.01; score 0.2190, distance 8\n",
      "5. shunter.n.01; score 0.2190, distance 4\n",
      "------------------------------------\n",
      "Concept: screw\n",
      "\n",
      "1. section.n.04; score 0.3375, distance 9\n",
      "2. amalgam.n.01; score 0.3053, distance 13\n",
      "3. read/write_head.n.01; score 0.3053, distance 7\n",
      "4. copper.n.01; score 0.2708, distance 13\n",
      "5. pin.n.09; score 0.2275, distance 2\n",
      "------------------------------------\n"
     ]
    }
   ]
  },
  {
   "source": [
    "Da un'analisi prettamente qualitativa, si può notare come in tutti i casi l'algoritmo non individua mai il senso corretto, una dinamica che però emerge è che alcuni dei sensi individuati sono nello stesso contesto semantico del concetto target ma certamente non possono essere identificati come suoi iponimi/iperonimi.\n",
    "\n",
    "I pessimi risultati ottenuti sono imputabili principalmente alle seguenti motivazioni:\n",
    "\n",
    "* Da un'analisi qualitativa delle definizioni, ben poche presentano una struttura genus-differentia, viene dunque meno l'assunzione alla base dell'approccio utilizzato.\n",
    "\n",
    "* In alcuni casi (concetto 'greed') alcuni annotatori si riferivano a 'greed.n.01' altri a 'avarice.n.01' indicativo dello scarso intra-agreement tra annotatori, dinamica già vista nella prima esercitazione\n",
    "\n",
    "* La conoscenza codificata in *WordNet* ha prettamente natura semantico-lessicale. Altre risorse come *Conceptnet* e la sua caratterstica di codificare conoscenza di tipo contestuale-associazionale avrebbe potuto aiutare notevolmente nel task in questione."
   ],
   "cell_type": "markdown",
   "metadata": {}
  }
 ],
 "nbformat": 4,
 "nbformat_minor": 2,
 "metadata": {
  "orig_nbformat": 2,
  "deepnote": {
   "is_reactive": false
  },
  "deepnote_notebook_id": "abca75ac-0375-48dc-a996-17d702dc75c3",
  "deepnote_execution_queue": [],
  "kernelspec": {
   "name": "python394jvsc74a57bd000c4925ce5d24b744b1d4673b76423a641f8c01c448e9592271d32b0e3be0330",
   "display_name": "Python 3.9.4 64-bit ('TLN': conda)"
  }
 }
}