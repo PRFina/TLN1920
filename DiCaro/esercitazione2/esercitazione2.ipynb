{
 "cells": [
  {
   "cell_type": "code",
   "metadata": {
    "tags": [],
    "cell_id": "00000-33922ecc-5617-41d4-97a8-657e0a159aab",
    "deepnote_cell_type": "code"
   },
   "source": "# Start writing code here...They are not formally\ndefined in WordNet. Notice that the synset and its genus should belong\nto the same grammatical category. This is not required for differentia. For\nexample, ricotta and its genus (cheese) in the following synset are nouns,\nwhile the differentia contains two adjectives soft and Italian",
   "execution_count": null,
   "outputs": []
  },
  {
   "cell_type": "markdown",
   "source": "Note su genus-differentia:\n\nThey are not formally\ndefined in WordNet. Notice that the synset and its genus should belong\nto the same grammatical category. This is not required for differentia. For\nexample, ricotta and its genus (cheese) in the following synset are nouns,\nwhile the differentia contains two adjectives soft and Italian\n\nfrom http://eprints-phd.biblio.unitn.it/1265/1/phd-thesis.pdf",
   "metadata": {
    "tags": [],
    "cell_id": "00001-0851cb57-208b-42af-94b9-f4ceb032a9b0",
    "deepnote_cell_type": "markdown"
   }
  },
  {
   "cell_type": "code",
   "metadata": {
    "tags": [],
    "cell_id": "00002-3cc3248b-8a78-421e-84d1-39dd503f0646",
    "deepnote_to_be_reexecuted": false,
    "source_hash": "abbdc93f",
    "execution_start": 1621032043197,
    "execution_millis": 2951,
    "deepnote_cell_type": "code"
   },
   "source": "import pandas as pd\nfrom pathlib import Path\nimport nltk\n\nimport src.word_sense_disambiguation as wsd\n\nnltk.download('wordnet')\nnltk.download('punkt')\nnltk.download('stopwords')\nnltk.download('averaged_perceptron_tagger')",
   "execution_count": null,
   "outputs": [
    {
     "name": "stderr",
     "text": "[nltk_data] Downloading package wordnet to /root/nltk_data...\n[nltk_data]   Unzipping corpora/wordnet.zip.\n[nltk_data] Downloading package punkt to /root/nltk_data...\n[nltk_data]   Unzipping tokenizers/punkt.zip.\n[nltk_data] Downloading package stopwords to /root/nltk_data...\n[nltk_data]   Unzipping corpora/stopwords.zip.\n[nltk_data] Downloading package averaged_perceptron_tagger to\n[nltk_data]     /root/nltk_data...\n[nltk_data]   Unzipping taggers/averaged_perceptron_tagger.zip.\n",
     "output_type": "stream"
    },
    {
     "output_type": "execute_result",
     "execution_count": 1,
     "data": {
      "text/plain": "True"
     },
     "metadata": {}
    }
   ]
  },
  {
   "cell_type": "code",
   "metadata": {
    "tags": [],
    "cell_id": "00003-37f16e47-2f12-4a48-b180-63d799b13da5",
    "deepnote_to_be_reexecuted": false,
    "source_hash": "9fdb0782",
    "execution_start": 1621032107960,
    "execution_millis": 30,
    "deepnote_cell_type": "code"
   },
   "source": "concepts = pd.read_csv(Path(\"data/definitions.tsv\"), sep=\"\\t\")\n\ndefinitions = concepts['Concetto 1']\n\npos = []\n\nfor definition in definitions:\n    pos.extend(nltk.pos_tag(nltk.word_tokenize(definition)))\n\n# pos is a pair (lemma, pos type)\ncandidates = map(lambda pos: pos[0], filter(lambda pos: pos[1] in ['NN'], pos))\n\nlong_context = \" \".join(definitions)\n\nfor candidate in set(candidates):\n    found = nltk.wsd.lesk(wsd.bow_model(long_context),candidate,'n')\n    print(f\"{candidate}-{found}: {found.definition()}\")",
   "execution_count": null,
   "outputs": [
    {
     "name": "stdout",
     "text": "abstract-Synset('outline.n.02'): a sketchy summary of the main points of an argument or theory\ncompliance-Synset('complaisance.n.01'): a disposition or tendency to yield to the will of others\ncommunity-Synset('community.n.06'): (ecology) a group of interdependent organisms inhabiting the same region and interacting with each other\nfront-Synset('movement.n.04'): a group of people with a common ideology who try together to achieve certain general goals\nprinciple-Synset('principle.n.01'): a basic generalization that is accepted as true and that can be used as a basis for reasoning or conduct\ncondition-Synset('condition.n.08'): the procedure that is varied in order to estimate a variable's effect by comparison with a control condition\nentity-Synset('entity.n.01'): that which is perceived or known or inferred to have its own distinct existence (living or nonliving)\nconcept-Synset('concept.n.01'): an abstract or general idea inferred or derived from specific instances\nidea-Synset('theme.n.03'): (music) melodic subject of a musical composition\ncode-Synset('code.n.03'): (computer science) the symbolic arrangement of data or instructions in a computer program or the set of such instructions\nview-Synset('opinion.n.02'): a message expressing a belief about something; the expression of a belief that is held with confidence but not substantiated by positive knowledge or proof\nquality-Synset('quality.n.03'): a characteristic property that defines the apparent individual nature of something\napplication-Synset('application.n.04'): a program that gives a computer instructions that provide the user with tools to accomplish a task\nrespect-Synset('esteem.n.01'): the condition of being honored (esteemed or respected or well regarded)\nfairness-Synset('comeliness.n.01'): the quality of being good looking and attractive\nequality-Synset('equality.n.01'): the quality of being the same in quantity or measure or value or status\nrecognition-Synset('recognition.n.08'): designation by the chair granting a person the right to speak in a deliberative body\n",
     "output_type": "stream"
    }
   ]
  },
  {
   "cell_type": "code",
   "metadata": {
    "tags": [],
    "cell_id": "00004-42d7799a-a1db-4a1a-b1e2-e17672ffae68",
    "deepnote_to_be_reexecuted": false,
    "source_hash": "59d36a3e",
    "execution_start": 1621031232221,
    "execution_millis": 3,
    "deepnote_cell_type": "code"
   },
   "source": "#def build_concept_bow(definitions):\nbow = set()\n\nfor definition in definitions:\n    bow = bow.union(wsd.bow_model(definition)) \n\n\n    ",
   "execution_count": null,
   "outputs": []
  },
  {
   "cell_type": "code",
   "metadata": {
    "tags": [],
    "cell_id": "00005-5620d84f-b340-4353-bc10-536cfa2bc730",
    "deepnote_to_be_reexecuted": false,
    "source_hash": "95ddf04b",
    "execution_start": 1621031236290,
    "execution_millis": 47,
    "deepnote_cell_type": "code"
   },
   "source": "bow",
   "execution_count": null,
   "outputs": [
    {
     "output_type": "execute_result",
     "execution_count": 79,
     "data": {
      "text/plain": "{'.',\n 'To',\n 'Usually',\n 'a',\n 'abstract',\n 'administrated',\n 'agree',\n 'all',\n 'allows',\n 'and',\n 'application',\n 'based',\n 'being',\n 'by',\n 'code',\n 'community',\n 'compliance',\n 'concept',\n 'condition',\n 'correct',\n 'courts',\n 'determining',\n 'entity',\n 'equality',\n 'fair',\n 'fairness',\n 'for',\n 'front',\n 'idea',\n 'in',\n 'involved',\n 'is',\n 'just',\n 'laws',\n 'legal',\n 'moral',\n 'morally',\n 'most',\n 'of',\n 'on',\n 'other',\n 'parts',\n 'people',\n 'points',\n 'principle',\n 'public',\n 'quality',\n 'reasonable',\n 'recognition',\n 'refers',\n 'respect',\n 'right',\n 'rights',\n 'rules',\n 'shared',\n 'that',\n 'the',\n 'their',\n 'to',\n 'view',\n 'what',\n 'when',\n 'with'}"
     },
     "metadata": {}
    }
   ]
  },
  {
   "cell_type": "code",
   "metadata": {
    "tags": [],
    "cell_id": "00005-6bf1fefa-ec5a-494e-88be-bfca5ca3b544",
    "deepnote_to_be_reexecuted": false,
    "source_hash": "2a22ec97",
    "execution_start": 1621030958843,
    "execution_millis": 9,
    "deepnote_cell_type": "code"
   },
   "source": "a = set()\na)",
   "execution_count": null,
   "outputs": [
    {
     "output_type": "execute_result",
     "execution_count": 62,
     "data": {
      "text/plain": "{1, 2, 3}"
     },
     "metadata": {}
    }
   ]
  },
  {
   "cell_type": "code",
   "metadata": {
    "tags": [],
    "cell_id": "00004-9bfadfe2-ef3c-42a6-929e-5cc647970e93",
    "deepnote_to_be_reexecuted": false,
    "source_hash": "1c322dae",
    "execution_start": 1621030021239,
    "execution_millis": 6,
    "deepnote_cell_type": "code"
   },
   "source": "from nltk.corpus import wordnet as wn\n\nwn.synsets('fairness', 'n')[0].definition()",
   "execution_count": null,
   "outputs": [
    {
     "output_type": "execute_result",
     "execution_count": 49,
     "data": {
      "text/plain": "'conformity with rules or standards'"
     },
     "metadata": {}
    }
   ]
  },
  {
   "cell_type": "markdown",
   "source": "<a style='text-decoration:none;line-height:16px;display:flex;color:#5B5B62;padding:10px;justify-content:end;' href='https://deepnote.com?utm_source=created-in-deepnote-cell&projectId=afb22156-bb61-4d65-847d-18db79c0d4d2' target=\"_blank\">\n<img alt='Created in deepnote.com' style='display:inline;max-height:16px;margin:0px;margin-right:7.5px;' src='data:image/svg+xml;base64,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' > </img>\nCreated in <span style='font-weight:600;margin-left:4px;'>Deepnote</span></a>",
   "metadata": {
    "tags": [],
    "created_in_deepnote_cell": true,
    "deepnote_cell_type": "markdown"
   }
  }
 ],
 "nbformat": 4,
 "nbformat_minor": 2,
 "metadata": {
  "orig_nbformat": 2,
  "deepnote": {
   "is_reactive": false
  },
  "deepnote_notebook_id": "abca75ac-0375-48dc-a996-17d702dc75c3",
  "deepnote_execution_queue": []
 }
}