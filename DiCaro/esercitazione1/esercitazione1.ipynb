{
 "cells": [
  {
   "cell_type": "code",
   "metadata": {
    "tags": [],
    "cell_id": "00001-9bf3b9fd-9878-4441-b5d5-72c2e23d76c6",
    "deepnote_to_be_reexecuted": false,
    "source_hash": "c88063fe",
    "execution_start": 1620683977947,
    "execution_millis": 2351,
    "is_code_hidden": false,
    "deepnote_cell_type": "code"
   },
   "source": "import pandas as pd\nimport nltk as nltk\nfrom nltk.corpus import stopwords\nimport numpy as np\nfrom pathlib import Path\nimport itertools as it\n\nimport matplotlib.pyplot as plt\n",
   "outputs": [],
   "execution_count": null
  },
  {
   "cell_type": "markdown",
   "source": "### Load Data\n\nCome primo step carichiamo il file di annotazioni fornito.",
   "metadata": {
    "tags": [],
    "cell_id": "00001-d7d18391-0857-4ae8-96cf-753f5da2495c",
    "is_code_hidden": false,
    "deepnote_cell_type": "markdown"
   }
  },
  {
   "cell_type": "code",
   "metadata": {
    "tags": [],
    "cell_id": "00002-ef2334d7-ac4a-43fa-ba78-4dcf7a8dd33b",
    "deepnote_to_be_reexecuted": false,
    "source_hash": "7ce4d2e9",
    "execution_start": 1620683980303,
    "execution_millis": 5,
    "is_code_hidden": false,
    "deepnote_cell_type": "code"
   },
   "source": "defs_df = pd.read_csv(Path(\"data/definitions.csv\"), sep=\";\")\n\n# extract elements from level#1_level#2_concept col names\nold_col_names = defs_df.columns\nnew_col_names = [\"_\".join(name.split(\"_\")[0:2]) for name in old_col_names] \nconcept_names = [name.split(\"_\")[-1] for name in old_col_names]\n\ndefs_df.columns = new_col_names",
   "outputs": [],
   "execution_count": null
  },
  {
   "cell_type": "code",
   "source": "old_col_names",
   "metadata": {
    "tags": [],
    "cell_id": "00003-1fd0f6c6-758a-4391-ad52-cc013852fa1e",
    "deepnote_to_be_reexecuted": false,
    "source_hash": "49788aa9",
    "execution_start": 1620683980317,
    "execution_millis": 11,
    "deepnote_cell_type": "code"
   },
   "outputs": [
    {
     "output_type": "execute_result",
     "execution_count": 3,
     "data": {
      "text/plain": "Index(['concreto_generico_building', 'concreto_specifico_molecule',\n       'astratto_generico_freedom', 'astratto_specifico_compassion'],\n      dtype='object')"
     },
     "metadata": {}
    }
   ],
   "execution_count": null
  },
  {
   "cell_type": "markdown",
   "source": "Visualizziamo le prime 10 definizioni per i 4 concetti:\n* *Building* (concreto-generico)\n* *Molecule* (concreto-specifico)\n* *Freedom* (astratto-generico)\n* *Compassion* (astratto-specifico)",
   "metadata": {
    "tags": [],
    "cell_id": "00003-b3d69ed2-cbfc-4428-b779-2f1491498079",
    "deepnote_cell_type": "markdown"
   }
  },
  {
   "cell_type": "code",
   "source": "defs_df.head(10)",
   "metadata": {
    "tags": [],
    "cell_id": "00003-da348624-1242-46aa-83ca-4761b21d70c1",
    "deepnote_to_be_reexecuted": false,
    "source_hash": "a57bc9b3",
    "execution_start": 1620683980325,
    "execution_millis": 30,
    "is_code_hidden": false,
    "deepnote_cell_type": "code"
   },
   "outputs": [
    {
     "output_type": "execute_result",
     "execution_count": 4,
     "data": {
      "application/vnd.deepnote.dataframe.v2+json": {
       "row_count": 10,
       "column_count": 4,
       "columns": [
        {
         "name": "concreto_generico",
         "dtype": "object",
         "stats": {
          "unique_count": 10,
          "nan_count": 0,
          "categories": [
           {
            "name": "concrete structure typically made with cement ",
            "count": 1
           },
           {
            "name": "structure that hasa walls  and roof",
            "count": 1
           },
           {
            "name": "8 others",
            "count": 8
           }
          ]
         }
        },
        {
         "name": "concreto_specifico",
         "dtype": "object",
         "stats": {
          "unique_count": 10,
          "nan_count": 0,
          "categories": [
           {
            "name": "A chemistry term that describes the smallest part of an obj",
            "count": 1
           },
           {
            "name": "group of atoms",
            "count": 1
           },
           {
            "name": "8 others",
            "count": 8
           }
          ]
         }
        },
        {
         "name": "astratto_generico",
         "dtype": "object",
         "stats": {
          "unique_count": 10,
          "nan_count": 0,
          "categories": [
           {
            "name": "unconditional choice",
            "count": 1
           },
           {
            "name": "without constrains",
            "count": 1
           },
           {
            "name": "8 others",
            "count": 8
           }
          ]
         }
        },
        {
         "name": "astratto_specifico",
         "dtype": "object",
         "stats": {
          "unique_count": 10,
          "nan_count": 0,
          "categories": [
           {
            "name": "comprehension",
            "count": 1
           },
           {
            "name": "be sensitive and understandable towards a person",
            "count": 1
           },
           {
            "name": "8 others",
            "count": 8
           }
          ]
         }
        },
        {
         "name": "_deepnote_index_column",
         "dtype": "int64"
        }
       ],
       "rows_top": [
        {
         "concreto_generico": "concrete structure typically made with cement ",
         "concreto_specifico": "A chemistry term that describes the smallest part of an obj",
         "astratto_generico": "unconditional choice",
         "astratto_specifico": "comprehension",
         "_deepnote_index_column": 0
        },
        {
         "concreto_generico": "structure that hasa walls  and roof",
         "concreto_specifico": "group of atoms",
         "astratto_generico": "without constrains",
         "astratto_specifico": "be sensitive and understandable towards a person",
         "_deepnote_index_column": 1
        },
        {
         "concreto_generico": "Human artifact dedicated to various purposes, including sheltering people from the outside world.",
         "concreto_specifico": "Chemical component formed by combinations of atoms",
         "astratto_generico": "The lack of physical or mental constraints.",
         "astratto_specifico": "The ability to experience other people's negative emotions.",
         "_deepnote_index_column": 2
        },
        {
         "concreto_generico": "a construction where you can live inside",
         "concreto_specifico": "set of atoms, that is components of which everything is made",
         "astratto_generico": "live without constrains, a state of mind",
         "astratto_specifico": "sympathetic attitude",
         "_deepnote_index_column": 3
        },
        {
         "concreto_generico": "structure where people can stay",
         "concreto_specifico": "invisible thing , everything is made of it",
         "astratto_generico": "conceptual idea where no one can limitate other people expression",
         "astratto_specifico": "undterstand the suffering and feel sad for it",
         "_deepnote_index_column": 4
        },
        {
         "concreto_generico": "A construction made for living or decorative purposes",
         "concreto_specifico": "a specific element that composes things",
         "astratto_generico": "possibility to make decisions",
         "astratto_specifico": "sad feeling towards someone",
         "_deepnote_index_column": 5
        },
        {
         "concreto_generico": "Architectural structure with one or more levels (floors) used to host people and/or objects. It can be made of various materials and have underground sections.",
         "concreto_specifico": "One of the smallest sub-structures of matter; it consists of atoms",
         "astratto_generico": "The ability of one to make free choices and act by following his;",
         "astratto_specifico": "The ability of one to make free choices and act by following his/her own will and thoughts without external inhibitions.",
         "_deepnote_index_column": 6
        },
        {
         "concreto_generico": "object built with material",
         "concreto_specifico": "invisible particle",
         "astratto_generico": "autonomy to do something",
         "astratto_specifico": "understanding a bad situation",
         "_deepnote_index_column": 7
        },
        {
         "concreto_generico": "An architectural structure",
         "concreto_specifico": "Amount of substance",
         "astratto_generico": "a state of autonomy",
         "astratto_specifico": "Understand the mood of others",
         "_deepnote_index_column": 8
        },
        {
         "concreto_generico": "a structure consisting of walls and foundations, used for various purposes",
         "concreto_specifico": "the smallest amount of matter",
         "astratto_generico": "possibility to move, think independently",
         "astratto_specifico": "understand a bad situation and take action to improve it",
         "_deepnote_index_column": 9
        }
       ],
       "rows_bottom": null
      },
      "text/plain": "                                   concreto_generico  \\\n0     concrete structure typically made with cement    \n1                structure that hasa walls  and roof   \n2  Human artifact dedicated to various purposes, ...   \n3           a construction where you can live inside   \n4                    structure where people can stay   \n5  A construction made for living or decorative p...   \n6  Architectural structure with one or more level...   \n7                         object built with material   \n8                         An architectural structure   \n9  a structure consisting of walls and foundation...   \n\n                                  concreto_specifico  \\\n0  A chemistry term that describes the smallest p...   \n1                                     group of atoms   \n2  Chemical component formed by combinations of a...   \n3  set of atoms, that is components of which ever...   \n4         invisible thing , everything is made of it   \n5            a specific element that composes things   \n6  One of the smallest sub-structures of matter; ...   \n7                                 invisible particle   \n8                                Amount of substance   \n9                      the smallest amount of matter   \n\n                                   astratto_generico  \\\n0                               unconditional choice   \n1                                 without constrains   \n2        The lack of physical or mental constraints.   \n3           live without constrains, a state of mind   \n4  conceptual idea where no one can limitate othe...   \n5                      possibility to make decisions   \n6  The ability of one to make free choices and ac...   \n7                           autonomy to do something   \n8                                a state of autonomy   \n9           possibility to move, think independently   \n\n                                  astratto_specifico  \n0                                      comprehension  \n1   be sensitive and understandable towards a person  \n2  The ability to experience other people's negat...  \n3                               sympathetic attitude  \n4      undterstand the suffering and feel sad for it  \n5                        sad feeling towards someone  \n6  The ability of one to make free choices and ac...  \n7                      understanding a bad situation  \n8                      Understand the mood of others  \n9  understand a bad situation and take action to ...  ",
      "text/html": "<div>\n<style scoped>\n    .dataframe tbody tr th:only-of-type {\n        vertical-align: middle;\n    }\n\n    .dataframe tbody tr th {\n        vertical-align: top;\n    }\n\n    .dataframe thead th {\n        text-align: right;\n    }\n</style>\n<table border=\"1\" class=\"dataframe\">\n  <thead>\n    <tr style=\"text-align: right;\">\n      <th></th>\n      <th>concreto_generico</th>\n      <th>concreto_specifico</th>\n      <th>astratto_generico</th>\n      <th>astratto_specifico</th>\n    </tr>\n  </thead>\n  <tbody>\n    <tr>\n      <th>0</th>\n      <td>concrete structure typically made with cement</td>\n      <td>A chemistry term that describes the smallest p...</td>\n      <td>unconditional choice</td>\n      <td>comprehension</td>\n    </tr>\n    <tr>\n      <th>1</th>\n      <td>structure that hasa walls  and roof</td>\n      <td>group of atoms</td>\n      <td>without constrains</td>\n      <td>be sensitive and understandable towards a person</td>\n    </tr>\n    <tr>\n      <th>2</th>\n      <td>Human artifact dedicated to various purposes, ...</td>\n      <td>Chemical component formed by combinations of a...</td>\n      <td>The lack of physical or mental constraints.</td>\n      <td>The ability to experience other people's negat...</td>\n    </tr>\n    <tr>\n      <th>3</th>\n      <td>a construction where you can live inside</td>\n      <td>set of atoms, that is components of which ever...</td>\n      <td>live without constrains, a state of mind</td>\n      <td>sympathetic attitude</td>\n    </tr>\n    <tr>\n      <th>4</th>\n      <td>structure where people can stay</td>\n      <td>invisible thing , everything is made of it</td>\n      <td>conceptual idea where no one can limitate othe...</td>\n      <td>undterstand the suffering and feel sad for it</td>\n    </tr>\n    <tr>\n      <th>5</th>\n      <td>A construction made for living or decorative p...</td>\n      <td>a specific element that composes things</td>\n      <td>possibility to make decisions</td>\n      <td>sad feeling towards someone</td>\n    </tr>\n    <tr>\n      <th>6</th>\n      <td>Architectural structure with one or more level...</td>\n      <td>One of the smallest sub-structures of matter; ...</td>\n      <td>The ability of one to make free choices and ac...</td>\n      <td>The ability of one to make free choices and ac...</td>\n    </tr>\n    <tr>\n      <th>7</th>\n      <td>object built with material</td>\n      <td>invisible particle</td>\n      <td>autonomy to do something</td>\n      <td>understanding a bad situation</td>\n    </tr>\n    <tr>\n      <th>8</th>\n      <td>An architectural structure</td>\n      <td>Amount of substance</td>\n      <td>a state of autonomy</td>\n      <td>Understand the mood of others</td>\n    </tr>\n    <tr>\n      <th>9</th>\n      <td>a structure consisting of walls and foundation...</td>\n      <td>the smallest amount of matter</td>\n      <td>possibility to move, think independently</td>\n      <td>understand a bad situation and take action to ...</td>\n    </tr>\n  </tbody>\n</table>\n</div>"
     },
     "metadata": {}
    }
   ],
   "execution_count": null
  },
  {
   "cell_type": "markdown",
   "source": "Come già descritto in precedenza, l'obiettivo principale dell'esercitazione è quantificare la **difficoltà** di definizione di concetti, valutandola attraverso la **variabilità** delle definizioni date da 20 annotatori.\n\nPer portare a termine il task necessitiamo dunque di valutare la **similarità** delle differenti definizioni per ciascun concetto. La pipeline si articola nei seguenti step principali:\n\n1. Scelta della rappresentazione computazionale delle definizioni\n2. Preprocessing\n3. Calcolo della **similarità media** tra tutte le possibili **combinazioni di coppie** di definizioni\n4. Visualizzazione dei risultati\n\nSeguendo la pipeline appena descritta, verranno utilizzate due metodologie differenti:\n* Rappresentazione bag-of-words e funzione di similarità basata su overlap:\n\n$$ \\operatorname{sim}(D_1, D_2) = \\frac{|d_1 \\cap d_2|}{\\min(|d_1|, |d_2|)} $$\n\n* Rappresentazione vettoriale e cosine similarity\n\n$$ \\operatorname{sim}(\\mathbf{d_1}, \\mathbf{d_2}) = \\frac{\\mathbf{d_1}\\cdot\\mathbf{d_2}}{||\\mathbf{d_1}||||\\mathbf{d_2}||} $$\n\ndove $D_1, D_2$ e $\\mathbf{d_1}, \\mathbf{d_2}$ rappresentano rispettivamente due definizioni in forma bag-of-word e vettoriale.\n",
   "metadata": {
    "tags": [],
    "cell_id": "00006-e44e555e-028d-493c-a7ca-25a2f32ddfcd",
    "deepnote_cell_type": "markdown"
   }
  },
  {
   "cell_type": "code",
   "metadata": {
    "tags": [],
    "cell_id": "00003-6372415d-4e65-4ac4-aad8-4c8cc2e90766",
    "deepnote_to_be_reexecuted": false,
    "source_hash": "3065c7af",
    "execution_start": 1620683980362,
    "execution_millis": 4,
    "is_code_hidden": false,
    "deepnote_cell_type": "code"
   },
   "source": "def preprocess(definition):\n\n    # Tokenization\n    definition = definition.lower()\n    tokens = set(nltk.word_tokenize(definition))\n\n    # Removing stopwords\n    stop_words = set(stopwords.words('english'))\n    punct = {',', ';', '(', ')', '{', '}', ':', '?', '!', '.', \"'s\"}    \n    tokens = tokens.difference((stop_words.union(punct)))\n\n    # Lemmatization\n    lemmatizer = nltk.WordNetLemmatizer()\n    lemmatized_tokens = set(lemmatizer.lemmatize(token) for token in tokens)\n\n    return lemmatized_tokens\n\n\ndef overlap_similarity(bow1, bow2):\n    return len(bow1 & bow2) / min(len(bow1), len(bow2))\n\n\ndef concept_matrix_similarity(definitions, preprocess_func, sim_func):\n    defs_df = definitions.copy()\n    avg_scores = {}\n\n    for col in defs_df.columns:\n        # apply preprocessing function\n        defs_df[col] = defs_df.apply(lambda x: preprocess_func(x[col]), axis=1)\n        # compute similarites for every definitions combinations pairs\n        sim_scores = np.array([sim_func(def1,def2) for def1, def2 in it.combinations(defs_df[col], 2)])\n        # compute avg similarity\n        avg_scores[col] = sim_scores.mean()\n    \n    return avg_scores, np.array(list(avg_scores.values())).reshape((2,2))\n\n\ndef plot_matrix(scores, ax, title):\n    print(scores)\n    col_labels = ['Generico', 'Specifico']\n    row_labels = ['Concreto', 'Astratto']\n    line_color = '#2143c2'\n    text_color = '#292d33'\n    \n    ax.set_title(title, color=text_color)\n\n    ax.imshow(np.ones((2,2)), cmap='binary')  \n\n    ax.set_xticks([0,1])\n    ax.set_yticks([0,1])\n    ax.set_xticklabels(col_labels, fontsize='large', color=text_color)\n    ax.set_yticklabels(row_labels, fontsize='large', color=text_color)\n\n    ax.spines[['top','bottom','right','left']].set_color(line_color)\n    ax.spines[['top','bottom','right','left']].set_linewidth(1.8)\n    ax.spines[['top','bottom','right','left']].set_alpha(0.85)\n\n    ax.axvline(0.5, color=line_color, alpha=0.35)\n    ax.axhline(0.5, color=line_color, alpha=0.35)\n    for i in range(2):\n        for j in range(2):\n            ax.text(j,i, f\"{scores[i,j]:10.4f}\", \n                        ha=\"center\", va=\"center\",\n                        fontsize='medium',\n                        color=text_color)",
   "outputs": [],
   "execution_count": null
  },
  {
   "cell_type": "code",
   "source": "_, avg_scores = concept_matrix_similarity(defs_df.copy(), preprocess, overlap_similarity)\n\nfig, axes = plt.subplots(1,2,figsize=(10,20), dpi=100)\nplot_matrix(avg_scores, axes[0], \"Avg Similarity with Overlapping\")",
   "metadata": {
    "tags": [],
    "cell_id": "00004-f060ab92-702d-4a74-85ec-7996a9a3f174",
    "deepnote_to_be_reexecuted": false,
    "source_hash": "790f7c02",
    "execution_start": 1620683980370,
    "execution_millis": 1912,
    "is_code_hidden": false,
    "deepnote_cell_type": "code"
   },
   "outputs": [
    {
     "name": "stdout",
     "text": "[[0.26417432 0.1625731 ]\n [0.08401559 0.08469786]]\n",
     "output_type": "stream"
    },
    {
     "data": {
      "text/plain": "<Figure size 1000x2000 with 2 Axes>",
      "image/png": "[encoded data removed]"
     },
     "metadata": {
      "needs_background": "light",
      "image/png": {
       "width": 890,
       "height": 1559
      }
     },
     "output_type": "display_data"
    }
   ],
   "execution_count": null
  },
  {
   "cell_type": "markdown",
   "source": "### Vector Space Model",
   "metadata": {
    "tags": [],
    "cell_id": "00009-f1b84de0-d2ec-4472-8949-f7a621362647",
    "deepnote_cell_type": "markdown"
   }
  },
  {
   "cell_type": "markdown",
   "source": "",
   "metadata": {
    "tags": [],
    "deepnote_cell_type": "text-cell-p"
   }
  },
  {
   "cell_type": "code",
   "source": "from  sklearn.feature_extraction.text import CountVectorizer\nfrom sklearn.metrics.pairwise import cosine_similarity\n",
   "metadata": {
    "tags": [],
    "cell_id": "00009-547d57f1-025c-4fda-94f1-d6d484c03910",
    "deepnote_to_be_reexecuted": false,
    "source_hash": "fd4ba626",
    "execution_start": 1620683982275,
    "execution_millis": 3,
    "deepnote_cell_type": "code"
   },
   "outputs": [],
   "execution_count": null
  },
  {
   "cell_type": "code",
   "source": "def vsm_preprocess(definition, vectorizer):\n    return vectorizer.transform([definition])\n\n\ndef concept_matrix_similarity_vsm(definitions, preprocess_func, sim_func):\n    defs_df = definitions.copy()\n    avg_scores = {}\n\n    for col in defs_df.columns:\n        # per-concept vectorization \n        vectorizer = CountVectorizer(analyzer='word', stop_words='english').fit(defs_df[col])\n        # apply preprocessing function\n        defs_df[col] = defs_df.apply(lambda x: preprocess_func(x[col], vectorizer), axis=1)\n        # compute similarites for every definitions combinations pairs\n        sim_scores = np.array([sim_func(def1,def2) for def1, def2 in it.combinations(defs_df[col], 2)])\n        # compute avg similarity\n        avg_scores[col] = sim_scores.mean()\n    \n    return avg_scores, np.array(list(avg_scores.values())).reshape((2,2))\n",
   "metadata": {
    "tags": [],
    "cell_id": "00011-f8509ca0-73ff-4586-9613-aeaf0c92cda3",
    "deepnote_to_be_reexecuted": false,
    "source_hash": "3e7a0f52",
    "execution_start": 1620683982284,
    "execution_millis": 3,
    "deepnote_cell_type": "code"
   },
   "outputs": [],
   "execution_count": null
  },
  {
   "cell_type": "code",
   "source": "\n\n_, avg_scores = concept_matrix_similarity_vsm(defs_df.copy(), vsm_preprocess, cosine_similarity)\nplot_matrix(avg_scores, axes[1], \"avg similarity with cosine similarity\")",
   "metadata": {
    "tags": [],
    "cell_id": "00012-533776cf-c079-4e3c-8d05-0d341def848c",
    "deepnote_to_be_reexecuted": false,
    "source_hash": "fab064f6",
    "execution_start": 1620683982297,
    "execution_millis": 536,
    "deepnote_cell_type": "code"
   },
   "outputs": [
    {
     "name": "stdout",
     "text": "[[0.18829939 0.08760498]\n [0.063414   0.06817438]]\n",
     "output_type": "stream"
    }
   ],
   "execution_count": null
  },
  {
   "cell_type": "code",
   "source": "fig",
   "metadata": {
    "tags": [],
    "cell_id": "00012-654150dd-c62e-4d7d-ba14-e2dbc1c7359f",
    "deepnote_to_be_reexecuted": false,
    "source_hash": "d5a5c09a",
    "execution_start": 1620683982882,
    "execution_millis": 171,
    "deepnote_cell_type": "code"
   },
   "outputs": [
    {
     "output_type": "execute_result",
     "execution_count": 10,
     "data": {
      "text/plain": "<Figure size 1000x2000 with 2 Axes>",
      "image/png": "[encoded data removed]"
     },
     "metadata": {
      "image/png": {
       "width": 879,
       "height": 422
      }
     }
    }
   ],
   "execution_count": null
  },
  {
   "cell_type": "markdown",
   "source": "## Risultati\n\nDall'analisi dei due plot emoergono due importanti dinamiche sui valori ottenuti:\n\n* I valori di similarità calano nettamente passando dall concetto concreto rispetto a quello astratto. Altrettanto non si può dire passando dal concetto generico a quello specifico, in cui la similarità medi si riduce meno drasticamente.\n\n* I valori di similarità nel secondo caso con l'utilizzo del VSM si riducono sensibilmente. Da un'analisi della matrice terms-document emerge come lo spazio sia altamente sparso su un numero così ridotto di campioni. \n\nParticolare attenzione bisogna porre alla generalizzazione di questi risultati, in quanto l'intera analisi è stata svolta su un piccolissimo campione, tale da non essere statiticamente rilevante! ",
   "metadata": {
    "tags": [],
    "cell_id": "00015-8c8537dd-63a6-4faa-a6fd-11e961600c8c",
    "deepnote_cell_type": "markdown"
   }
  },
  {
   "cell_type": "markdown",
   "source": "<a style='text-decoration:none;line-height:16px;display:flex;color:#5B5B62;padding:10px;justify-content:end;' href='https://deepnote.com?utm_source=created-in-deepnote-cell&projectId=afb22156-bb61-4d65-847d-18db79c0d4d2' target=\"_blank\">\n<img alt='Created in deepnote.com' style='display:inline;max-height:16px;margin:0px;margin-right:7.5px;' src='data:image/svg+xml;base64,PD94bWwgdmVyc2lvbj0iMS4wIiBlbmNvZGluZz0iVVRGLTgiPz4KPHN2ZyB3aWR0aD0iODBweCIgaGVpZ2h0PSI4MHB4IiB2aWV3Qm94PSIwIDAgODAgODAiIHZlcnNpb249IjEuMSIgeG1sbnM9Imh0dHA6Ly93d3cudzMub3JnLzIwMDAvc3ZnIiB4bWxuczp4bGluaz0iaHR0cDovL3d3dy53My5vcmcvMTk5OS94bGluayI+CiAgICA8IS0tIEdlbmVyYXRvcjogU2tldGNoIDU0LjEgKDc2NDkwKSAtIGh0dHBzOi8vc2tldGNoYXBwLmNvbSAtLT4KICAgIDx0aXRsZT5Hcm91cCAzPC90aXRsZT4KICAgIDxkZXNjPkNyZWF0ZWQgd2l0aCBTa2V0Y2guPC9kZXNjPgogICAgPGcgaWQ9IkxhbmRpbmciIHN0cm9rZT0ibm9uZSIgc3Ryb2tlLXdpZHRoPSIxIiBmaWxsPSJub25lIiBmaWxsLXJ1bGU9ImV2ZW5vZGQiPgogICAgICAgIDxnIGlkPSJBcnRib2FyZCIgdHJhbnNmb3JtPSJ0cmFuc2xhdGUoLTEyMzUuMDAwMDAwLCAtNzkuMDAwMDAwKSI+CiAgICAgICAgICAgIDxnIGlkPSJHcm91cC0zIiB0cmFuc2Zvcm09InRyYW5zbGF0ZSgxMjM1LjAwMDAwMCwgNzkuMDAwMDAwKSI+CiAgICAgICAgICAgICAgICA8cG9seWdvbiBpZD0iUGF0aC0yMCIgZmlsbD0iIzAyNjVCNCIgcG9pbnRzPSIyLjM3NjIzNzYyIDgwIDM4LjA0NzY2NjcgODAgNTcuODIxNzgyMiA3My44MDU3NTkyIDU3LjgyMTc4MjIgMzIuNzU5MjczOSAzOS4xNDAyMjc4IDMxLjY4MzE2ODMiPjwvcG9seWdvbj4KICAgICAgICAgICAgICAgIDxwYXRoIGQ9Ik0zNS4wMDc3MTgsODAgQzQyLjkwNjIwMDcsNzYuNDU0OTM1OCA0Ny41NjQ5MTY3LDcxLjU0MjI2NzEgNDguOTgzODY2LDY1LjI2MTk5MzkgQzUxLjExMjI4OTksNTUuODQxNTg0MiA0MS42NzcxNzk1LDQ5LjIxMjIyODQgMjUuNjIzOTg0Niw0OS4yMTIyMjg0IEMyNS40ODQ5Mjg5LDQ5LjEyNjg0NDggMjkuODI2MTI5Niw0My4yODM4MjQ4IDM4LjY0NzU4NjksMzEuNjgzMTY4MyBMNzIuODcxMjg3MSwzMi41NTQ0MjUgTDY1LjI4MDk3Myw2Ny42NzYzNDIxIEw1MS4xMTIyODk5LDc3LjM3NjE0NCBMMzUuMDA3NzE4LDgwIFoiIGlkPSJQYXRoLTIyIiBmaWxsPSIjMDAyODY4Ij48L3BhdGg+CiAgICAgICAgICAgICAgICA8cGF0aCBkPSJNMCwzNy43MzA0NDA1IEwyNy4xMTQ1MzcsMC4yNTcxMTE0MzYgQzYyLjM3MTUxMjMsLTEuOTkwNzE3MDEgODAsMTAuNTAwMzkyNyA4MCwzNy43MzA0NDA1IEM4MCw2NC45NjA0ODgyIDY0Ljc3NjUwMzgsNzkuMDUwMzQxNCAzNC4zMjk1MTEzLDgwIEM0Ny4wNTUzNDg5LDc3LjU2NzA4MDggNTMuNDE4MjY3Nyw3MC4zMTM2MTAzIDUzLjQxODI2NzcsNTguMjM5NTg4NSBDNTMuNDE4MjY3Nyw0MC4xMjg1NTU3IDM2LjMwMzk1NDQsMzcuNzMwNDQwNSAyNS4yMjc0MTcsMzcuNzMwNDQwNSBDMTcuODQzMDU4NiwzNy43MzA0NDA1IDkuNDMzOTE5NjYsMzcuNzMwNDQwNSAwLDM3LjczMDQ0MDUgWiIgaWQ9IlBhdGgtMTkiIGZpbGw9IiMzNzkzRUYiPjwvcGF0aD4KICAgICAgICAgICAgPC9nPgogICAgICAgIDwvZz4KICAgIDwvZz4KPC9zdmc+' > </img>\nCreated in <span style='font-weight:600;margin-left:4px;'>Deepnote</span></a>",
   "metadata": {
    "tags": [],
    "created_in_deepnote_cell": true,
    "deepnote_cell_type": "markdown"
   }
  }
 ],
 "nbformat": 4,
 "nbformat_minor": 2,
 "metadata": {
  "orig_nbformat": 2,
  "deepnote": {
   "is_reactive": false
  },
  "deepnote_notebook_id": "221508f4-bd10-40f1-9450-55ff5bf5f4dd",
  "deepnote_execution_queue": []
 }
}