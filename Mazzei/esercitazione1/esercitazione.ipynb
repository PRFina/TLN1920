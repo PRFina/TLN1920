{
 "cells": [
  {
   "cell_type": "code",
   "execution_count": 36,
   "metadata": {},
   "outputs": [],
   "source": [
    "from pathlib import Path\n",
    "\n",
    "import numpy as np\n",
    "import pandas as pd\n",
    "import plotly.express as px\n",
    "import plotly.graph_objects as go\n",
    "from collections import Counter\n",
    "import pyconll\n",
    "\n",
    "UPOS_TAGSET = { \"ADJ\": \"OPEN\",\t            \t    \n",
    "                \"ADV\": \"OPEN\",\t            \t    \n",
    "                \"INTJ\": \"OPEN\",            \t    \n",
    "                \"NOUN\": \"OPEN\",            \t \n",
    "                \"PROPN\": \"OPEN\",\t        \t \n",
    "                \"VERB\": \"OPEN\",            \t \n",
    "                \"ADP\": \"CLOSED\",\n",
    "                \"AUX\": \"CLOSED\",\n",
    "                \"CCONJ\": \"CLOSED\",\n",
    "                \"DET\": \"CLOSED\",\n",
    "                \"NUM\": \"CLOSED\",\n",
    "                \"PART\": \"CLOSED\",\n",
    "                \"PRON\": \"CLOSED\",\n",
    "                \"SCONJ\": \"CLOSED\",\t      \n",
    "                \"PUNCT\": \"OTHER\",\n",
    "                \"SYM\": \"OTHER\",\n",
    "                \"X\": \"OTHER\"}\n",
    "\n",
    "%load_ext autoreload\n",
    "%autoreload"
   ]
  },
  {
   "cell_type": "code",
   "execution_count": 64,
   "metadata": {},
   "outputs": [],
   "source": [
    "# Greek\n",
    "TRAIN_FILE = Path(\"data/UD_Ancient_Greek-Perseus/grc_perseus-ud-train.conllu\")  \n",
    "DEV_FILE =  Path(\"data/UD_Ancient_Greek-Perseus/grc_perseus-ud-dev.conllu\")  \n",
    "TEST_FILE = Path(\"data/UD_Ancient_Greek-Perseus/grc_perseus-ud-test.conllu\")\n",
    "\n",
    "# Latin\n",
    "TRAIN_FILE = Path(\"data/UD_Latin-LLCT/la_llct-ud-train.conllu\")  \n",
    "DEV_FILE = Path(\"data/UD_Latin-LLCT/la_llct-ud-dev.conllu\")  \n",
    "TEST_FILE = Path(\"data/UD_Latin-LLCT/la_llct-ud-test.conllu\")  \n",
    "  \n",
    "import src.utils as utils\n",
    "\n",
    "train_tokens, train_tags = utils.preprocess_data(pyconll.load_from_file(TRAIN_FILE))\n",
    "dev_tokens, dev_tags = utils.preprocess_data(pyconll.load_from_file(DEV_FILE))\n",
    "test_tokens, test_tags = utils.preprocess_data(pyconll.load_from_file(TEST_FILE))\n",
    "\n",
    "dataset_tokens = train_tokens + dev_tokens + test_tokens\n",
    "dataset_tags = train_tags +  dev_tags + test_tags"
   ]
  },
  {
   "cell_type": "markdown",
   "metadata": {},
   "source": [
    "## EDA"
   ]
  },
  {
   "cell_type": "code",
   "execution_count": 65,
   "metadata": {},
   "outputs": [],
   "source": [
    "import numpy as np\n",
    "\n",
    "n_sentences = len(dataset_tokens)\n",
    "ntokens_per_sent_distribution = Counter([len(sent) for sent in dataset_tokens])\n",
    "pos_distribution = Counter([tag for tag_seq in dataset_tags for tag in tag_seq])\n",
    "token_distribution = Counter([token for sent in dataset_tokens for token in sent])\n",
    "\n",
    "sentences_lengths = np.array(list(ntokens_per_sent_distribution.keys()))\n",
    "sentences_lengths_freqs = np.array(list(ntokens_per_sent_distribution.values()))\n",
    "\n",
    "sorted_idx = np.argsort(sentences_lengths)\n",
    "sentences_lengths = sentences_lengths[sorted_idx]\n",
    "sentences_lengths_freqs = sentences_lengths_freqs [sorted_idx]"
   ]
  },
  {
   "cell_type": "code",
   "execution_count": 66,
   "metadata": {},
   "outputs": [
    {
     "data": {
      "application/vnd.plotly.v1+json": {
       "config": {
        "plotlyServerURL": "https://plot.ly"
       },
       "data": [
        {
         "name": "Overall",
         "orientation": "v",
         "type": "bar",
         "x": [
          2,
          3,
          4,
          5,
          6,
          7,
          8,
          9,
          10,
          11,
          12,
          13,
          14,
          15,
          16,
          17,
          18,
          19,
          20,
          21,
          22,
          23,
          24,
          25,
          26,
          27,
          28,
          29,
          30,
          31,
          32,
          33,
          34,
          35,
          36,
          37,
          38,
          39,
          40,
          41,
          42,
          43,
          44,
          45,
          46,
          47,
          48,
          49,
          50,
          51,
          52,
          53,
          54,
          55,
          56,
          57,
          58,
          59,
          60,
          61,
          62,
          63,
          64,
          65,
          66,
          67,
          68,
          69,
          70,
          71,
          72,
          73,
          74,
          75,
          76,
          77,
          78,
          79,
          80,
          81,
          82,
          83,
          84,
          85,
          86,
          87,
          88,
          89,
          90,
          91,
          92,
          93,
          94,
          95,
          96,
          97,
          98,
          99,
          100,
          101,
          102,
          103,
          104,
          105,
          106,
          107,
          108,
          109,
          110,
          111,
          112,
          113,
          114,
          115,
          116,
          117,
          118,
          119,
          120,
          121,
          122,
          123,
          125,
          126,
          127,
          129,
          130,
          131,
          132,
          133,
          135,
          136,
          137,
          138,
          140,
          141,
          142,
          144,
          145,
          147,
          148,
          149,
          150,
          151,
          152,
          153,
          154,
          155,
          156,
          157,
          161,
          169,
          175,
          178,
          179,
          181,
          182,
          183,
          195,
          201,
          208,
          238,
          264,
          274,
          282,
          334,
          368
         ],
         "xaxis": "x",
         "y": [
          2,
          461,
          47,
          98,
          309,
          137,
          206,
          171,
          932,
          561,
          912,
          814,
          529,
          150,
          133,
          113,
          70,
          70,
          55,
          45,
          45,
          53,
          53,
          85,
          104,
          82,
          66,
          87,
          64,
          56,
          54,
          54,
          57,
          48,
          48,
          49,
          43,
          47,
          61,
          53,
          49,
          37,
          46,
          39,
          41,
          42,
          28,
          33,
          40,
          57,
          50,
          43,
          40,
          41,
          37,
          45,
          49,
          40,
          29,
          46,
          32,
          40,
          57,
          44,
          47,
          51,
          49,
          34,
          32,
          43,
          36,
          30,
          24,
          37,
          30,
          21,
          34,
          21,
          22,
          23,
          22,
          22,
          27,
          12,
          8,
          13,
          12,
          14,
          12,
          6,
          20,
          12,
          10,
          12,
          8,
          9,
          12,
          12,
          11,
          11,
          10,
          9,
          9,
          6,
          4,
          5,
          5,
          6,
          4,
          5,
          3,
          10,
          4,
          2,
          4,
          5,
          6,
          3,
          2,
          3,
          6,
          2,
          2,
          7,
          7,
          1,
          3,
          2,
          2,
          3,
          3,
          3,
          1,
          2,
          3,
          2,
          2,
          2,
          3,
          3,
          2,
          2,
          2,
          1,
          1,
          1,
          1,
          1,
          1,
          1,
          1,
          1,
          1,
          2,
          1,
          1,
          1,
          1,
          1,
          1,
          1,
          1,
          1,
          1,
          1,
          1,
          1
         ],
         "yaxis": "y"
        },
        {
         "name": "length < 50",
         "orientation": "v",
         "type": "bar",
         "x": [
          2,
          3,
          4,
          5,
          6,
          7,
          8,
          9,
          10,
          11,
          12,
          13,
          14,
          15,
          16,
          17,
          18,
          19,
          20,
          21,
          22,
          23,
          24,
          25,
          26,
          27,
          28,
          29,
          30,
          31,
          32,
          33,
          34,
          35,
          36,
          37,
          38,
          39,
          40,
          41,
          42,
          43,
          44,
          45,
          46,
          47,
          48,
          49,
          50,
          51,
          52,
          53,
          54,
          55,
          56,
          57,
          58,
          59,
          60,
          61,
          62,
          63,
          64,
          65,
          66,
          67,
          68,
          69,
          70,
          71,
          72,
          73,
          74,
          75,
          76,
          77,
          78,
          79,
          80,
          81,
          82,
          83,
          84,
          85,
          86,
          87,
          88,
          89,
          90,
          91,
          92,
          93,
          94,
          95,
          96,
          97,
          98,
          99,
          100,
          101,
          102,
          103,
          104,
          105,
          106,
          107,
          108,
          109,
          110,
          111,
          112,
          113,
          114,
          115,
          116,
          117,
          118,
          119,
          120,
          121,
          122,
          123,
          125,
          126,
          127,
          129,
          130,
          131,
          132,
          133,
          135,
          136,
          137,
          138,
          140,
          141,
          142,
          144,
          145,
          147,
          148,
          149,
          150,
          151,
          152,
          153,
          154,
          155,
          156,
          157,
          161,
          169,
          175,
          178,
          179,
          181,
          182,
          183,
          195,
          201,
          208,
          238,
          264,
          274,
          282,
          334,
          368
         ],
         "xaxis": "x2",
         "y": [
          2,
          461,
          47,
          98,
          309,
          137,
          206,
          171,
          932,
          561,
          912,
          814,
          529,
          150,
          133,
          113,
          70,
          70,
          55,
          45,
          45,
          53,
          53,
          85,
          104,
          82,
          66,
          87,
          64,
          56,
          54,
          54,
          57,
          48,
          48,
          49,
          43,
          47,
          61,
          53,
          49,
          37,
          46,
          39,
          41,
          42,
          28,
          33,
          40,
          57,
          50,
          43,
          40,
          41,
          37,
          45,
          49,
          40,
          29,
          46,
          32,
          40,
          57,
          44,
          47,
          51,
          49,
          34,
          32,
          43,
          36,
          30,
          24,
          37,
          30,
          21,
          34,
          21,
          22,
          23,
          22,
          22,
          27,
          12,
          8,
          13,
          12,
          14,
          12,
          6,
          20,
          12,
          10,
          12,
          8,
          9,
          12,
          12,
          11,
          11,
          10,
          9,
          9,
          6,
          4,
          5,
          5,
          6,
          4,
          5,
          3,
          10,
          4,
          2,
          4,
          5,
          6,
          3,
          2,
          3,
          6,
          2,
          2,
          7,
          7,
          1,
          3,
          2,
          2,
          3,
          3,
          3,
          1,
          2,
          3,
          2,
          2,
          2,
          3,
          3,
          2,
          2,
          2,
          1,
          1,
          1,
          1,
          1,
          1,
          1,
          1,
          1,
          1,
          2,
          1,
          1,
          1,
          1,
          1,
          1,
          1,
          1,
          1,
          1,
          1,
          1,
          1
         ],
         "yaxis": "y2"
        },
        {
         "name": "length < 150",
         "orientation": "v",
         "type": "bar",
         "x": [
          2,
          3,
          4,
          5,
          6,
          7,
          8,
          9,
          10,
          11,
          12,
          13,
          14,
          15,
          16,
          17,
          18,
          19,
          20,
          21,
          22,
          23,
          24,
          25,
          26,
          27,
          28,
          29,
          30,
          31,
          32,
          33,
          34,
          35,
          36,
          37,
          38,
          39,
          40,
          41,
          42,
          43,
          44,
          45,
          46,
          47,
          48,
          49,
          50,
          51,
          52,
          53,
          54,
          55,
          56,
          57,
          58,
          59,
          60,
          61,
          62,
          63,
          64,
          65,
          66,
          67,
          68,
          69,
          70,
          71,
          72,
          73,
          74,
          75,
          76,
          77,
          78,
          79,
          80,
          81,
          82,
          83,
          84,
          85,
          86,
          87,
          88,
          89,
          90,
          91,
          92,
          93,
          94,
          95,
          96,
          97,
          98,
          99,
          100,
          101,
          102,
          103,
          104,
          105,
          106,
          107,
          108,
          109,
          110,
          111,
          112,
          113,
          114,
          115,
          116,
          117,
          118,
          119,
          120,
          121,
          122,
          123,
          125,
          126,
          127,
          129,
          130,
          131,
          132,
          133,
          135,
          136,
          137,
          138,
          140,
          141,
          142,
          144,
          145,
          147,
          148,
          149,
          150,
          151,
          152,
          153,
          154,
          155,
          156,
          157,
          161,
          169,
          175,
          178,
          179,
          181,
          182,
          183,
          195,
          201,
          208,
          238,
          264,
          274,
          282,
          334,
          368
         ],
         "xaxis": "x3",
         "y": [
          2,
          461,
          47,
          98,
          309,
          137,
          206,
          171,
          932,
          561,
          912,
          814,
          529,
          150,
          133,
          113,
          70,
          70,
          55,
          45,
          45,
          53,
          53,
          85,
          104,
          82,
          66,
          87,
          64,
          56,
          54,
          54,
          57,
          48,
          48,
          49,
          43,
          47,
          61,
          53,
          49,
          37,
          46,
          39,
          41,
          42,
          28,
          33,
          40,
          57,
          50,
          43,
          40,
          41,
          37,
          45,
          49,
          40,
          29,
          46,
          32,
          40,
          57,
          44,
          47,
          51,
          49,
          34,
          32,
          43,
          36,
          30,
          24,
          37,
          30,
          21,
          34,
          21,
          22,
          23,
          22,
          22,
          27,
          12,
          8,
          13,
          12,
          14,
          12,
          6,
          20,
          12,
          10,
          12,
          8,
          9,
          12,
          12,
          11,
          11,
          10,
          9,
          9,
          6,
          4,
          5,
          5,
          6,
          4,
          5,
          3,
          10,
          4,
          2,
          4,
          5,
          6,
          3,
          2,
          3,
          6,
          2,
          2,
          7,
          7,
          1,
          3,
          2,
          2,
          3,
          3,
          3,
          1,
          2,
          3,
          2,
          2,
          2,
          3,
          3,
          2,
          2,
          2,
          1,
          1,
          1,
          1,
          1,
          1,
          1,
          1,
          1,
          1,
          2,
          1,
          1,
          1,
          1,
          1,
          1,
          1,
          1,
          1,
          1,
          1,
          1,
          1
         ],
         "yaxis": "y3"
        },
        {
         "name": "length > 150",
         "orientation": "v",
         "type": "bar",
         "x": [
          2,
          3,
          4,
          5,
          6,
          7,
          8,
          9,
          10,
          11,
          12,
          13,
          14,
          15,
          16,
          17,
          18,
          19,
          20,
          21,
          22,
          23,
          24,
          25,
          26,
          27,
          28,
          29,
          30,
          31,
          32,
          33,
          34,
          35,
          36,
          37,
          38,
          39,
          40,
          41,
          42,
          43,
          44,
          45,
          46,
          47,
          48,
          49,
          50,
          51,
          52,
          53,
          54,
          55,
          56,
          57,
          58,
          59,
          60,
          61,
          62,
          63,
          64,
          65,
          66,
          67,
          68,
          69,
          70,
          71,
          72,
          73,
          74,
          75,
          76,
          77,
          78,
          79,
          80,
          81,
          82,
          83,
          84,
          85,
          86,
          87,
          88,
          89,
          90,
          91,
          92,
          93,
          94,
          95,
          96,
          97,
          98,
          99,
          100,
          101,
          102,
          103,
          104,
          105,
          106,
          107,
          108,
          109,
          110,
          111,
          112,
          113,
          114,
          115,
          116,
          117,
          118,
          119,
          120,
          121,
          122,
          123,
          125,
          126,
          127,
          129,
          130,
          131,
          132,
          133,
          135,
          136,
          137,
          138,
          140,
          141,
          142,
          144,
          145,
          147,
          148,
          149,
          150,
          151,
          152,
          153,
          154,
          155,
          156,
          157,
          161,
          169,
          175,
          178,
          179,
          181,
          182,
          183,
          195,
          201,
          208,
          238,
          264,
          274,
          282,
          334,
          368
         ],
         "xaxis": "x4",
         "y": [
          2,
          461,
          47,
          98,
          309,
          137,
          206,
          171,
          932,
          561,
          912,
          814,
          529,
          150,
          133,
          113,
          70,
          70,
          55,
          45,
          45,
          53,
          53,
          85,
          104,
          82,
          66,
          87,
          64,
          56,
          54,
          54,
          57,
          48,
          48,
          49,
          43,
          47,
          61,
          53,
          49,
          37,
          46,
          39,
          41,
          42,
          28,
          33,
          40,
          57,
          50,
          43,
          40,
          41,
          37,
          45,
          49,
          40,
          29,
          46,
          32,
          40,
          57,
          44,
          47,
          51,
          49,
          34,
          32,
          43,
          36,
          30,
          24,
          37,
          30,
          21,
          34,
          21,
          22,
          23,
          22,
          22,
          27,
          12,
          8,
          13,
          12,
          14,
          12,
          6,
          20,
          12,
          10,
          12,
          8,
          9,
          12,
          12,
          11,
          11,
          10,
          9,
          9,
          6,
          4,
          5,
          5,
          6,
          4,
          5,
          3,
          10,
          4,
          2,
          4,
          5,
          6,
          3,
          2,
          3,
          6,
          2,
          2,
          7,
          7,
          1,
          3,
          2,
          2,
          3,
          3,
          3,
          1,
          2,
          3,
          2,
          2,
          2,
          3,
          3,
          2,
          2,
          2,
          1,
          1,
          1,
          1,
          1,
          1,
          1,
          1,
          1,
          1,
          2,
          1,
          1,
          1,
          1,
          1,
          1,
          1,
          1,
          1,
          1,
          1,
          1,
          1
         ],
         "yaxis": "y4"
        }
       ],
       "layout": {
        "annotations": [
         {
          "arrowhead": 2,
          "showarrow": true,
          "text": "Most common<br>sentence length",
          "x": 10,
          "xref": "x",
          "y": 932,
          "yref": "y"
         },
         {
          "arrowhead": 2,
          "showarrow": true,
          "text": "Longest <br>sentence",
          "x": 368,
          "xref": "x",
          "y": 1,
          "yref": "y"
         }
        ],
        "height": 600,
        "template": {
         "data": {
          "bar": [
           {
            "error_x": {
             "color": "#2a3f5f"
            },
            "error_y": {
             "color": "#2a3f5f"
            },
            "marker": {
             "line": {
              "color": "#E5ECF6",
              "width": 0.5
             },
             "pattern": {
              "fillmode": "overlay",
              "size": 10,
              "solidity": 0.2
             }
            },
            "type": "bar"
           }
          ],
          "barpolar": [
           {
            "marker": {
             "line": {
              "color": "#E5ECF6",
              "width": 0.5
             },
             "pattern": {
              "fillmode": "overlay",
              "size": 10,
              "solidity": 0.2
             }
            },
            "type": "barpolar"
           }
          ],
          "carpet": [
           {
            "aaxis": {
             "endlinecolor": "#2a3f5f",
             "gridcolor": "white",
             "linecolor": "white",
             "minorgridcolor": "white",
             "startlinecolor": "#2a3f5f"
            },
            "baxis": {
             "endlinecolor": "#2a3f5f",
             "gridcolor": "white",
             "linecolor": "white",
             "minorgridcolor": "white",
             "startlinecolor": "#2a3f5f"
            },
            "type": "carpet"
           }
          ],
          "choropleth": [
           {
            "colorbar": {
             "outlinewidth": 0,
             "ticks": ""
            },
            "type": "choropleth"
           }
          ],
          "contour": [
           {
            "colorbar": {
             "outlinewidth": 0,
             "ticks": ""
            },
            "colorscale": [
             [
              0,
              "#0d0887"
             ],
             [
              0.1111111111111111,
              "#46039f"
             ],
             [
              0.2222222222222222,
              "#7201a8"
             ],
             [
              0.3333333333333333,
              "#9c179e"
             ],
             [
              0.4444444444444444,
              "#bd3786"
             ],
             [
              0.5555555555555556,
              "#d8576b"
             ],
             [
              0.6666666666666666,
              "#ed7953"
             ],
             [
              0.7777777777777778,
              "#fb9f3a"
             ],
             [
              0.8888888888888888,
              "#fdca26"
             ],
             [
              1,
              "#f0f921"
             ]
            ],
            "type": "contour"
           }
          ],
          "contourcarpet": [
           {
            "colorbar": {
             "outlinewidth": 0,
             "ticks": ""
            },
            "type": "contourcarpet"
           }
          ],
          "heatmap": [
           {
            "colorbar": {
             "outlinewidth": 0,
             "ticks": ""
            },
            "colorscale": [
             [
              0,
              "#0d0887"
             ],
             [
              0.1111111111111111,
              "#46039f"
             ],
             [
              0.2222222222222222,
              "#7201a8"
             ],
             [
              0.3333333333333333,
              "#9c179e"
             ],
             [
              0.4444444444444444,
              "#bd3786"
             ],
             [
              0.5555555555555556,
              "#d8576b"
             ],
             [
              0.6666666666666666,
              "#ed7953"
             ],
             [
              0.7777777777777778,
              "#fb9f3a"
             ],
             [
              0.8888888888888888,
              "#fdca26"
             ],
             [
              1,
              "#f0f921"
             ]
            ],
            "type": "heatmap"
           }
          ],
          "heatmapgl": [
           {
            "colorbar": {
             "outlinewidth": 0,
             "ticks": ""
            },
            "colorscale": [
             [
              0,
              "#0d0887"
             ],
             [
              0.1111111111111111,
              "#46039f"
             ],
             [
              0.2222222222222222,
              "#7201a8"
             ],
             [
              0.3333333333333333,
              "#9c179e"
             ],
             [
              0.4444444444444444,
              "#bd3786"
             ],
             [
              0.5555555555555556,
              "#d8576b"
             ],
             [
              0.6666666666666666,
              "#ed7953"
             ],
             [
              0.7777777777777778,
              "#fb9f3a"
             ],
             [
              0.8888888888888888,
              "#fdca26"
             ],
             [
              1,
              "#f0f921"
             ]
            ],
            "type": "heatmapgl"
           }
          ],
          "histogram": [
           {
            "marker": {
             "pattern": {
              "fillmode": "overlay",
              "size": 10,
              "solidity": 0.2
             }
            },
            "type": "histogram"
           }
          ],
          "histogram2d": [
           {
            "colorbar": {
             "outlinewidth": 0,
             "ticks": ""
            },
            "colorscale": [
             [
              0,
              "#0d0887"
             ],
             [
              0.1111111111111111,
              "#46039f"
             ],
             [
              0.2222222222222222,
              "#7201a8"
             ],
             [
              0.3333333333333333,
              "#9c179e"
             ],
             [
              0.4444444444444444,
              "#bd3786"
             ],
             [
              0.5555555555555556,
              "#d8576b"
             ],
             [
              0.6666666666666666,
              "#ed7953"
             ],
             [
              0.7777777777777778,
              "#fb9f3a"
             ],
             [
              0.8888888888888888,
              "#fdca26"
             ],
             [
              1,
              "#f0f921"
             ]
            ],
            "type": "histogram2d"
           }
          ],
          "histogram2dcontour": [
           {
            "colorbar": {
             "outlinewidth": 0,
             "ticks": ""
            },
            "colorscale": [
             [
              0,
              "#0d0887"
             ],
             [
              0.1111111111111111,
              "#46039f"
             ],
             [
              0.2222222222222222,
              "#7201a8"
             ],
             [
              0.3333333333333333,
              "#9c179e"
             ],
             [
              0.4444444444444444,
              "#bd3786"
             ],
             [
              0.5555555555555556,
              "#d8576b"
             ],
             [
              0.6666666666666666,
              "#ed7953"
             ],
             [
              0.7777777777777778,
              "#fb9f3a"
             ],
             [
              0.8888888888888888,
              "#fdca26"
             ],
             [
              1,
              "#f0f921"
             ]
            ],
            "type": "histogram2dcontour"
           }
          ],
          "mesh3d": [
           {
            "colorbar": {
             "outlinewidth": 0,
             "ticks": ""
            },
            "type": "mesh3d"
           }
          ],
          "parcoords": [
           {
            "line": {
             "colorbar": {
              "outlinewidth": 0,
              "ticks": ""
             }
            },
            "type": "parcoords"
           }
          ],
          "pie": [
           {
            "automargin": true,
            "type": "pie"
           }
          ],
          "scatter": [
           {
            "marker": {
             "colorbar": {
              "outlinewidth": 0,
              "ticks": ""
             }
            },
            "type": "scatter"
           }
          ],
          "scatter3d": [
           {
            "line": {
             "colorbar": {
              "outlinewidth": 0,
              "ticks": ""
             }
            },
            "marker": {
             "colorbar": {
              "outlinewidth": 0,
              "ticks": ""
             }
            },
            "type": "scatter3d"
           }
          ],
          "scattercarpet": [
           {
            "marker": {
             "colorbar": {
              "outlinewidth": 0,
              "ticks": ""
             }
            },
            "type": "scattercarpet"
           }
          ],
          "scattergeo": [
           {
            "marker": {
             "colorbar": {
              "outlinewidth": 0,
              "ticks": ""
             }
            },
            "type": "scattergeo"
           }
          ],
          "scattergl": [
           {
            "marker": {
             "colorbar": {
              "outlinewidth": 0,
              "ticks": ""
             }
            },
            "type": "scattergl"
           }
          ],
          "scattermapbox": [
           {
            "marker": {
             "colorbar": {
              "outlinewidth": 0,
              "ticks": ""
             }
            },
            "type": "scattermapbox"
           }
          ],
          "scatterpolar": [
           {
            "marker": {
             "colorbar": {
              "outlinewidth": 0,
              "ticks": ""
             }
            },
            "type": "scatterpolar"
           }
          ],
          "scatterpolargl": [
           {
            "marker": {
             "colorbar": {
              "outlinewidth": 0,
              "ticks": ""
             }
            },
            "type": "scatterpolargl"
           }
          ],
          "scatterternary": [
           {
            "marker": {
             "colorbar": {
              "outlinewidth": 0,
              "ticks": ""
             }
            },
            "type": "scatterternary"
           }
          ],
          "surface": [
           {
            "colorbar": {
             "outlinewidth": 0,
             "ticks": ""
            },
            "colorscale": [
             [
              0,
              "#0d0887"
             ],
             [
              0.1111111111111111,
              "#46039f"
             ],
             [
              0.2222222222222222,
              "#7201a8"
             ],
             [
              0.3333333333333333,
              "#9c179e"
             ],
             [
              0.4444444444444444,
              "#bd3786"
             ],
             [
              0.5555555555555556,
              "#d8576b"
             ],
             [
              0.6666666666666666,
              "#ed7953"
             ],
             [
              0.7777777777777778,
              "#fb9f3a"
             ],
             [
              0.8888888888888888,
              "#fdca26"
             ],
             [
              1,
              "#f0f921"
             ]
            ],
            "type": "surface"
           }
          ],
          "table": [
           {
            "cells": {
             "fill": {
              "color": "#EBF0F8"
             },
             "line": {
              "color": "white"
             }
            },
            "header": {
             "fill": {
              "color": "#C8D4E3"
             },
             "line": {
              "color": "white"
             }
            },
            "type": "table"
           }
          ]
         },
         "layout": {
          "annotationdefaults": {
           "arrowcolor": "#2a3f5f",
           "arrowhead": 0,
           "arrowwidth": 1
          },
          "autotypenumbers": "strict",
          "coloraxis": {
           "colorbar": {
            "outlinewidth": 0,
            "ticks": ""
           }
          },
          "colorscale": {
           "diverging": [
            [
             0,
             "#8e0152"
            ],
            [
             0.1,
             "#c51b7d"
            ],
            [
             0.2,
             "#de77ae"
            ],
            [
             0.3,
             "#f1b6da"
            ],
            [
             0.4,
             "#fde0ef"
            ],
            [
             0.5,
             "#f7f7f7"
            ],
            [
             0.6,
             "#e6f5d0"
            ],
            [
             0.7,
             "#b8e186"
            ],
            [
             0.8,
             "#7fbc41"
            ],
            [
             0.9,
             "#4d9221"
            ],
            [
             1,
             "#276419"
            ]
           ],
           "sequential": [
            [
             0,
             "#0d0887"
            ],
            [
             0.1111111111111111,
             "#46039f"
            ],
            [
             0.2222222222222222,
             "#7201a8"
            ],
            [
             0.3333333333333333,
             "#9c179e"
            ],
            [
             0.4444444444444444,
             "#bd3786"
            ],
            [
             0.5555555555555556,
             "#d8576b"
            ],
            [
             0.6666666666666666,
             "#ed7953"
            ],
            [
             0.7777777777777778,
             "#fb9f3a"
            ],
            [
             0.8888888888888888,
             "#fdca26"
            ],
            [
             1,
             "#f0f921"
            ]
           ],
           "sequentialminus": [
            [
             0,
             "#0d0887"
            ],
            [
             0.1111111111111111,
             "#46039f"
            ],
            [
             0.2222222222222222,
             "#7201a8"
            ],
            [
             0.3333333333333333,
             "#9c179e"
            ],
            [
             0.4444444444444444,
             "#bd3786"
            ],
            [
             0.5555555555555556,
             "#d8576b"
            ],
            [
             0.6666666666666666,
             "#ed7953"
            ],
            [
             0.7777777777777778,
             "#fb9f3a"
            ],
            [
             0.8888888888888888,
             "#fdca26"
            ],
            [
             1,
             "#f0f921"
            ]
           ]
          },
          "colorway": [
           "#636efa",
           "#EF553B",
           "#00cc96",
           "#ab63fa",
           "#FFA15A",
           "#19d3f3",
           "#FF6692",
           "#B6E880",
           "#FF97FF",
           "#FECB52"
          ],
          "font": {
           "color": "#2a3f5f"
          },
          "geo": {
           "bgcolor": "white",
           "lakecolor": "white",
           "landcolor": "#E5ECF6",
           "showlakes": true,
           "showland": true,
           "subunitcolor": "white"
          },
          "hoverlabel": {
           "align": "left"
          },
          "hovermode": "closest",
          "mapbox": {
           "style": "light"
          },
          "paper_bgcolor": "white",
          "plot_bgcolor": "#E5ECF6",
          "polar": {
           "angularaxis": {
            "gridcolor": "white",
            "linecolor": "white",
            "ticks": ""
           },
           "bgcolor": "#E5ECF6",
           "radialaxis": {
            "gridcolor": "white",
            "linecolor": "white",
            "ticks": ""
           }
          },
          "scene": {
           "xaxis": {
            "backgroundcolor": "#E5ECF6",
            "gridcolor": "white",
            "gridwidth": 2,
            "linecolor": "white",
            "showbackground": true,
            "ticks": "",
            "zerolinecolor": "white"
           },
           "yaxis": {
            "backgroundcolor": "#E5ECF6",
            "gridcolor": "white",
            "gridwidth": 2,
            "linecolor": "white",
            "showbackground": true,
            "ticks": "",
            "zerolinecolor": "white"
           },
           "zaxis": {
            "backgroundcolor": "#E5ECF6",
            "gridcolor": "white",
            "gridwidth": 2,
            "linecolor": "white",
            "showbackground": true,
            "ticks": "",
            "zerolinecolor": "white"
           }
          },
          "shapedefaults": {
           "line": {
            "color": "#2a3f5f"
           }
          },
          "ternary": {
           "aaxis": {
            "gridcolor": "white",
            "linecolor": "white",
            "ticks": ""
           },
           "baxis": {
            "gridcolor": "white",
            "linecolor": "white",
            "ticks": ""
           },
           "bgcolor": "#E5ECF6",
           "caxis": {
            "gridcolor": "white",
            "linecolor": "white",
            "ticks": ""
           }
          },
          "title": {
           "x": 0.05
          },
          "xaxis": {
           "automargin": true,
           "gridcolor": "white",
           "linecolor": "white",
           "ticks": "",
           "title": {
            "standoff": 15
           },
           "zerolinecolor": "white",
           "zerolinewidth": 2
          },
          "yaxis": {
           "automargin": true,
           "gridcolor": "white",
           "linecolor": "white",
           "ticks": "",
           "title": {
            "standoff": 15
           },
           "zerolinecolor": "white",
           "zerolinewidth": 2
          }
         }
        },
        "title": {
         "text": "How long are the sentences?"
        },
        "width": 1200,
        "xaxis": {
         "anchor": "y",
         "domain": [
          0,
          1
         ],
         "title": {
          "text": "# of tokens in the sentence"
         }
        },
        "xaxis2": {
         "anchor": "y2",
         "domain": [
          0,
          0.2888888888888889
         ],
         "range": [
          0,
          50
         ]
        },
        "xaxis3": {
         "anchor": "y3",
         "domain": [
          0.35555555555555557,
          0.6444444444444445
         ],
         "range": [
          51,
          150
         ]
        },
        "xaxis4": {
         "anchor": "y4",
         "domain": [
          0.7111111111111111,
          1
         ],
         "range": [
          151,
          370
         ]
        },
        "yaxis": {
         "anchor": "x",
         "domain": [
          0.575,
          1
         ],
         "title": {
          "text": "# of scentences"
         }
        },
        "yaxis2": {
         "anchor": "x2",
         "domain": [
          0,
          0.425
         ],
         "range": [
          0,
          1200
         ]
        },
        "yaxis3": {
         "anchor": "x3",
         "domain": [
          0,
          0.425
         ],
         "range": [
          0,
          10
         ]
        },
        "yaxis4": {
         "anchor": "x4",
         "domain": [
          0,
          0.425
         ],
         "range": [
          0,
          5
         ]
        }
       }
      },
      "text/html": [
       "<div>                            <div id=\"fd0fd832-47f1-4a9f-8d94-d0a03dc6555c\" class=\"plotly-graph-div\" style=\"height:600px; width:1200px;\"></div>            <script type=\"text/javascript\">                require([\"plotly\"], function(Plotly) {                    window.PLOTLYENV=window.PLOTLYENV || {};                                    if (document.getElementById(\"fd0fd832-47f1-4a9f-8d94-d0a03dc6555c\")) {                    Plotly.newPlot(                        \"fd0fd832-47f1-4a9f-8d94-d0a03dc6555c\",                        [{\"name\":\"Overall\",\"orientation\":\"v\",\"x\":[2,3,4,5,6,7,8,9,10,11,12,13,14,15,16,17,18,19,20,21,22,23,24,25,26,27,28,29,30,31,32,33,34,35,36,37,38,39,40,41,42,43,44,45,46,47,48,49,50,51,52,53,54,55,56,57,58,59,60,61,62,63,64,65,66,67,68,69,70,71,72,73,74,75,76,77,78,79,80,81,82,83,84,85,86,87,88,89,90,91,92,93,94,95,96,97,98,99,100,101,102,103,104,105,106,107,108,109,110,111,112,113,114,115,116,117,118,119,120,121,122,123,125,126,127,129,130,131,132,133,135,136,137,138,140,141,142,144,145,147,148,149,150,151,152,153,154,155,156,157,161,169,175,178,179,181,182,183,195,201,208,238,264,274,282,334,368],\"y\":[2,461,47,98,309,137,206,171,932,561,912,814,529,150,133,113,70,70,55,45,45,53,53,85,104,82,66,87,64,56,54,54,57,48,48,49,43,47,61,53,49,37,46,39,41,42,28,33,40,57,50,43,40,41,37,45,49,40,29,46,32,40,57,44,47,51,49,34,32,43,36,30,24,37,30,21,34,21,22,23,22,22,27,12,8,13,12,14,12,6,20,12,10,12,8,9,12,12,11,11,10,9,9,6,4,5,5,6,4,5,3,10,4,2,4,5,6,3,2,3,6,2,2,7,7,1,3,2,2,3,3,3,1,2,3,2,2,2,3,3,2,2,2,1,1,1,1,1,1,1,1,1,1,2,1,1,1,1,1,1,1,1,1,1,1,1,1],\"type\":\"bar\",\"xaxis\":\"x\",\"yaxis\":\"y\"},{\"name\":\"length < 50\",\"orientation\":\"v\",\"x\":[2,3,4,5,6,7,8,9,10,11,12,13,14,15,16,17,18,19,20,21,22,23,24,25,26,27,28,29,30,31,32,33,34,35,36,37,38,39,40,41,42,43,44,45,46,47,48,49,50,51,52,53,54,55,56,57,58,59,60,61,62,63,64,65,66,67,68,69,70,71,72,73,74,75,76,77,78,79,80,81,82,83,84,85,86,87,88,89,90,91,92,93,94,95,96,97,98,99,100,101,102,103,104,105,106,107,108,109,110,111,112,113,114,115,116,117,118,119,120,121,122,123,125,126,127,129,130,131,132,133,135,136,137,138,140,141,142,144,145,147,148,149,150,151,152,153,154,155,156,157,161,169,175,178,179,181,182,183,195,201,208,238,264,274,282,334,368],\"y\":[2,461,47,98,309,137,206,171,932,561,912,814,529,150,133,113,70,70,55,45,45,53,53,85,104,82,66,87,64,56,54,54,57,48,48,49,43,47,61,53,49,37,46,39,41,42,28,33,40,57,50,43,40,41,37,45,49,40,29,46,32,40,57,44,47,51,49,34,32,43,36,30,24,37,30,21,34,21,22,23,22,22,27,12,8,13,12,14,12,6,20,12,10,12,8,9,12,12,11,11,10,9,9,6,4,5,5,6,4,5,3,10,4,2,4,5,6,3,2,3,6,2,2,7,7,1,3,2,2,3,3,3,1,2,3,2,2,2,3,3,2,2,2,1,1,1,1,1,1,1,1,1,1,2,1,1,1,1,1,1,1,1,1,1,1,1,1],\"type\":\"bar\",\"xaxis\":\"x2\",\"yaxis\":\"y2\"},{\"name\":\"length < 150\",\"orientation\":\"v\",\"x\":[2,3,4,5,6,7,8,9,10,11,12,13,14,15,16,17,18,19,20,21,22,23,24,25,26,27,28,29,30,31,32,33,34,35,36,37,38,39,40,41,42,43,44,45,46,47,48,49,50,51,52,53,54,55,56,57,58,59,60,61,62,63,64,65,66,67,68,69,70,71,72,73,74,75,76,77,78,79,80,81,82,83,84,85,86,87,88,89,90,91,92,93,94,95,96,97,98,99,100,101,102,103,104,105,106,107,108,109,110,111,112,113,114,115,116,117,118,119,120,121,122,123,125,126,127,129,130,131,132,133,135,136,137,138,140,141,142,144,145,147,148,149,150,151,152,153,154,155,156,157,161,169,175,178,179,181,182,183,195,201,208,238,264,274,282,334,368],\"y\":[2,461,47,98,309,137,206,171,932,561,912,814,529,150,133,113,70,70,55,45,45,53,53,85,104,82,66,87,64,56,54,54,57,48,48,49,43,47,61,53,49,37,46,39,41,42,28,33,40,57,50,43,40,41,37,45,49,40,29,46,32,40,57,44,47,51,49,34,32,43,36,30,24,37,30,21,34,21,22,23,22,22,27,12,8,13,12,14,12,6,20,12,10,12,8,9,12,12,11,11,10,9,9,6,4,5,5,6,4,5,3,10,4,2,4,5,6,3,2,3,6,2,2,7,7,1,3,2,2,3,3,3,1,2,3,2,2,2,3,3,2,2,2,1,1,1,1,1,1,1,1,1,1,2,1,1,1,1,1,1,1,1,1,1,1,1,1],\"type\":\"bar\",\"xaxis\":\"x3\",\"yaxis\":\"y3\"},{\"name\":\"length > 150\",\"orientation\":\"v\",\"x\":[2,3,4,5,6,7,8,9,10,11,12,13,14,15,16,17,18,19,20,21,22,23,24,25,26,27,28,29,30,31,32,33,34,35,36,37,38,39,40,41,42,43,44,45,46,47,48,49,50,51,52,53,54,55,56,57,58,59,60,61,62,63,64,65,66,67,68,69,70,71,72,73,74,75,76,77,78,79,80,81,82,83,84,85,86,87,88,89,90,91,92,93,94,95,96,97,98,99,100,101,102,103,104,105,106,107,108,109,110,111,112,113,114,115,116,117,118,119,120,121,122,123,125,126,127,129,130,131,132,133,135,136,137,138,140,141,142,144,145,147,148,149,150,151,152,153,154,155,156,157,161,169,175,178,179,181,182,183,195,201,208,238,264,274,282,334,368],\"y\":[2,461,47,98,309,137,206,171,932,561,912,814,529,150,133,113,70,70,55,45,45,53,53,85,104,82,66,87,64,56,54,54,57,48,48,49,43,47,61,53,49,37,46,39,41,42,28,33,40,57,50,43,40,41,37,45,49,40,29,46,32,40,57,44,47,51,49,34,32,43,36,30,24,37,30,21,34,21,22,23,22,22,27,12,8,13,12,14,12,6,20,12,10,12,8,9,12,12,11,11,10,9,9,6,4,5,5,6,4,5,3,10,4,2,4,5,6,3,2,3,6,2,2,7,7,1,3,2,2,3,3,3,1,2,3,2,2,2,3,3,2,2,2,1,1,1,1,1,1,1,1,1,1,2,1,1,1,1,1,1,1,1,1,1,1,1,1],\"type\":\"bar\",\"xaxis\":\"x4\",\"yaxis\":\"y4\"}],                        {\"template\":{\"data\":{\"bar\":[{\"error_x\":{\"color\":\"#2a3f5f\"},\"error_y\":{\"color\":\"#2a3f5f\"},\"marker\":{\"line\":{\"color\":\"#E5ECF6\",\"width\":0.5},\"pattern\":{\"fillmode\":\"overlay\",\"size\":10,\"solidity\":0.2}},\"type\":\"bar\"}],\"barpolar\":[{\"marker\":{\"line\":{\"color\":\"#E5ECF6\",\"width\":0.5},\"pattern\":{\"fillmode\":\"overlay\",\"size\":10,\"solidity\":0.2}},\"type\":\"barpolar\"}],\"carpet\":[{\"aaxis\":{\"endlinecolor\":\"#2a3f5f\",\"gridcolor\":\"white\",\"linecolor\":\"white\",\"minorgridcolor\":\"white\",\"startlinecolor\":\"#2a3f5f\"},\"baxis\":{\"endlinecolor\":\"#2a3f5f\",\"gridcolor\":\"white\",\"linecolor\":\"white\",\"minorgridcolor\":\"white\",\"startlinecolor\":\"#2a3f5f\"},\"type\":\"carpet\"}],\"choropleth\":[{\"colorbar\":{\"outlinewidth\":0,\"ticks\":\"\"},\"type\":\"choropleth\"}],\"contour\":[{\"colorbar\":{\"outlinewidth\":0,\"ticks\":\"\"},\"colorscale\":[[0.0,\"#0d0887\"],[0.1111111111111111,\"#46039f\"],[0.2222222222222222,\"#7201a8\"],[0.3333333333333333,\"#9c179e\"],[0.4444444444444444,\"#bd3786\"],[0.5555555555555556,\"#d8576b\"],[0.6666666666666666,\"#ed7953\"],[0.7777777777777778,\"#fb9f3a\"],[0.8888888888888888,\"#fdca26\"],[1.0,\"#f0f921\"]],\"type\":\"contour\"}],\"contourcarpet\":[{\"colorbar\":{\"outlinewidth\":0,\"ticks\":\"\"},\"type\":\"contourcarpet\"}],\"heatmap\":[{\"colorbar\":{\"outlinewidth\":0,\"ticks\":\"\"},\"colorscale\":[[0.0,\"#0d0887\"],[0.1111111111111111,\"#46039f\"],[0.2222222222222222,\"#7201a8\"],[0.3333333333333333,\"#9c179e\"],[0.4444444444444444,\"#bd3786\"],[0.5555555555555556,\"#d8576b\"],[0.6666666666666666,\"#ed7953\"],[0.7777777777777778,\"#fb9f3a\"],[0.8888888888888888,\"#fdca26\"],[1.0,\"#f0f921\"]],\"type\":\"heatmap\"}],\"heatmapgl\":[{\"colorbar\":{\"outlinewidth\":0,\"ticks\":\"\"},\"colorscale\":[[0.0,\"#0d0887\"],[0.1111111111111111,\"#46039f\"],[0.2222222222222222,\"#7201a8\"],[0.3333333333333333,\"#9c179e\"],[0.4444444444444444,\"#bd3786\"],[0.5555555555555556,\"#d8576b\"],[0.6666666666666666,\"#ed7953\"],[0.7777777777777778,\"#fb9f3a\"],[0.8888888888888888,\"#fdca26\"],[1.0,\"#f0f921\"]],\"type\":\"heatmapgl\"}],\"histogram\":[{\"marker\":{\"pattern\":{\"fillmode\":\"overlay\",\"size\":10,\"solidity\":0.2}},\"type\":\"histogram\"}],\"histogram2d\":[{\"colorbar\":{\"outlinewidth\":0,\"ticks\":\"\"},\"colorscale\":[[0.0,\"#0d0887\"],[0.1111111111111111,\"#46039f\"],[0.2222222222222222,\"#7201a8\"],[0.3333333333333333,\"#9c179e\"],[0.4444444444444444,\"#bd3786\"],[0.5555555555555556,\"#d8576b\"],[0.6666666666666666,\"#ed7953\"],[0.7777777777777778,\"#fb9f3a\"],[0.8888888888888888,\"#fdca26\"],[1.0,\"#f0f921\"]],\"type\":\"histogram2d\"}],\"histogram2dcontour\":[{\"colorbar\":{\"outlinewidth\":0,\"ticks\":\"\"},\"colorscale\":[[0.0,\"#0d0887\"],[0.1111111111111111,\"#46039f\"],[0.2222222222222222,\"#7201a8\"],[0.3333333333333333,\"#9c179e\"],[0.4444444444444444,\"#bd3786\"],[0.5555555555555556,\"#d8576b\"],[0.6666666666666666,\"#ed7953\"],[0.7777777777777778,\"#fb9f3a\"],[0.8888888888888888,\"#fdca26\"],[1.0,\"#f0f921\"]],\"type\":\"histogram2dcontour\"}],\"mesh3d\":[{\"colorbar\":{\"outlinewidth\":0,\"ticks\":\"\"},\"type\":\"mesh3d\"}],\"parcoords\":[{\"line\":{\"colorbar\":{\"outlinewidth\":0,\"ticks\":\"\"}},\"type\":\"parcoords\"}],\"pie\":[{\"automargin\":true,\"type\":\"pie\"}],\"scatter\":[{\"marker\":{\"colorbar\":{\"outlinewidth\":0,\"ticks\":\"\"}},\"type\":\"scatter\"}],\"scatter3d\":[{\"line\":{\"colorbar\":{\"outlinewidth\":0,\"ticks\":\"\"}},\"marker\":{\"colorbar\":{\"outlinewidth\":0,\"ticks\":\"\"}},\"type\":\"scatter3d\"}],\"scattercarpet\":[{\"marker\":{\"colorbar\":{\"outlinewidth\":0,\"ticks\":\"\"}},\"type\":\"scattercarpet\"}],\"scattergeo\":[{\"marker\":{\"colorbar\":{\"outlinewidth\":0,\"ticks\":\"\"}},\"type\":\"scattergeo\"}],\"scattergl\":[{\"marker\":{\"colorbar\":{\"outlinewidth\":0,\"ticks\":\"\"}},\"type\":\"scattergl\"}],\"scattermapbox\":[{\"marker\":{\"colorbar\":{\"outlinewidth\":0,\"ticks\":\"\"}},\"type\":\"scattermapbox\"}],\"scatterpolar\":[{\"marker\":{\"colorbar\":{\"outlinewidth\":0,\"ticks\":\"\"}},\"type\":\"scatterpolar\"}],\"scatterpolargl\":[{\"marker\":{\"colorbar\":{\"outlinewidth\":0,\"ticks\":\"\"}},\"type\":\"scatterpolargl\"}],\"scatterternary\":[{\"marker\":{\"colorbar\":{\"outlinewidth\":0,\"ticks\":\"\"}},\"type\":\"scatterternary\"}],\"surface\":[{\"colorbar\":{\"outlinewidth\":0,\"ticks\":\"\"},\"colorscale\":[[0.0,\"#0d0887\"],[0.1111111111111111,\"#46039f\"],[0.2222222222222222,\"#7201a8\"],[0.3333333333333333,\"#9c179e\"],[0.4444444444444444,\"#bd3786\"],[0.5555555555555556,\"#d8576b\"],[0.6666666666666666,\"#ed7953\"],[0.7777777777777778,\"#fb9f3a\"],[0.8888888888888888,\"#fdca26\"],[1.0,\"#f0f921\"]],\"type\":\"surface\"}],\"table\":[{\"cells\":{\"fill\":{\"color\":\"#EBF0F8\"},\"line\":{\"color\":\"white\"}},\"header\":{\"fill\":{\"color\":\"#C8D4E3\"},\"line\":{\"color\":\"white\"}},\"type\":\"table\"}]},\"layout\":{\"annotationdefaults\":{\"arrowcolor\":\"#2a3f5f\",\"arrowhead\":0,\"arrowwidth\":1},\"autotypenumbers\":\"strict\",\"coloraxis\":{\"colorbar\":{\"outlinewidth\":0,\"ticks\":\"\"}},\"colorscale\":{\"diverging\":[[0,\"#8e0152\"],[0.1,\"#c51b7d\"],[0.2,\"#de77ae\"],[0.3,\"#f1b6da\"],[0.4,\"#fde0ef\"],[0.5,\"#f7f7f7\"],[0.6,\"#e6f5d0\"],[0.7,\"#b8e186\"],[0.8,\"#7fbc41\"],[0.9,\"#4d9221\"],[1,\"#276419\"]],\"sequential\":[[0.0,\"#0d0887\"],[0.1111111111111111,\"#46039f\"],[0.2222222222222222,\"#7201a8\"],[0.3333333333333333,\"#9c179e\"],[0.4444444444444444,\"#bd3786\"],[0.5555555555555556,\"#d8576b\"],[0.6666666666666666,\"#ed7953\"],[0.7777777777777778,\"#fb9f3a\"],[0.8888888888888888,\"#fdca26\"],[1.0,\"#f0f921\"]],\"sequentialminus\":[[0.0,\"#0d0887\"],[0.1111111111111111,\"#46039f\"],[0.2222222222222222,\"#7201a8\"],[0.3333333333333333,\"#9c179e\"],[0.4444444444444444,\"#bd3786\"],[0.5555555555555556,\"#d8576b\"],[0.6666666666666666,\"#ed7953\"],[0.7777777777777778,\"#fb9f3a\"],[0.8888888888888888,\"#fdca26\"],[1.0,\"#f0f921\"]]},\"colorway\":[\"#636efa\",\"#EF553B\",\"#00cc96\",\"#ab63fa\",\"#FFA15A\",\"#19d3f3\",\"#FF6692\",\"#B6E880\",\"#FF97FF\",\"#FECB52\"],\"font\":{\"color\":\"#2a3f5f\"},\"geo\":{\"bgcolor\":\"white\",\"lakecolor\":\"white\",\"landcolor\":\"#E5ECF6\",\"showlakes\":true,\"showland\":true,\"subunitcolor\":\"white\"},\"hoverlabel\":{\"align\":\"left\"},\"hovermode\":\"closest\",\"mapbox\":{\"style\":\"light\"},\"paper_bgcolor\":\"white\",\"plot_bgcolor\":\"#E5ECF6\",\"polar\":{\"angularaxis\":{\"gridcolor\":\"white\",\"linecolor\":\"white\",\"ticks\":\"\"},\"bgcolor\":\"#E5ECF6\",\"radialaxis\":{\"gridcolor\":\"white\",\"linecolor\":\"white\",\"ticks\":\"\"}},\"scene\":{\"xaxis\":{\"backgroundcolor\":\"#E5ECF6\",\"gridcolor\":\"white\",\"gridwidth\":2,\"linecolor\":\"white\",\"showbackground\":true,\"ticks\":\"\",\"zerolinecolor\":\"white\"},\"yaxis\":{\"backgroundcolor\":\"#E5ECF6\",\"gridcolor\":\"white\",\"gridwidth\":2,\"linecolor\":\"white\",\"showbackground\":true,\"ticks\":\"\",\"zerolinecolor\":\"white\"},\"zaxis\":{\"backgroundcolor\":\"#E5ECF6\",\"gridcolor\":\"white\",\"gridwidth\":2,\"linecolor\":\"white\",\"showbackground\":true,\"ticks\":\"\",\"zerolinecolor\":\"white\"}},\"shapedefaults\":{\"line\":{\"color\":\"#2a3f5f\"}},\"ternary\":{\"aaxis\":{\"gridcolor\":\"white\",\"linecolor\":\"white\",\"ticks\":\"\"},\"baxis\":{\"gridcolor\":\"white\",\"linecolor\":\"white\",\"ticks\":\"\"},\"bgcolor\":\"#E5ECF6\",\"caxis\":{\"gridcolor\":\"white\",\"linecolor\":\"white\",\"ticks\":\"\"}},\"title\":{\"x\":0.05},\"xaxis\":{\"automargin\":true,\"gridcolor\":\"white\",\"linecolor\":\"white\",\"ticks\":\"\",\"title\":{\"standoff\":15},\"zerolinecolor\":\"white\",\"zerolinewidth\":2},\"yaxis\":{\"automargin\":true,\"gridcolor\":\"white\",\"linecolor\":\"white\",\"ticks\":\"\",\"title\":{\"standoff\":15},\"zerolinecolor\":\"white\",\"zerolinewidth\":2}}},\"xaxis\":{\"anchor\":\"y\",\"domain\":[0.0,1.0],\"title\":{\"text\":\"# of tokens in the sentence\"}},\"yaxis\":{\"anchor\":\"x\",\"domain\":[0.575,1.0],\"title\":{\"text\":\"# of scentences\"}},\"xaxis2\":{\"anchor\":\"y2\",\"domain\":[0.0,0.2888888888888889],\"range\":[0,50]},\"yaxis2\":{\"anchor\":\"x2\",\"domain\":[0.0,0.425],\"range\":[0,1200]},\"xaxis3\":{\"anchor\":\"y3\",\"domain\":[0.35555555555555557,0.6444444444444445],\"range\":[51,150]},\"yaxis3\":{\"anchor\":\"x3\",\"domain\":[0.0,0.425],\"range\":[0,10]},\"xaxis4\":{\"anchor\":\"y4\",\"domain\":[0.7111111111111111,1.0],\"range\":[151,370]},\"yaxis4\":{\"anchor\":\"x4\",\"domain\":[0.0,0.425],\"range\":[0,5]},\"annotations\":[{\"arrowhead\":2,\"showarrow\":true,\"text\":\"Most common<br>sentence length\",\"x\":10,\"xref\":\"x\",\"y\":932,\"yref\":\"y\"},{\"arrowhead\":2,\"showarrow\":true,\"text\":\"Longest <br>sentence\",\"x\":368,\"xref\":\"x\",\"y\":1,\"yref\":\"y\"}],\"title\":{\"text\":\"How long are the sentences?\"},\"width\":1200,\"height\":600},                        {\"responsive\": true}                    ).then(function(){\n",
       "                            \n",
       "var gd = document.getElementById('fd0fd832-47f1-4a9f-8d94-d0a03dc6555c');\n",
       "var x = new MutationObserver(function (mutations, observer) {{\n",
       "        var display = window.getComputedStyle(gd).display;\n",
       "        if (!display || display === 'none') {{\n",
       "            console.log([gd, 'removed!']);\n",
       "            Plotly.purge(gd);\n",
       "            observer.disconnect();\n",
       "        }}\n",
       "}});\n",
       "\n",
       "// Listen for the removal of the full notebook cells\n",
       "var notebookContainer = gd.closest('#notebook-container');\n",
       "if (notebookContainer) {{\n",
       "    x.observe(notebookContainer, {childList: true});\n",
       "}}\n",
       "\n",
       "// Listen for the clearing of the current output cell\n",
       "var outputEl = gd.closest('.output');\n",
       "if (outputEl) {{\n",
       "    x.observe(outputEl, {childList: true});\n",
       "}}\n",
       "\n",
       "                        })                };                });            </script>        </div>"
      ]
     },
     "metadata": {},
     "output_type": "display_data"
    }
   ],
   "source": [
    "from plotly.subplots import make_subplots\n",
    "import plotly.graph_objects as go\n",
    "\n",
    "fig =  make_subplots(rows=2, cols=3, \n",
    "specs=[[{\"colspan\":3},None,None],[{\"colspan\":1},{},{}]])\n",
    "\n",
    "fig.add_trace(go.Bar(y=sentences_lengths_freqs, x=sentences_lengths, orientation='v', name=\"Overall\"), row=1, col=1)\n",
    "fig.add_trace(go.Bar(y=sentences_lengths_freqs, x=sentences_lengths, orientation='v', name=\"length < 50\"), row=2, col=1)\n",
    "fig.add_trace(go.Bar(y=sentences_lengths_freqs, x=sentences_lengths, orientation='v', name=\"length < 150\"), row=2, col=2)\n",
    "fig.add_trace(go.Bar(y=sentences_lengths_freqs, x=sentences_lengths, orientation='v', name=\"length > 150\"), row=2, col=3)\n",
    "\n",
    "idx_mode = np.argmax(sentences_lengths_freqs)\n",
    "mode = sentences_lengths[idx_mode]\n",
    "mode_value = sentences_lengths_freqs[idx_mode]\n",
    "\n",
    "fig.add_annotation(x=mode, y=mode_value,\n",
    "            text=\"Most common<br>sentence length\",\n",
    "            showarrow=True,\n",
    "            arrowhead=2, row=1, col=1)\n",
    "            \n",
    "most_long_sentence_idx = np.argmax(sentences_lengths)\n",
    "most_long_sentence = sentences_lengths[most_long_sentence_idx]\n",
    "\n",
    "fig.add_annotation(x=most_long_sentence, y=1,\n",
    "            text=\"Longest <br>sentence\",\n",
    "            showarrow=True,\n",
    "            arrowhead=2, row=1, col=1)\n",
    "\n",
    "\n",
    "fig.update_xaxes(range=[0,50], row=2, col=1)\n",
    "fig.update_xaxes(range=[51,150], row=2, col=2)\n",
    "fig.update_xaxes(range=[151,370], row=2, col=3)\n",
    "\n",
    "fig.update_yaxes(range=[0,1200], row=2, col=1)\n",
    "fig.update_yaxes(range=[0,10], row=2, col=2)\n",
    "fig.update_yaxes(range=[0,5], row=2, col=3)\n",
    "\n",
    "fig.update_yaxes(title=\"# of scentences\", row=1, col=1)\n",
    "fig.update_xaxes(title=\"# of tokens in the sentence\", row=1, col=1)\n",
    "\n",
    "fig.update_layout(title=\"How long are the sentences?\", width=1200, height=600)\n",
    "fig.show()"
   ]
  },
  {
   "cell_type": "code",
   "execution_count": 67,
   "metadata": {},
   "outputs": [
    {
     "data": {
      "application/vnd.plotly.v1+json": {
       "config": {
        "plotlyServerURL": "https://plot.ly"
       },
       "data": [
        {
         "branchvalues": "total",
         "labels": [
          "POS",
          "OPEN",
          "CLOSED",
          "OTHER",
          "PUNCT",
          "ADP",
          "PROPN",
          "NOUN",
          "VERB",
          "DET",
          "CCONJ",
          "PRON",
          "ADJ",
          "NUM",
          "AUX",
          "SCONJ",
          "ADV",
          "PART",
          "X"
         ],
         "parents": [
          "",
          "POS",
          "POS",
          "POS",
          "OTHER",
          "CLOSED",
          "OPEN",
          "OPEN",
          "OPEN",
          "CLOSED",
          "CLOSED",
          "CLOSED",
          "OPEN",
          "CLOSED",
          "CLOSED",
          "CLOSED",
          "OPEN",
          "CLOSED",
          "OTHER"
         ],
         "textinfo": "label+percent root+percent parent",
         "type": "treemap",
         "values": [
          242411,
          123376,
          83483,
          35552,
          35451,
          22153,
          20151,
          51213,
          29988,
          19077,
          13851,
          18327,
          13335,
          2417,
          2862,
          4137,
          8689,
          659,
          101
         ]
        }
       ],
       "layout": {
        "height": 500,
        "margin": {
         "b": 50,
         "l": 15,
         "r": 15,
         "t": 50
        },
        "template": {
         "data": {
          "bar": [
           {
            "error_x": {
             "color": "#2a3f5f"
            },
            "error_y": {
             "color": "#2a3f5f"
            },
            "marker": {
             "line": {
              "color": "#E5ECF6",
              "width": 0.5
             },
             "pattern": {
              "fillmode": "overlay",
              "size": 10,
              "solidity": 0.2
             }
            },
            "type": "bar"
           }
          ],
          "barpolar": [
           {
            "marker": {
             "line": {
              "color": "#E5ECF6",
              "width": 0.5
             },
             "pattern": {
              "fillmode": "overlay",
              "size": 10,
              "solidity": 0.2
             }
            },
            "type": "barpolar"
           }
          ],
          "carpet": [
           {
            "aaxis": {
             "endlinecolor": "#2a3f5f",
             "gridcolor": "white",
             "linecolor": "white",
             "minorgridcolor": "white",
             "startlinecolor": "#2a3f5f"
            },
            "baxis": {
             "endlinecolor": "#2a3f5f",
             "gridcolor": "white",
             "linecolor": "white",
             "minorgridcolor": "white",
             "startlinecolor": "#2a3f5f"
            },
            "type": "carpet"
           }
          ],
          "choropleth": [
           {
            "colorbar": {
             "outlinewidth": 0,
             "ticks": ""
            },
            "type": "choropleth"
           }
          ],
          "contour": [
           {
            "colorbar": {
             "outlinewidth": 0,
             "ticks": ""
            },
            "colorscale": [
             [
              0,
              "#0d0887"
             ],
             [
              0.1111111111111111,
              "#46039f"
             ],
             [
              0.2222222222222222,
              "#7201a8"
             ],
             [
              0.3333333333333333,
              "#9c179e"
             ],
             [
              0.4444444444444444,
              "#bd3786"
             ],
             [
              0.5555555555555556,
              "#d8576b"
             ],
             [
              0.6666666666666666,
              "#ed7953"
             ],
             [
              0.7777777777777778,
              "#fb9f3a"
             ],
             [
              0.8888888888888888,
              "#fdca26"
             ],
             [
              1,
              "#f0f921"
             ]
            ],
            "type": "contour"
           }
          ],
          "contourcarpet": [
           {
            "colorbar": {
             "outlinewidth": 0,
             "ticks": ""
            },
            "type": "contourcarpet"
           }
          ],
          "heatmap": [
           {
            "colorbar": {
             "outlinewidth": 0,
             "ticks": ""
            },
            "colorscale": [
             [
              0,
              "#0d0887"
             ],
             [
              0.1111111111111111,
              "#46039f"
             ],
             [
              0.2222222222222222,
              "#7201a8"
             ],
             [
              0.3333333333333333,
              "#9c179e"
             ],
             [
              0.4444444444444444,
              "#bd3786"
             ],
             [
              0.5555555555555556,
              "#d8576b"
             ],
             [
              0.6666666666666666,
              "#ed7953"
             ],
             [
              0.7777777777777778,
              "#fb9f3a"
             ],
             [
              0.8888888888888888,
              "#fdca26"
             ],
             [
              1,
              "#f0f921"
             ]
            ],
            "type": "heatmap"
           }
          ],
          "heatmapgl": [
           {
            "colorbar": {
             "outlinewidth": 0,
             "ticks": ""
            },
            "colorscale": [
             [
              0,
              "#0d0887"
             ],
             [
              0.1111111111111111,
              "#46039f"
             ],
             [
              0.2222222222222222,
              "#7201a8"
             ],
             [
              0.3333333333333333,
              "#9c179e"
             ],
             [
              0.4444444444444444,
              "#bd3786"
             ],
             [
              0.5555555555555556,
              "#d8576b"
             ],
             [
              0.6666666666666666,
              "#ed7953"
             ],
             [
              0.7777777777777778,
              "#fb9f3a"
             ],
             [
              0.8888888888888888,
              "#fdca26"
             ],
             [
              1,
              "#f0f921"
             ]
            ],
            "type": "heatmapgl"
           }
          ],
          "histogram": [
           {
            "marker": {
             "pattern": {
              "fillmode": "overlay",
              "size": 10,
              "solidity": 0.2
             }
            },
            "type": "histogram"
           }
          ],
          "histogram2d": [
           {
            "colorbar": {
             "outlinewidth": 0,
             "ticks": ""
            },
            "colorscale": [
             [
              0,
              "#0d0887"
             ],
             [
              0.1111111111111111,
              "#46039f"
             ],
             [
              0.2222222222222222,
              "#7201a8"
             ],
             [
              0.3333333333333333,
              "#9c179e"
             ],
             [
              0.4444444444444444,
              "#bd3786"
             ],
             [
              0.5555555555555556,
              "#d8576b"
             ],
             [
              0.6666666666666666,
              "#ed7953"
             ],
             [
              0.7777777777777778,
              "#fb9f3a"
             ],
             [
              0.8888888888888888,
              "#fdca26"
             ],
             [
              1,
              "#f0f921"
             ]
            ],
            "type": "histogram2d"
           }
          ],
          "histogram2dcontour": [
           {
            "colorbar": {
             "outlinewidth": 0,
             "ticks": ""
            },
            "colorscale": [
             [
              0,
              "#0d0887"
             ],
             [
              0.1111111111111111,
              "#46039f"
             ],
             [
              0.2222222222222222,
              "#7201a8"
             ],
             [
              0.3333333333333333,
              "#9c179e"
             ],
             [
              0.4444444444444444,
              "#bd3786"
             ],
             [
              0.5555555555555556,
              "#d8576b"
             ],
             [
              0.6666666666666666,
              "#ed7953"
             ],
             [
              0.7777777777777778,
              "#fb9f3a"
             ],
             [
              0.8888888888888888,
              "#fdca26"
             ],
             [
              1,
              "#f0f921"
             ]
            ],
            "type": "histogram2dcontour"
           }
          ],
          "mesh3d": [
           {
            "colorbar": {
             "outlinewidth": 0,
             "ticks": ""
            },
            "type": "mesh3d"
           }
          ],
          "parcoords": [
           {
            "line": {
             "colorbar": {
              "outlinewidth": 0,
              "ticks": ""
             }
            },
            "type": "parcoords"
           }
          ],
          "pie": [
           {
            "automargin": true,
            "type": "pie"
           }
          ],
          "scatter": [
           {
            "marker": {
             "colorbar": {
              "outlinewidth": 0,
              "ticks": ""
             }
            },
            "type": "scatter"
           }
          ],
          "scatter3d": [
           {
            "line": {
             "colorbar": {
              "outlinewidth": 0,
              "ticks": ""
             }
            },
            "marker": {
             "colorbar": {
              "outlinewidth": 0,
              "ticks": ""
             }
            },
            "type": "scatter3d"
           }
          ],
          "scattercarpet": [
           {
            "marker": {
             "colorbar": {
              "outlinewidth": 0,
              "ticks": ""
             }
            },
            "type": "scattercarpet"
           }
          ],
          "scattergeo": [
           {
            "marker": {
             "colorbar": {
              "outlinewidth": 0,
              "ticks": ""
             }
            },
            "type": "scattergeo"
           }
          ],
          "scattergl": [
           {
            "marker": {
             "colorbar": {
              "outlinewidth": 0,
              "ticks": ""
             }
            },
            "type": "scattergl"
           }
          ],
          "scattermapbox": [
           {
            "marker": {
             "colorbar": {
              "outlinewidth": 0,
              "ticks": ""
             }
            },
            "type": "scattermapbox"
           }
          ],
          "scatterpolar": [
           {
            "marker": {
             "colorbar": {
              "outlinewidth": 0,
              "ticks": ""
             }
            },
            "type": "scatterpolar"
           }
          ],
          "scatterpolargl": [
           {
            "marker": {
             "colorbar": {
              "outlinewidth": 0,
              "ticks": ""
             }
            },
            "type": "scatterpolargl"
           }
          ],
          "scatterternary": [
           {
            "marker": {
             "colorbar": {
              "outlinewidth": 0,
              "ticks": ""
             }
            },
            "type": "scatterternary"
           }
          ],
          "surface": [
           {
            "colorbar": {
             "outlinewidth": 0,
             "ticks": ""
            },
            "colorscale": [
             [
              0,
              "#0d0887"
             ],
             [
              0.1111111111111111,
              "#46039f"
             ],
             [
              0.2222222222222222,
              "#7201a8"
             ],
             [
              0.3333333333333333,
              "#9c179e"
             ],
             [
              0.4444444444444444,
              "#bd3786"
             ],
             [
              0.5555555555555556,
              "#d8576b"
             ],
             [
              0.6666666666666666,
              "#ed7953"
             ],
             [
              0.7777777777777778,
              "#fb9f3a"
             ],
             [
              0.8888888888888888,
              "#fdca26"
             ],
             [
              1,
              "#f0f921"
             ]
            ],
            "type": "surface"
           }
          ],
          "table": [
           {
            "cells": {
             "fill": {
              "color": "#EBF0F8"
             },
             "line": {
              "color": "white"
             }
            },
            "header": {
             "fill": {
              "color": "#C8D4E3"
             },
             "line": {
              "color": "white"
             }
            },
            "type": "table"
           }
          ]
         },
         "layout": {
          "annotationdefaults": {
           "arrowcolor": "#2a3f5f",
           "arrowhead": 0,
           "arrowwidth": 1
          },
          "autotypenumbers": "strict",
          "coloraxis": {
           "colorbar": {
            "outlinewidth": 0,
            "ticks": ""
           }
          },
          "colorscale": {
           "diverging": [
            [
             0,
             "#8e0152"
            ],
            [
             0.1,
             "#c51b7d"
            ],
            [
             0.2,
             "#de77ae"
            ],
            [
             0.3,
             "#f1b6da"
            ],
            [
             0.4,
             "#fde0ef"
            ],
            [
             0.5,
             "#f7f7f7"
            ],
            [
             0.6,
             "#e6f5d0"
            ],
            [
             0.7,
             "#b8e186"
            ],
            [
             0.8,
             "#7fbc41"
            ],
            [
             0.9,
             "#4d9221"
            ],
            [
             1,
             "#276419"
            ]
           ],
           "sequential": [
            [
             0,
             "#0d0887"
            ],
            [
             0.1111111111111111,
             "#46039f"
            ],
            [
             0.2222222222222222,
             "#7201a8"
            ],
            [
             0.3333333333333333,
             "#9c179e"
            ],
            [
             0.4444444444444444,
             "#bd3786"
            ],
            [
             0.5555555555555556,
             "#d8576b"
            ],
            [
             0.6666666666666666,
             "#ed7953"
            ],
            [
             0.7777777777777778,
             "#fb9f3a"
            ],
            [
             0.8888888888888888,
             "#fdca26"
            ],
            [
             1,
             "#f0f921"
            ]
           ],
           "sequentialminus": [
            [
             0,
             "#0d0887"
            ],
            [
             0.1111111111111111,
             "#46039f"
            ],
            [
             0.2222222222222222,
             "#7201a8"
            ],
            [
             0.3333333333333333,
             "#9c179e"
            ],
            [
             0.4444444444444444,
             "#bd3786"
            ],
            [
             0.5555555555555556,
             "#d8576b"
            ],
            [
             0.6666666666666666,
             "#ed7953"
            ],
            [
             0.7777777777777778,
             "#fb9f3a"
            ],
            [
             0.8888888888888888,
             "#fdca26"
            ],
            [
             1,
             "#f0f921"
            ]
           ]
          },
          "colorway": [
           "#636efa",
           "#EF553B",
           "#00cc96",
           "#ab63fa",
           "#FFA15A",
           "#19d3f3",
           "#FF6692",
           "#B6E880",
           "#FF97FF",
           "#FECB52"
          ],
          "font": {
           "color": "#2a3f5f"
          },
          "geo": {
           "bgcolor": "white",
           "lakecolor": "white",
           "landcolor": "#E5ECF6",
           "showlakes": true,
           "showland": true,
           "subunitcolor": "white"
          },
          "hoverlabel": {
           "align": "left"
          },
          "hovermode": "closest",
          "mapbox": {
           "style": "light"
          },
          "paper_bgcolor": "white",
          "plot_bgcolor": "#E5ECF6",
          "polar": {
           "angularaxis": {
            "gridcolor": "white",
            "linecolor": "white",
            "ticks": ""
           },
           "bgcolor": "#E5ECF6",
           "radialaxis": {
            "gridcolor": "white",
            "linecolor": "white",
            "ticks": ""
           }
          },
          "scene": {
           "xaxis": {
            "backgroundcolor": "#E5ECF6",
            "gridcolor": "white",
            "gridwidth": 2,
            "linecolor": "white",
            "showbackground": true,
            "ticks": "",
            "zerolinecolor": "white"
           },
           "yaxis": {
            "backgroundcolor": "#E5ECF6",
            "gridcolor": "white",
            "gridwidth": 2,
            "linecolor": "white",
            "showbackground": true,
            "ticks": "",
            "zerolinecolor": "white"
           },
           "zaxis": {
            "backgroundcolor": "#E5ECF6",
            "gridcolor": "white",
            "gridwidth": 2,
            "linecolor": "white",
            "showbackground": true,
            "ticks": "",
            "zerolinecolor": "white"
           }
          },
          "shapedefaults": {
           "line": {
            "color": "#2a3f5f"
           }
          },
          "ternary": {
           "aaxis": {
            "gridcolor": "white",
            "linecolor": "white",
            "ticks": ""
           },
           "baxis": {
            "gridcolor": "white",
            "linecolor": "white",
            "ticks": ""
           },
           "bgcolor": "#E5ECF6",
           "caxis": {
            "gridcolor": "white",
            "linecolor": "white",
            "ticks": ""
           }
          },
          "title": {
           "x": 0.05
          },
          "xaxis": {
           "automargin": true,
           "gridcolor": "white",
           "linecolor": "white",
           "ticks": "",
           "title": {
            "standoff": 15
           },
           "zerolinecolor": "white",
           "zerolinewidth": 2
          },
          "yaxis": {
           "automargin": true,
           "gridcolor": "white",
           "linecolor": "white",
           "ticks": "",
           "title": {
            "standoff": 15
           },
           "zerolinecolor": "white",
           "zerolinewidth": 2
          }
         }
        },
        "title": {
         "text": "How tokens are distributed in POS classes?"
        },
        "width": 1000
       }
      },
      "text/html": [
       "<div>                            <div id=\"7c2519aa-fbfb-46fe-9ec5-e9a51b0b7f87\" class=\"plotly-graph-div\" style=\"height:500px; width:1000px;\"></div>            <script type=\"text/javascript\">                require([\"plotly\"], function(Plotly) {                    window.PLOTLYENV=window.PLOTLYENV || {};                                    if (document.getElementById(\"7c2519aa-fbfb-46fe-9ec5-e9a51b0b7f87\")) {                    Plotly.newPlot(                        \"7c2519aa-fbfb-46fe-9ec5-e9a51b0b7f87\",                        [{\"branchvalues\":\"total\",\"labels\":[\"POS\",\"OPEN\",\"CLOSED\",\"OTHER\",\"PUNCT\",\"ADP\",\"PROPN\",\"NOUN\",\"VERB\",\"DET\",\"CCONJ\",\"PRON\",\"ADJ\",\"NUM\",\"AUX\",\"SCONJ\",\"ADV\",\"PART\",\"X\"],\"parents\":[\"\",\"POS\",\"POS\",\"POS\",\"OTHER\",\"CLOSED\",\"OPEN\",\"OPEN\",\"OPEN\",\"CLOSED\",\"CLOSED\",\"CLOSED\",\"OPEN\",\"CLOSED\",\"CLOSED\",\"CLOSED\",\"OPEN\",\"CLOSED\",\"OTHER\"],\"textinfo\":\"label+percent root+percent parent\",\"values\":[242411,123376,83483,35552,35451,22153,20151,51213,29988,19077,13851,18327,13335,2417,2862,4137,8689,659,101],\"type\":\"treemap\"}],                        {\"template\":{\"data\":{\"bar\":[{\"error_x\":{\"color\":\"#2a3f5f\"},\"error_y\":{\"color\":\"#2a3f5f\"},\"marker\":{\"line\":{\"color\":\"#E5ECF6\",\"width\":0.5},\"pattern\":{\"fillmode\":\"overlay\",\"size\":10,\"solidity\":0.2}},\"type\":\"bar\"}],\"barpolar\":[{\"marker\":{\"line\":{\"color\":\"#E5ECF6\",\"width\":0.5},\"pattern\":{\"fillmode\":\"overlay\",\"size\":10,\"solidity\":0.2}},\"type\":\"barpolar\"}],\"carpet\":[{\"aaxis\":{\"endlinecolor\":\"#2a3f5f\",\"gridcolor\":\"white\",\"linecolor\":\"white\",\"minorgridcolor\":\"white\",\"startlinecolor\":\"#2a3f5f\"},\"baxis\":{\"endlinecolor\":\"#2a3f5f\",\"gridcolor\":\"white\",\"linecolor\":\"white\",\"minorgridcolor\":\"white\",\"startlinecolor\":\"#2a3f5f\"},\"type\":\"carpet\"}],\"choropleth\":[{\"colorbar\":{\"outlinewidth\":0,\"ticks\":\"\"},\"type\":\"choropleth\"}],\"contour\":[{\"colorbar\":{\"outlinewidth\":0,\"ticks\":\"\"},\"colorscale\":[[0.0,\"#0d0887\"],[0.1111111111111111,\"#46039f\"],[0.2222222222222222,\"#7201a8\"],[0.3333333333333333,\"#9c179e\"],[0.4444444444444444,\"#bd3786\"],[0.5555555555555556,\"#d8576b\"],[0.6666666666666666,\"#ed7953\"],[0.7777777777777778,\"#fb9f3a\"],[0.8888888888888888,\"#fdca26\"],[1.0,\"#f0f921\"]],\"type\":\"contour\"}],\"contourcarpet\":[{\"colorbar\":{\"outlinewidth\":0,\"ticks\":\"\"},\"type\":\"contourcarpet\"}],\"heatmap\":[{\"colorbar\":{\"outlinewidth\":0,\"ticks\":\"\"},\"colorscale\":[[0.0,\"#0d0887\"],[0.1111111111111111,\"#46039f\"],[0.2222222222222222,\"#7201a8\"],[0.3333333333333333,\"#9c179e\"],[0.4444444444444444,\"#bd3786\"],[0.5555555555555556,\"#d8576b\"],[0.6666666666666666,\"#ed7953\"],[0.7777777777777778,\"#fb9f3a\"],[0.8888888888888888,\"#fdca26\"],[1.0,\"#f0f921\"]],\"type\":\"heatmap\"}],\"heatmapgl\":[{\"colorbar\":{\"outlinewidth\":0,\"ticks\":\"\"},\"colorscale\":[[0.0,\"#0d0887\"],[0.1111111111111111,\"#46039f\"],[0.2222222222222222,\"#7201a8\"],[0.3333333333333333,\"#9c179e\"],[0.4444444444444444,\"#bd3786\"],[0.5555555555555556,\"#d8576b\"],[0.6666666666666666,\"#ed7953\"],[0.7777777777777778,\"#fb9f3a\"],[0.8888888888888888,\"#fdca26\"],[1.0,\"#f0f921\"]],\"type\":\"heatmapgl\"}],\"histogram\":[{\"marker\":{\"pattern\":{\"fillmode\":\"overlay\",\"size\":10,\"solidity\":0.2}},\"type\":\"histogram\"}],\"histogram2d\":[{\"colorbar\":{\"outlinewidth\":0,\"ticks\":\"\"},\"colorscale\":[[0.0,\"#0d0887\"],[0.1111111111111111,\"#46039f\"],[0.2222222222222222,\"#7201a8\"],[0.3333333333333333,\"#9c179e\"],[0.4444444444444444,\"#bd3786\"],[0.5555555555555556,\"#d8576b\"],[0.6666666666666666,\"#ed7953\"],[0.7777777777777778,\"#fb9f3a\"],[0.8888888888888888,\"#fdca26\"],[1.0,\"#f0f921\"]],\"type\":\"histogram2d\"}],\"histogram2dcontour\":[{\"colorbar\":{\"outlinewidth\":0,\"ticks\":\"\"},\"colorscale\":[[0.0,\"#0d0887\"],[0.1111111111111111,\"#46039f\"],[0.2222222222222222,\"#7201a8\"],[0.3333333333333333,\"#9c179e\"],[0.4444444444444444,\"#bd3786\"],[0.5555555555555556,\"#d8576b\"],[0.6666666666666666,\"#ed7953\"],[0.7777777777777778,\"#fb9f3a\"],[0.8888888888888888,\"#fdca26\"],[1.0,\"#f0f921\"]],\"type\":\"histogram2dcontour\"}],\"mesh3d\":[{\"colorbar\":{\"outlinewidth\":0,\"ticks\":\"\"},\"type\":\"mesh3d\"}],\"parcoords\":[{\"line\":{\"colorbar\":{\"outlinewidth\":0,\"ticks\":\"\"}},\"type\":\"parcoords\"}],\"pie\":[{\"automargin\":true,\"type\":\"pie\"}],\"scatter\":[{\"marker\":{\"colorbar\":{\"outlinewidth\":0,\"ticks\":\"\"}},\"type\":\"scatter\"}],\"scatter3d\":[{\"line\":{\"colorbar\":{\"outlinewidth\":0,\"ticks\":\"\"}},\"marker\":{\"colorbar\":{\"outlinewidth\":0,\"ticks\":\"\"}},\"type\":\"scatter3d\"}],\"scattercarpet\":[{\"marker\":{\"colorbar\":{\"outlinewidth\":0,\"ticks\":\"\"}},\"type\":\"scattercarpet\"}],\"scattergeo\":[{\"marker\":{\"colorbar\":{\"outlinewidth\":0,\"ticks\":\"\"}},\"type\":\"scattergeo\"}],\"scattergl\":[{\"marker\":{\"colorbar\":{\"outlinewidth\":0,\"ticks\":\"\"}},\"type\":\"scattergl\"}],\"scattermapbox\":[{\"marker\":{\"colorbar\":{\"outlinewidth\":0,\"ticks\":\"\"}},\"type\":\"scattermapbox\"}],\"scatterpolar\":[{\"marker\":{\"colorbar\":{\"outlinewidth\":0,\"ticks\":\"\"}},\"type\":\"scatterpolar\"}],\"scatterpolargl\":[{\"marker\":{\"colorbar\":{\"outlinewidth\":0,\"ticks\":\"\"}},\"type\":\"scatterpolargl\"}],\"scatterternary\":[{\"marker\":{\"colorbar\":{\"outlinewidth\":0,\"ticks\":\"\"}},\"type\":\"scatterternary\"}],\"surface\":[{\"colorbar\":{\"outlinewidth\":0,\"ticks\":\"\"},\"colorscale\":[[0.0,\"#0d0887\"],[0.1111111111111111,\"#46039f\"],[0.2222222222222222,\"#7201a8\"],[0.3333333333333333,\"#9c179e\"],[0.4444444444444444,\"#bd3786\"],[0.5555555555555556,\"#d8576b\"],[0.6666666666666666,\"#ed7953\"],[0.7777777777777778,\"#fb9f3a\"],[0.8888888888888888,\"#fdca26\"],[1.0,\"#f0f921\"]],\"type\":\"surface\"}],\"table\":[{\"cells\":{\"fill\":{\"color\":\"#EBF0F8\"},\"line\":{\"color\":\"white\"}},\"header\":{\"fill\":{\"color\":\"#C8D4E3\"},\"line\":{\"color\":\"white\"}},\"type\":\"table\"}]},\"layout\":{\"annotationdefaults\":{\"arrowcolor\":\"#2a3f5f\",\"arrowhead\":0,\"arrowwidth\":1},\"autotypenumbers\":\"strict\",\"coloraxis\":{\"colorbar\":{\"outlinewidth\":0,\"ticks\":\"\"}},\"colorscale\":{\"diverging\":[[0,\"#8e0152\"],[0.1,\"#c51b7d\"],[0.2,\"#de77ae\"],[0.3,\"#f1b6da\"],[0.4,\"#fde0ef\"],[0.5,\"#f7f7f7\"],[0.6,\"#e6f5d0\"],[0.7,\"#b8e186\"],[0.8,\"#7fbc41\"],[0.9,\"#4d9221\"],[1,\"#276419\"]],\"sequential\":[[0.0,\"#0d0887\"],[0.1111111111111111,\"#46039f\"],[0.2222222222222222,\"#7201a8\"],[0.3333333333333333,\"#9c179e\"],[0.4444444444444444,\"#bd3786\"],[0.5555555555555556,\"#d8576b\"],[0.6666666666666666,\"#ed7953\"],[0.7777777777777778,\"#fb9f3a\"],[0.8888888888888888,\"#fdca26\"],[1.0,\"#f0f921\"]],\"sequentialminus\":[[0.0,\"#0d0887\"],[0.1111111111111111,\"#46039f\"],[0.2222222222222222,\"#7201a8\"],[0.3333333333333333,\"#9c179e\"],[0.4444444444444444,\"#bd3786\"],[0.5555555555555556,\"#d8576b\"],[0.6666666666666666,\"#ed7953\"],[0.7777777777777778,\"#fb9f3a\"],[0.8888888888888888,\"#fdca26\"],[1.0,\"#f0f921\"]]},\"colorway\":[\"#636efa\",\"#EF553B\",\"#00cc96\",\"#ab63fa\",\"#FFA15A\",\"#19d3f3\",\"#FF6692\",\"#B6E880\",\"#FF97FF\",\"#FECB52\"],\"font\":{\"color\":\"#2a3f5f\"},\"geo\":{\"bgcolor\":\"white\",\"lakecolor\":\"white\",\"landcolor\":\"#E5ECF6\",\"showlakes\":true,\"showland\":true,\"subunitcolor\":\"white\"},\"hoverlabel\":{\"align\":\"left\"},\"hovermode\":\"closest\",\"mapbox\":{\"style\":\"light\"},\"paper_bgcolor\":\"white\",\"plot_bgcolor\":\"#E5ECF6\",\"polar\":{\"angularaxis\":{\"gridcolor\":\"white\",\"linecolor\":\"white\",\"ticks\":\"\"},\"bgcolor\":\"#E5ECF6\",\"radialaxis\":{\"gridcolor\":\"white\",\"linecolor\":\"white\",\"ticks\":\"\"}},\"scene\":{\"xaxis\":{\"backgroundcolor\":\"#E5ECF6\",\"gridcolor\":\"white\",\"gridwidth\":2,\"linecolor\":\"white\",\"showbackground\":true,\"ticks\":\"\",\"zerolinecolor\":\"white\"},\"yaxis\":{\"backgroundcolor\":\"#E5ECF6\",\"gridcolor\":\"white\",\"gridwidth\":2,\"linecolor\":\"white\",\"showbackground\":true,\"ticks\":\"\",\"zerolinecolor\":\"white\"},\"zaxis\":{\"backgroundcolor\":\"#E5ECF6\",\"gridcolor\":\"white\",\"gridwidth\":2,\"linecolor\":\"white\",\"showbackground\":true,\"ticks\":\"\",\"zerolinecolor\":\"white\"}},\"shapedefaults\":{\"line\":{\"color\":\"#2a3f5f\"}},\"ternary\":{\"aaxis\":{\"gridcolor\":\"white\",\"linecolor\":\"white\",\"ticks\":\"\"},\"baxis\":{\"gridcolor\":\"white\",\"linecolor\":\"white\",\"ticks\":\"\"},\"bgcolor\":\"#E5ECF6\",\"caxis\":{\"gridcolor\":\"white\",\"linecolor\":\"white\",\"ticks\":\"\"}},\"title\":{\"x\":0.05},\"xaxis\":{\"automargin\":true,\"gridcolor\":\"white\",\"linecolor\":\"white\",\"ticks\":\"\",\"title\":{\"standoff\":15},\"zerolinecolor\":\"white\",\"zerolinewidth\":2},\"yaxis\":{\"automargin\":true,\"gridcolor\":\"white\",\"linecolor\":\"white\",\"ticks\":\"\",\"title\":{\"standoff\":15},\"zerolinecolor\":\"white\",\"zerolinewidth\":2}}},\"margin\":{\"t\":50,\"b\":50,\"l\":15,\"r\":15},\"width\":1000,\"height\":500,\"title\":{\"text\":\"How tokens are distributed in POS classes?\"}},                        {\"responsive\": true}                    ).then(function(){\n",
       "                            \n",
       "var gd = document.getElementById('7c2519aa-fbfb-46fe-9ec5-e9a51b0b7f87');\n",
       "var x = new MutationObserver(function (mutations, observer) {{\n",
       "        var display = window.getComputedStyle(gd).display;\n",
       "        if (!display || display === 'none') {{\n",
       "            console.log([gd, 'removed!']);\n",
       "            Plotly.purge(gd);\n",
       "            observer.disconnect();\n",
       "        }}\n",
       "}});\n",
       "\n",
       "// Listen for the removal of the full notebook cells\n",
       "var notebookContainer = gd.closest('#notebook-container');\n",
       "if (notebookContainer) {{\n",
       "    x.observe(notebookContainer, {childList: true});\n",
       "}}\n",
       "\n",
       "// Listen for the clearing of the current output cell\n",
       "var outputEl = gd.closest('.output');\n",
       "if (outputEl) {{\n",
       "    x.observe(outputEl, {childList: true});\n",
       "}}\n",
       "\n",
       "                        })                };                });            </script>        </div>"
      ]
     },
     "metadata": {},
     "output_type": "display_data"
    }
   ],
   "source": [
    "names = [\"POS\", \"OPEN\",\"CLOSED\",\"OTHER\"] + list(pos_distribution)\n",
    "parents = [\"\", \"POS\",\"POS\",\"POS\"] + [UPOS_TAGSET[pos] for pos in pos_distribution]\n",
    "\n",
    "root_total = sum(pos_distribution.values())\n",
    "open_total = sum([pos_distribution[pos] for pos in pos_distribution if UPOS_TAGSET[pos] == \"OPEN\"])\n",
    "closed_total = sum([pos_distribution[pos] for pos in pos_distribution if UPOS_TAGSET[pos] == \"CLOSED\"])\n",
    "other_total = sum([pos_distribution[pos] for pos in pos_distribution if UPOS_TAGSET[pos] == \"OTHER\"])\n",
    "\n",
    "values = [root_total,open_total,closed_total,other_total] + list(pos_distribution.values())\n",
    "\n",
    "fig = go.Figure(go.Treemap(\n",
    "        labels=names,\n",
    "        parents=parents,\n",
    "        values=values, branchvalues=\"total\",\n",
    "        textinfo=\"label+percent root+percent parent\"))\n",
    "\n",
    "fig.update_layout(width=1000,height=500, margin_t=50, margin_b=50, margin_l=15, margin_r=15, title=\"How tokens are distributed in POS classes?\")"
   ]
  },
  {
   "cell_type": "markdown",
   "metadata": {},
   "source": [
    "## Evaluation\n",
    "\n",
    "* Multiple smoothing techniques on dev set (model selection)\n",
    "    * comparison table (rows: smoothing, columns: dataset (latin vs greek))\n",
    "* Accuracy Comparison random, majority, viterbi with best smoothing, memm?\n",
    "* best model from above --> confusion matrix with analysis of most common errors"
   ]
  },
  {
   "cell_type": "code",
   "execution_count": 1,
   "metadata": {},
   "outputs": [],
   "source": [
    "from sklearn.metrics import confusion_matrix, ConfusionMatrixDisplay, accuracy_score\n",
    "\n",
    "def evaluate(model, dataset_tokens, dataset_tags, labels):\n",
    "    all_predictions = []\n",
    "    all_true_tags = []\n",
    "\n",
    "    for sentence, true_tags in zip(dataset_tokens[:2500], dataset_tags[:2500]):\n",
    "        predicted_tags = model.predict(sentence)\n",
    "\n",
    "        for (token, predicted), true in zip(predicted_tags, true_tags):\n",
    "            #print(token, predicted, true)\n",
    "            all_predictions.append(predicted)\n",
    "            all_true_tags.append(true)\n",
    "\n",
    "    accuracy = accuracy_score(all_true_tags, all_predictions)\n",
    "    confusion_mat = confusion_matrix(all_true_tags, all_predictions, labels=labels)\n",
    "\n",
    "    return accuracy, confusion_mat"
   ]
  },
  {
   "cell_type": "code",
   "execution_count": 1,
   "metadata": {},
   "outputs": [],
   "source": [
    "from src.pos_tagging import HMMPosTagger\n",
    "from collections import defaultdict, Counter\n",
    "from src.utils import preprocess_data\n",
    "\n",
    "from pathlib import Path\n",
    "import pyconll\n",
    "\n",
    "TRAIN_LATIN_FILE = Path(\"data/UD_Latin-LLCT/la_llct-ud-train.conllu\")  \n",
    "DEV_LATIN_FILE = Path(\"data/UD_Latin-LLCT/la_llct-ud-dev.conllu\")  \n",
    "TEST_LATIN_FILE = Path(\"data/UD_Latin-LLCT/la_llct-ud-test.conllu\")  \n",
    "\n",
    "# @TODO add option to load un-lemamtized data (for rule based tagger, sicne this could be a problem)\n",
    "train_tokens, train_tags = preprocess_data(pyconll.load_from_file(TRAIN_LATIN_FILE))\n",
    "dev_tokens, dev_tags = preprocess_data(pyconll.load_from_file(DEV_LATIN_FILE))\n",
    "test_tokens, test_tags = preprocess_data(pyconll.load_from_file(TEST_LATIN_FILE))\n"
   ]
  },
  {
   "cell_type": "code",
   "execution_count": 7,
   "metadata": {},
   "outputs": [
    {
     "name": "stdout",
     "output_type": "stream",
     "text": [
      "evaluating default\n"
     ]
    },
    {
     "ename": "KeyboardInterrupt",
     "evalue": "",
     "output_type": "error",
     "traceback": [
      "\u001b[0;31m---------------------------------------------------------------------------\u001b[0m",
      "\u001b[0;31mKeyboardInterrupt\u001b[0m                         Traceback (most recent call last)",
      "\u001b[1;32m/home/prf/TLN1920/Mazzei/esercitazione1/esercitazione1.ipynb Cell 11'\u001b[0m in \u001b[0;36m<module>\u001b[0;34m\u001b[0m\n\u001b[1;32m     <a href='vscode-notebook-cell://wsl%2Bubuntu/home/prf/TLN1920/Mazzei/esercitazione1/esercitazione1.ipynb#ch0000032vscode-remote?line=20'>21</a>\u001b[0m tagger \u001b[39m=\u001b[39m HMMPosTagger(smoother\u001b[39m=\u001b[39msmooth_config[\u001b[39m1\u001b[39m])\n\u001b[1;32m     <a href='vscode-notebook-cell://wsl%2Bubuntu/home/prf/TLN1920/Mazzei/esercitazione1/esercitazione1.ipynb#ch0000032vscode-remote?line=21'>22</a>\u001b[0m tagger\u001b[39m.\u001b[39mfit(train_tokens, train_tags)\n\u001b[0;32m---> <a href='vscode-notebook-cell://wsl%2Bubuntu/home/prf/TLN1920/Mazzei/esercitazione1/esercitazione1.ipynb#ch0000032vscode-remote?line=23'>24</a>\u001b[0m acc, conf_mat \u001b[39m=\u001b[39m evaluate(tagger, dev_tokens, dev_tags, labels\u001b[39m=\u001b[39;49mpos_tags)\n\u001b[1;32m     <a href='vscode-notebook-cell://wsl%2Bubuntu/home/prf/TLN1920/Mazzei/esercitazione1/esercitazione1.ipynb#ch0000032vscode-remote?line=25'>26</a>\u001b[0m stats[smooth_config[\u001b[39m0\u001b[39m]] \u001b[39m=\u001b[39m {\n\u001b[1;32m     <a href='vscode-notebook-cell://wsl%2Bubuntu/home/prf/TLN1920/Mazzei/esercitazione1/esercitazione1.ipynb#ch0000032vscode-remote?line=26'>27</a>\u001b[0m     \u001b[39m\"\u001b[39m\u001b[39maccuracy\u001b[39m\u001b[39m\"\u001b[39m: acc,\n\u001b[1;32m     <a href='vscode-notebook-cell://wsl%2Bubuntu/home/prf/TLN1920/Mazzei/esercitazione1/esercitazione1.ipynb#ch0000032vscode-remote?line=27'>28</a>\u001b[0m     \u001b[39m\"\u001b[39m\u001b[39mconfusion_matrix\u001b[39m\u001b[39m\"\u001b[39m: conf_mat\n\u001b[1;32m     <a href='vscode-notebook-cell://wsl%2Bubuntu/home/prf/TLN1920/Mazzei/esercitazione1/esercitazione1.ipynb#ch0000032vscode-remote?line=28'>29</a>\u001b[0m }\n",
      "\u001b[1;32m/home/prf/TLN1920/Mazzei/esercitazione1/esercitazione1.ipynb Cell 8'\u001b[0m in \u001b[0;36mevaluate\u001b[0;34m(model, dataset_tokens, dataset_tags, labels)\u001b[0m\n\u001b[1;32m      <a href='vscode-notebook-cell://wsl%2Bubuntu/home/prf/TLN1920/Mazzei/esercitazione1/esercitazione1.ipynb#ch0000015vscode-remote?line=4'>5</a>\u001b[0m all_true_tags \u001b[39m=\u001b[39m []\n\u001b[1;32m      <a href='vscode-notebook-cell://wsl%2Bubuntu/home/prf/TLN1920/Mazzei/esercitazione1/esercitazione1.ipynb#ch0000015vscode-remote?line=6'>7</a>\u001b[0m \u001b[39mfor\u001b[39;00m sentence, true_tags \u001b[39min\u001b[39;00m \u001b[39mzip\u001b[39m(dataset_tokens[:\u001b[39m2500\u001b[39m], dataset_tags[:\u001b[39m2500\u001b[39m]):\n\u001b[0;32m----> <a href='vscode-notebook-cell://wsl%2Bubuntu/home/prf/TLN1920/Mazzei/esercitazione1/esercitazione1.ipynb#ch0000015vscode-remote?line=7'>8</a>\u001b[0m     predicted_tags \u001b[39m=\u001b[39m model\u001b[39m.\u001b[39;49mpredict(sentence)\n\u001b[1;32m     <a href='vscode-notebook-cell://wsl%2Bubuntu/home/prf/TLN1920/Mazzei/esercitazione1/esercitazione1.ipynb#ch0000015vscode-remote?line=9'>10</a>\u001b[0m     \u001b[39mfor\u001b[39;00m (token, predicted), true \u001b[39min\u001b[39;00m \u001b[39mzip\u001b[39m(predicted_tags, true_tags):\n\u001b[1;32m     <a href='vscode-notebook-cell://wsl%2Bubuntu/home/prf/TLN1920/Mazzei/esercitazione1/esercitazione1.ipynb#ch0000015vscode-remote?line=10'>11</a>\u001b[0m         \u001b[39m#print(token, predicted, true)\u001b[39;00m\n\u001b[1;32m     <a href='vscode-notebook-cell://wsl%2Bubuntu/home/prf/TLN1920/Mazzei/esercitazione1/esercitazione1.ipynb#ch0000015vscode-remote?line=11'>12</a>\u001b[0m         all_predictions\u001b[39m.\u001b[39mappend(predicted)\n",
      "File \u001b[0;32m~/TLN1920/Mazzei/esercitazione1/src/pos_tagging.py:103\u001b[0m, in \u001b[0;36mHMMPosTagger.predict\u001b[0;34m(self, tokens, with_viterbi_matrix)\u001b[0m\n\u001b[1;32m    <a href='file:///home/prf/TLN1920/Mazzei/esercitazione1/src/pos_tagging.py?line=99'>100</a>\u001b[0m viterbi_prefix \u001b[39m=\u001b[39m viterbi_mat\u001b[39m.\u001b[39mget_prefix_probs(token_idx)\n\u001b[1;32m    <a href='file:///home/prf/TLN1920/Mazzei/esercitazione1/src/pos_tagging.py?line=100'>101</a>\u001b[0m transition_prefix \u001b[39m=\u001b[39m [\u001b[39mself\u001b[39m\u001b[39m.\u001b[39mtransition_probs\u001b[39m.\u001b[39mget(prefix_tag, \u001b[39m0\u001b[39m)\u001b[39m.\u001b[39mget(pos, \u001b[39m0\u001b[39m) \u001b[39mfor\u001b[39;00m prefix_tag \u001b[39min\u001b[39;00m viterbi_mat\u001b[39m.\u001b[39mpos_tags]\n\u001b[0;32m--> <a href='file:///home/prf/TLN1920/Mazzei/esercitazione1/src/pos_tagging.py?line=102'>103</a>\u001b[0m viterbi_prob \u001b[39m=\u001b[39m (viterbi_prefix \u001b[39m*\u001b[39;49m transition_prefix)\u001b[39m.\u001b[39mmax() \u001b[39m*\u001b[39m emission_prob\n\u001b[1;32m    <a href='file:///home/prf/TLN1920/Mazzei/esercitazione1/src/pos_tagging.py?line=103'>104</a>\u001b[0m viterbi_mat\u001b[39m.\u001b[39massign(pos, token_idx, viterbi_prob)\n\u001b[1;32m    <a href='file:///home/prf/TLN1920/Mazzei/esercitazione1/src/pos_tagging.py?line=105'>106</a>\u001b[0m backpointers[token_idx\u001b[39m-\u001b[39m\u001b[39m1\u001b[39m]\u001b[39m.\u001b[39mappend((pos, (viterbi_prefix \u001b[39m*\u001b[39m transition_prefix)\u001b[39m.\u001b[39midxmax()))\n",
      "File \u001b[0;32m~/.miniconda/envs/TLN/lib/python3.9/site-packages/pandas/core/ops/common.py:70\u001b[0m, in \u001b[0;36m_unpack_zerodim_and_defer.<locals>.new_method\u001b[0;34m(self, other)\u001b[0m\n\u001b[1;32m     <a href='file:///home/prf/.miniconda/envs/TLN/lib/python3.9/site-packages/pandas/core/ops/common.py?line=65'>66</a>\u001b[0m             \u001b[39mreturn\u001b[39;00m \u001b[39mNotImplemented\u001b[39m\n\u001b[1;32m     <a href='file:///home/prf/.miniconda/envs/TLN/lib/python3.9/site-packages/pandas/core/ops/common.py?line=67'>68</a>\u001b[0m other \u001b[39m=\u001b[39m item_from_zerodim(other)\n\u001b[0;32m---> <a href='file:///home/prf/.miniconda/envs/TLN/lib/python3.9/site-packages/pandas/core/ops/common.py?line=69'>70</a>\u001b[0m \u001b[39mreturn\u001b[39;00m method(\u001b[39mself\u001b[39;49m, other)\n",
      "File \u001b[0;32m~/.miniconda/envs/TLN/lib/python3.9/site-packages/pandas/core/arraylike.py:116\u001b[0m, in \u001b[0;36mOpsMixin.__mul__\u001b[0;34m(self, other)\u001b[0m\n\u001b[1;32m    <a href='file:///home/prf/.miniconda/envs/TLN/lib/python3.9/site-packages/pandas/core/arraylike.py?line=113'>114</a>\u001b[0m \u001b[39m@unpack_zerodim_and_defer\u001b[39m(\u001b[39m\"\u001b[39m\u001b[39m__mul__\u001b[39m\u001b[39m\"\u001b[39m)\n\u001b[1;32m    <a href='file:///home/prf/.miniconda/envs/TLN/lib/python3.9/site-packages/pandas/core/arraylike.py?line=114'>115</a>\u001b[0m \u001b[39mdef\u001b[39;00m \u001b[39m__mul__\u001b[39m(\u001b[39mself\u001b[39m, other):\n\u001b[0;32m--> <a href='file:///home/prf/.miniconda/envs/TLN/lib/python3.9/site-packages/pandas/core/arraylike.py?line=115'>116</a>\u001b[0m     \u001b[39mreturn\u001b[39;00m \u001b[39mself\u001b[39;49m\u001b[39m.\u001b[39;49m_arith_method(other, operator\u001b[39m.\u001b[39;49mmul)\n",
      "File \u001b[0;32m~/.miniconda/envs/TLN/lib/python3.9/site-packages/pandas/core/series.py:5639\u001b[0m, in \u001b[0;36mSeries._arith_method\u001b[0;34m(self, other, op)\u001b[0m\n\u001b[1;32m   <a href='file:///home/prf/.miniconda/envs/TLN/lib/python3.9/site-packages/pandas/core/series.py?line=5636'>5637</a>\u001b[0m \u001b[39mdef\u001b[39;00m \u001b[39m_arith_method\u001b[39m(\u001b[39mself\u001b[39m, other, op):\n\u001b[1;32m   <a href='file:///home/prf/.miniconda/envs/TLN/lib/python3.9/site-packages/pandas/core/series.py?line=5637'>5638</a>\u001b[0m     \u001b[39mself\u001b[39m, other \u001b[39m=\u001b[39m ops\u001b[39m.\u001b[39malign_method_SERIES(\u001b[39mself\u001b[39m, other)\n\u001b[0;32m-> <a href='file:///home/prf/.miniconda/envs/TLN/lib/python3.9/site-packages/pandas/core/series.py?line=5638'>5639</a>\u001b[0m     \u001b[39mreturn\u001b[39;00m base\u001b[39m.\u001b[39;49mIndexOpsMixin\u001b[39m.\u001b[39;49m_arith_method(\u001b[39mself\u001b[39;49m, other, op)\n",
      "File \u001b[0;32m~/.miniconda/envs/TLN/lib/python3.9/site-packages/pandas/core/base.py:1294\u001b[0m, in \u001b[0;36mIndexOpsMixin._arith_method\u001b[0;34m(self, other, op)\u001b[0m\n\u001b[1;32m   <a href='file:///home/prf/.miniconda/envs/TLN/lib/python3.9/site-packages/pandas/core/base.py?line=1290'>1291</a>\u001b[0m rvalues \u001b[39m=\u001b[39m ops\u001b[39m.\u001b[39mmaybe_prepare_scalar_for_op(rvalues, lvalues\u001b[39m.\u001b[39mshape)\n\u001b[1;32m   <a href='file:///home/prf/.miniconda/envs/TLN/lib/python3.9/site-packages/pandas/core/base.py?line=1291'>1292</a>\u001b[0m rvalues \u001b[39m=\u001b[39m ensure_wrapped_if_datetimelike(rvalues)\n\u001b[0;32m-> <a href='file:///home/prf/.miniconda/envs/TLN/lib/python3.9/site-packages/pandas/core/base.py?line=1293'>1294</a>\u001b[0m \u001b[39mwith\u001b[39;00m np\u001b[39m.\u001b[39merrstate(\u001b[39mall\u001b[39m\u001b[39m=\u001b[39m\u001b[39m\"\u001b[39m\u001b[39mignore\u001b[39m\u001b[39m\"\u001b[39m):\n\u001b[1;32m   <a href='file:///home/prf/.miniconda/envs/TLN/lib/python3.9/site-packages/pandas/core/base.py?line=1294'>1295</a>\u001b[0m     result \u001b[39m=\u001b[39m ops\u001b[39m.\u001b[39marithmetic_op(lvalues, rvalues, op)\n\u001b[1;32m   <a href='file:///home/prf/.miniconda/envs/TLN/lib/python3.9/site-packages/pandas/core/base.py?line=1296'>1297</a>\u001b[0m \u001b[39mreturn\u001b[39;00m \u001b[39mself\u001b[39m\u001b[39m.\u001b[39m_construct_result(result, name\u001b[39m=\u001b[39mres_name)\n",
      "File \u001b[0;32m~/.miniconda/envs/TLN/lib/python3.9/site-packages/numpy/core/_ufunc_config.py:430\u001b[0m, in \u001b[0;36merrstate.__enter__\u001b[0;34m(self)\u001b[0m\n\u001b[1;32m    <a href='file:///home/prf/.miniconda/envs/TLN/lib/python3.9/site-packages/numpy/core/_ufunc_config.py?line=428'>429</a>\u001b[0m \u001b[39mdef\u001b[39;00m \u001b[39m__enter__\u001b[39m(\u001b[39mself\u001b[39m):\n\u001b[0;32m--> <a href='file:///home/prf/.miniconda/envs/TLN/lib/python3.9/site-packages/numpy/core/_ufunc_config.py?line=429'>430</a>\u001b[0m     \u001b[39mself\u001b[39m\u001b[39m.\u001b[39moldstate \u001b[39m=\u001b[39m seterr(\u001b[39m*\u001b[39;49m\u001b[39m*\u001b[39;49m\u001b[39mself\u001b[39;49m\u001b[39m.\u001b[39;49mkwargs)\n\u001b[1;32m    <a href='file:///home/prf/.miniconda/envs/TLN/lib/python3.9/site-packages/numpy/core/_ufunc_config.py?line=430'>431</a>\u001b[0m     \u001b[39mif\u001b[39;00m \u001b[39mself\u001b[39m\u001b[39m.\u001b[39mcall \u001b[39mis\u001b[39;00m \u001b[39mnot\u001b[39;00m _Unspecified:\n\u001b[1;32m    <a href='file:///home/prf/.miniconda/envs/TLN/lib/python3.9/site-packages/numpy/core/_ufunc_config.py?line=431'>432</a>\u001b[0m         \u001b[39mself\u001b[39m\u001b[39m.\u001b[39moldcall \u001b[39m=\u001b[39m seterrcall(\u001b[39mself\u001b[39m\u001b[39m.\u001b[39mcall)\n",
      "\u001b[0;31mKeyboardInterrupt\u001b[0m: "
     ]
    }
   ],
   "source": [
    "import src.smoothing as sm\n",
    "import src.utils as utils\n",
    "\n",
    "\n",
    "pos_tags = ['ADJ', 'ADP', 'ADV', 'AUX', 'CCONJ', 'DET', 'NOUN',\n",
    " 'NUM', 'PART', 'PRON', 'PROPN', 'PUNCT', 'SCONJ', 'VERB', 'X']\n",
    "\n",
    "latin_derivational_suffixes = utils.load_pattern_rules(Path(\"data/latin_derivational_suffixes_rules.txt\"))\n",
    "\n",
    "smoothers = [(\"default\", None),\n",
    "             (\"noun\", sm.NounSmoother()),\n",
    "             (\"noun_verb\", sm.NounVerbSmoother()),\n",
    "             (\"uniform\", sm.UniformSmoother(pos_tags)),\n",
    "             (\"rule_based\", sm.RuleBasedSmoother(latin_derivational_suffixes))]\n",
    "\n",
    "stats = {}\n",
    "\n",
    "for smooth_config in smoothers:\n",
    "    print(f\"evaluating {smooth_config[0]}\")\n",
    "    \n",
    "    tagger = HMMPosTagger(smoother=smooth_config[1])\n",
    "    tagger.fit(train_tokens, train_tags)\n",
    "\n",
    "    acc, conf_mat = evaluate(tagger, dev_tokens, dev_tags, labels=pos_tags)\n",
    "\n",
    "    stats[smooth_config[0]] = {\n",
    "        \"accuracy\": acc,\n",
    "        \"confusion_matrix\": conf_mat\n",
    "    }"
   ]
  },
  {
   "cell_type": "code",
   "execution_count": 91,
   "metadata": {},
   "outputs": [
    {
     "name": "stdout",
     "output_type": "stream",
     "text": [
      "default 0.950\n",
      "noun 0.969\n",
      "noun_verb 0.969\n",
      "uniform 0.971\n",
      "rule_based 0.855\n"
     ]
    }
   ],
   "source": [
    "for run in stats:\n",
    "    print(run, f'{stats[run][\"accuracy\"]:.3f}')"
   ]
  },
  {
   "cell_type": "markdown",
   "metadata": {},
   "source": [
    "##### How many tokens od dev set are not included in the training? A proxy measure to asses how much influence have the smoothing mechanism"
   ]
  },
  {
   "cell_type": "code",
   "execution_count": 75,
   "metadata": {},
   "outputs": [
    {
     "name": "stdout",
     "output_type": "stream",
     "text": [
      "There are 135 unknown words in dev set\n"
     ]
    }
   ],
   "source": [
    "dev_set_vocab = set(tok for sent in test_tokens for tok in sent)\n",
    "\n",
    "diff = dev_set_vocab.difference(tagger.emission_probs_smoother.known_tokens)\n",
    "print(f\"There are {len(diff)} unknown words in dev set\")"
   ]
  },
  {
   "cell_type": "code",
   "execution_count": 70,
   "metadata": {},
   "outputs": [
    {
     "ename": "AttributeError",
     "evalue": "'NoneType' object has no attribute 'matrix'",
     "output_type": "error",
     "traceback": [
      "\u001b[0;31m---------------------------------------------------------------------------\u001b[0m",
      "\u001b[0;31mAttributeError\u001b[0m                            Traceback (most recent call last)",
      "\u001b[1;32m/home/prf/TLN1920/Mazzei/esercitazione1/esercitazione1.ipynb Cell 15'\u001b[0m in \u001b[0;36m<module>\u001b[0;34m\u001b[0m\n\u001b[0;32m----> <a href='vscode-notebook-cell://wsl%2Bubuntu/home/prf/TLN1920/Mazzei/esercitazione1/esercitazione1.ipynb#ch0000050vscode-remote?line=0'>1</a>\u001b[0m tagger\u001b[39m.\u001b[39;49mviterbi_mat\u001b[39m.\u001b[39;49mmatrix\n",
      "\u001b[0;31mAttributeError\u001b[0m: 'NoneType' object has no attribute 'matrix'"
     ]
    }
   ],
   "source": []
  },
  {
   "cell_type": "markdown",
   "metadata": {},
   "source": [
    "### Test taggers"
   ]
  },
  {
   "cell_type": "code",
   "execution_count": 20,
   "metadata": {},
   "outputs": [
    {
     "name": "stdout",
     "output_type": "stream",
     "text": [
      "evaluating random_baseline\n",
      "evaluating majority\n",
      "evaluating HMM+Viterbi\n",
      "evaluating HMM+Viterbi+UniformSmoothing\n"
     ]
    }
   ],
   "source": [
    "import src.pos_tagging as tagging\n",
    "import src.smoothing as sm\n",
    "\n",
    "TAGSET = ['ADJ', 'ADP', 'ADV', 'AUX', 'CCONJ', 'DET', 'NOUN',\n",
    " 'NUM', 'PART', 'PRON', 'PROPN', 'PUNCT', 'SCONJ', 'VERB', 'X']\n",
    "\n",
    "models = [(\"random_baseline\", tagging.DummyRandomTagger()),\n",
    "          (\"majority\", tagging.DummyMajorityTagger()),\n",
    "          (\"HMM+Viterbi\", tagging.HMMPosTagger()),\n",
    "          (\"HMM+Viterbi+UniformSmoothing\", tagging.HMMPosTagger(sm.UniformSmoother(TAGSET)))]\n",
    "\n",
    "stats = {}\n",
    "\n",
    "for config in models:\n",
    "    print(f\"evaluating {config[0]}\")\n",
    "    \n",
    "    tagger = config[1]\n",
    "    tagger.fit(train_tokens, train_tags)\n",
    "    acc, conf_mat = evaluate(tagger, test_tokens + dev_tokens, test_tags + dev_tags, labels=TAGSET)\n",
    "\n",
    "    stats[config[0]] = {\n",
    "        \"accuracy\": acc,\n",
    "        \"confusion_matrix\": conf_mat\n",
    "    }\n"
   ]
  },
  {
   "cell_type": "code",
   "execution_count": 21,
   "metadata": {},
   "outputs": [
    {
     "name": "stdout",
     "output_type": "stream",
     "text": [
      "random_baseline 0.066\n",
      "majority 0.969\n",
      "HMM+Viterbi 0.934\n",
      "HMM+Viterbi+UniformSmoothing 0.968\n"
     ]
    }
   ],
   "source": [
    "for run in stats:\n",
    "    print(run, f'{stats[run][\"accuracy\"]:.3f}')"
   ]
  },
  {
   "cell_type": "markdown",
   "metadata": {},
   "source": [
    "## Smoothing"
   ]
  },
  {
   "cell_type": "code",
   "execution_count": 12,
   "metadata": {},
   "outputs": [
    {
     "name": "stdout",
     "output_type": "stream",
     "text": [
      "0.0058486109548982115\n",
      "1e-16\n"
     ]
    }
   ],
   "source": [
    "import src.smoothing as sm\n",
    "import src.pos_tagging as pt\n",
    "\n",
    "tagger = pt.HMMPosTagger()\n",
    "tagger.fit(train_tokens, train_tags)\n",
    "\n",
    "ds = sm.BaseSmoother(tagger.emission_probs)\n",
    "print(ds.get(\"ADP\",\"secundum\"))\n",
    "print(ds.get(\"ADPJ\",\"innuendo\"))\n",
    "\n"
   ]
  },
  {
   "cell_type": "code",
   "execution_count": null,
   "metadata": {},
   "outputs": [],
   "source": [
    "ns = sm.NounSmoother(tagger.emission_probs)\n",
    "print(ns.get(\"ADP\",\"secundum\"))\n",
    "print(ns.get(\"VERB\",\"innuendo\"))\n",
    "print(ns.get(\"NOUN\",\"innuendo\"))"
   ]
  },
  {
   "cell_type": "code",
   "execution_count": null,
   "metadata": {},
   "outputs": [],
   "source": [
    "nvs = sm.NounVerbSmoother(tagger.emission_probs)\n",
    "\n",
    "print(nvs.get(\"ADP\",\"secundum\"))\n",
    "print(nvs.get(\"PUNCT\",\"innuendo\"))\n",
    "print(nvs.get(\"VERB\",\"innuendo\"))\n",
    "print(nvs.get(\"NOUN\",\"innuendo\"))"
   ]
  },
  {
   "cell_type": "code",
   "execution_count": null,
   "metadata": {},
   "outputs": [],
   "source": [
    "us = sm.UniformSmoother(tagger.emission_probs, [\"NOUN\", \"VERB\", \"ADJ\"])\n",
    "print(us.get(\"ADP\",\"secundum\"))\n",
    "print(us.get(\"NOUN\",\"innuendo\"))\n",
    "print(us.get(\"VERB\",\"innuendo\"))\n",
    "print(us.get(\"ADJ\",\"innuendo\"))"
   ]
  },
  {
   "cell_type": "code",
   "execution_count": null,
   "metadata": {},
   "outputs": [],
   "source": [
    "# for latin reference here https://en.wiktionary.org/wiki/Category:Latin_derivational_suffixes\n",
    "patterns = [\n",
    "    (r'.*fico$', 'VERB'),             \n",
    "    (r'.*ico$', 'VERB'),               \n",
    "    (r'.*idio$', 'VERB'),               \n",
    "    (r'.*isco$', 'VERB'),               \n",
    "    (r'.*illo', 'VERB'),               \n",
    "    (r'.*urio$', 'VERB'),\n",
    "    \n",
    "    (r'.*agium$', 'VERB'),\n",
    "    (r'.*arium$', 'VERB'),\n",
    "    (r'.*astrum$', 'VERB'),\n",
    "    (r'.*$cidium', 'VERB'),\n",
    "    (r'.*$edo', 'VERB'),\n",
    "    (r'.*$fex', 'VERB'),\n",
    "    (r'.*$ismus', 'VERB'),\n",
    "]\n",
    "\n",
    "rbs = sm.RuleBasedSmoother(patterns, probs_dict=tagger.emission_probs)\n",
    "print(us.get(\"ADP\",\"secundum\"))\n",
    "print(rbs.get(\"VERB\", \"antico\"))\n",
    "print(rbs.get(\"VERB\", \"aseo\"))\n",
    "print(rbs.get(\"NOUN\", \"antema\"))"
   ]
  }
 ],
 "metadata": {
  "interpreter": {
   "hash": "a10f402d79903433d7e3a695b7843879710e10d05a5dcd770072b8d474859ffe"
  },
  "kernelspec": {
   "display_name": "Python 3.9.5 ('base')",
   "language": "python",
   "name": "python3"
  },
  "language_info": {
   "codemirror_mode": {
    "name": "ipython",
    "version": 3
   },
   "file_extension": ".py",
   "mimetype": "text/x-python",
   "name": "python",
   "nbconvert_exporter": "python",
   "pygments_lexer": "ipython3",
   "version": "3.9.7"
  },
  "orig_nbformat": 4
 },
 "nbformat": 4,
 "nbformat_minor": 2
}
