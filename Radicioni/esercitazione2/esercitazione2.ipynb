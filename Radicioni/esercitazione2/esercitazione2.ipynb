{
 "cells": [
  {
   "cell_type": "code",
   "metadata": {
    "cell_id": "00000-ae9fff48-46e3-40d3-ac97-c6a0a587ed00",
    "deepnote_to_be_reexecuted": false,
    "source_hash": "aadde02d",
    "execution_start": 1620813139752,
    "execution_millis": 1553,
    "deepnote_cell_type": "code"
   },
   "source": "import nltk\nfrom nltk.corpus import wordnet as wn\nfrom nltk.corpus import framenet as fn\nimport pandas as pd\nfrom pathlib import Path\nimport src.mapping as mapp\n\nnltk.download('framenet_v17')\nnltk.download('punkt')\nnltk.download('wordnet')",
   "execution_count": null,
   "outputs": [
    {
     "name": "stderr",
     "text": "[nltk_data] Downloading package framenet_v17 to /root/nltk_data...\n[nltk_data]   Package framenet_v17 is already up-to-date!\n[nltk_data] Downloading package punkt to /root/nltk_data...\n[nltk_data]   Package punkt is already up-to-date!\n[nltk_data] Downloading package wordnet to /root/nltk_data...\n[nltk_data]   Package wordnet is already up-to-date!\n",
     "output_type": "stream"
    },
    {
     "output_type": "execute_result",
     "execution_count": 1,
     "data": {
      "text/plain": "True"
     },
     "metadata": {}
    }
   ]
  },
  {
   "cell_type": "markdown",
   "source": "# Esercitazione 2\n\nIn questa esercitazione vedremo come effettuare un task di allineamento tra 2 risorse lessicali: *FrameNet* e *WordNet*. Nello specifico vederemo come mappare gli \"slot\" di un frame ad un WordNet synset.\n\nL'esercitazione si divide in due 3 principali:\n\n* Annotazione manuale per creare una risorsa \"Gold Standard\".\n* Definizione di una procedura automatica di mapping.\n* Valutazione tra il mapping automatico e quello manuale.\n\n### Frameset\nI frame selezionati per l'esercitazione sono dati dalla chiamata a `getFrameSetForStudent('Fina')`. Il risultato della chamata viene riportato di seguito:\n\n> student: Fina\n> * ID:  660      frame: Existence\n> * ID: 1710      frame: Mental_activity\n> * ID:  111      frame: Education_teaching\n> * ID:  250      frame: Immobilization\n> * ID: 2231      frame: Response_scenario",
   "metadata": {
    "cell_id": "00001-146dbf45-05c9-4d00-8a85-7ae703041b75",
    "deepnote_cell_type": "markdown"
   }
  },
  {
   "cell_type": "code",
   "metadata": {
    "cell_id": "00002-b311cb0c-b2e4-43b7-b152-2ce2201da465",
    "deepnote_to_be_reexecuted": false,
    "source_hash": "684e138c",
    "execution_start": 1620813141317,
    "execution_millis": 1,
    "deepnote_cell_type": "code"
   },
   "source": "frame_names = ['Existence', 'Mental_activity', \n               'Education_teaching', 'Immobilization', \n               'Response_scenario']",
   "execution_count": null,
   "outputs": []
  },
  {
   "cell_type": "markdown",
   "source": "## Annotazione\n\nLa fase di annotazione prevede di creare un mapping manuale tra elementi del frame e WordNet sysnet. La funzione `generate_annotations()` genera un file tsv `output/to_annotate.tsv` di aiuto nel processo di annotazione. \n\nDopo aver annotato con i rispettivi sysnet id, il file deve essere **rinominato** in `annotations.tsv` e copiato nella directory `data`. Quest'ultimo passaggio è necessario per far funzionare correttamente il resto del codice presente in questo notebook!",
   "metadata": {
    "tags": [],
    "cell_id": "00004-c1c7826c-8a09-40c0-ad28-9f47a8508165",
    "deepnote_cell_type": "markdown"
   }
  },
  {
   "cell_type": "code",
   "metadata": {
    "cell_id": "00004-52765ad5-4b20-4149-ae1e-5a4de9a226db",
    "deepnote_to_be_reexecuted": false,
    "source_hash": "1711ca56",
    "execution_start": 1620813141318,
    "execution_millis": 1,
    "deepnote_cell_type": "code"
   },
   "source": "def frame_to_dataframe(frame):\n    frame_name = [f\"{frame.name}\"]\n    FEs = [f\"{v.name}\" for k,v in frame['FE'].items()]\n    LUs = [f\"{v.name}\" for k,v in frame['lexUnit'].items()]\n\n    frame_def = [frame.definition.split('.')[0]] #just the first sentence of the frame definition text\n    FEs_def = [v.definition for k,v in frame['FE'].items()]\n    LUs_def = [v.definition for k,v in frame['lexUnit'].items()]\n    \n    index_name = [frame.name] * (1 + \n    len(FEs) + len(LUs)) # index first level\n    index_frame = ['NAME'] # second level index for the frame itself\n    index_FE = ['FE'] * len(FEs) # second level index for frame elements slots\n    index_lu = ['LU'] * len(LUs) # second level index for lexical unit slots\n\n\n    return pd.DataFrame({'value': frame_name + FEs + LUs, \n                         'definition': frame_def + FEs_def + LUs_def}, \n                         index=[index_name, index_frame + index_FE + index_lu ], \n                         columns=['value', 'definition'])\n\n\ndef generate_annotations(frame_names):\n    frames = pd.DataFrame()\n\n    frames = [frame_to_dataframe(fn.frame(name)) for name in frame_names]\n\n    frames_df = pd.concat(frames, axis=0)\n    frames_df['synset_ID'] = None\n    frames_df.index.names = ['frame', 'slot']\n    \n    return frames_df",
   "execution_count": null,
   "outputs": []
  },
  {
   "cell_type": "code",
   "metadata": {
    "cell_id": "00005-512b910b-675a-4c51-815f-63fce4f85320",
    "deepnote_to_be_reexecuted": false,
    "source_hash": "87937fef",
    "execution_start": 1620813141327,
    "execution_millis": 1293,
    "deepnote_cell_type": "code"
   },
   "source": "generate_annotations(frame_names).to_csv('output/to_annotate.tsv', sep='\\t')\n",
   "execution_count": null,
   "outputs": []
  },
  {
   "cell_type": "markdown",
   "source": "Dopo aver generato il file di annotazione, bisogna effettuare il mapping **manualmente**.\nIl risultato rappresenta il gold standard con cui comparare l'output della procedura di mapping",
   "metadata": {
    "cell_id": "00006-df9876d3-ef22-4a83-bbb7-76f1b27cad66",
    "deepnote_cell_type": "markdown"
   }
  },
  {
   "cell_type": "code",
   "metadata": {
    "cell_id": "00007-40775b53-a8e4-456d-885f-14f1d1b11fad",
    "deepnote_to_be_reexecuted": false,
    "source_hash": "36fd236f",
    "execution_start": 1620813142623,
    "execution_millis": 40,
    "deepnote_cell_type": "code"
   },
   "source": "annotations  = pd.read_csv('data/annotations.tsv', sep='\\t', index_col=[0,1], skipinitialspace=True)\n\nannotations.head(15) ",
   "execution_count": null,
   "outputs": [
    {
     "output_type": "execute_result",
     "execution_count": 5,
     "data": {
      "application/vnd.deepnote.dataframe.v2+json": {
       "row_count": 15,
       "column_count": 3,
       "columns": [
        {
         "name": "value",
         "dtype": "object",
         "stats": {
          "unique_count": 15,
          "nan_count": 0,
          "categories": [
           {
            "name": "Existence",
            "count": 1
           },
           {
            "name": "Entity",
            "count": 1
           },
           {
            "name": "13 others",
            "count": 13
           }
          ]
         }
        },
        {
         "name": "definition",
         "dtype": "object",
         "stats": {
          "unique_count": 15,
          "nan_count": 0,
          "categories": [
           {
            "name": "An Entity is declared to exist, generally irrespective of its position or even the possibility of its position being specified",
            "count": 1
           },
           {
            "name": "Some entity, abstract or concrete, which is stated to exist.",
            "count": 1
           },
           {
            "name": "13 others",
            "count": 13
           }
          ]
         }
        },
        {
         "name": "synset_ID",
         "dtype": "object",
         "stats": {
          "unique_count": 14,
          "nan_count": 0,
          "categories": [
           {
            "name": "being.n.01",
            "count": 2
           },
           {
            "name": "entity.n.01",
            "count": 1
           },
           {
            "name": "12 others",
            "count": 12
           }
          ]
         }
        },
        {
         "name": "_deepnote_index_column",
         "dtype": "object"
        }
       ],
       "rows_top": [
        {
         "value": "Existence",
         "definition": "An Entity is declared to exist, generally irrespective of its position or even the possibility of its position being specified",
         "synset_ID": "being.n.01",
         "_deepnote_index_column": "('Existence', 'NAME')"
        },
        {
         "value": "Entity",
         "definition": "Some entity, abstract or concrete, which is stated to exist.",
         "synset_ID": "entity.n.01",
         "_deepnote_index_column": "('Existence', 'FE')"
        },
        {
         "value": "Time",
         "definition": "A time at which the entity is in existence.",
         "synset_ID": "time.n.05",
         "_deepnote_index_column": "('Existence', 'FE')"
        },
        {
         "value": "Duration",
         "definition": "The period during which the Entity exists.",
         "synset_ID": "duration.n.01",
         "_deepnote_index_column": "('Existence', 'FE')"
        },
        {
         "value": "Inherent_purpose",
         "definition": "The reason why the Entity exists.  Generally, this is more specifically the reason why the Entity was made.",
         "synset_ID": "purpose.n.01",
         "_deepnote_index_column": "('Existence', 'FE')"
        },
        {
         "value": "State",
         "definition": "The condition that the Entity exists in.  'Natural electricity exists in many forms:  in storms, solar wind, and nerve impulses.'",
         "synset_ID": "state.n.02",
         "_deepnote_index_column": "('Existence', 'FE')"
        },
        {
         "value": "Explanation",
         "definition": "A situation, force, or entity which brings about the existence of the Entity.",
         "synset_ID": "explanation.n.01",
         "_deepnote_index_column": "('Existence', 'FE')"
        },
        {
         "value": "Place",
         "definition": "Where the Entity exists.",
         "synset_ID": "position.n.01",
         "_deepnote_index_column": "('Existence', 'FE')"
        },
        {
         "value": "Circumstances",
         "definition": "Circumstances marks expressions that indicate a set of conditions under which the Entity is declared to exist",
         "synset_ID": "circumstance.n.01",
         "_deepnote_index_column": "('Existence', 'FE')"
        },
        {
         "value": "Viewpoint",
         "definition": "The perspective of an individual who judges whether they consider the Entity (or further state of affairs) to exist or not.  'For him, there 's just too much drink in the world.'",
         "synset_ID": "point_of_view.n.01",
         "_deepnote_index_column": "('Existence', 'FE')"
        },
        {
         "value": "Concessive",
         "definition": "This FE signifies that the state of affairs expressed by the main clause (containing the target) occurs or holds, and something other than that state of affairs would be expected given the state of affairs in the concessive clause. ",
         "synset_ID": "concessive.a.01",
         "_deepnote_index_column": "('Existence', 'FE')"
        },
        {
         "value": "Depictive",
         "definition": "This FE describes a participant of the state of affairs introduced by the target as being in some state during the action. ",
         "synset_ID": "delineative.s.01",
         "_deepnote_index_column": "('Existence', 'FE')"
        },
        {
         "value": "exist.v",
         "definition": "FN: be real, directly or indirectly perceptible.",
         "synset_ID": "exist.v.01",
         "_deepnote_index_column": "('Existence', 'LU')"
        },
        {
         "value": "existence.n",
         "definition": "COD:  the fact or state of existing.",
         "synset_ID": "being.n.01",
         "_deepnote_index_column": "('Existence', 'LU')"
        },
        {
         "value": "real.a",
         "definition": "COD: actually existing or occurring in fact; not imagined or supposed.",
         "synset_ID": "real.a.01",
         "_deepnote_index_column": "('Existence', 'LU')"
        }
       ],
       "rows_bottom": null
      },
      "text/plain": "                           value  \\\nframe     slot                     \nExistence NAME         Existence   \n          FE              Entity   \n          FE                Time   \n          FE            Duration   \n          FE    Inherent_purpose   \n          FE               State   \n          FE         Explanation   \n          FE               Place   \n          FE       Circumstances   \n          FE           Viewpoint   \n          FE          Concessive   \n          FE           Depictive   \n          LU             exist.v   \n          LU         existence.n   \n          LU              real.a   \n\n                                                       definition  \\\nframe     slot                                                      \nExistence NAME  An Entity is declared to exist, generally irre...   \n          FE    Some entity, abstract or concrete, which is st...   \n          FE          A time at which the entity is in existence.   \n          FE           The period during which the Entity exists.   \n          FE    The reason why the Entity exists.  Generally, ...   \n          FE    The condition that the Entity exists in.  'Nat...   \n          FE    A situation, force, or entity which brings abo...   \n          FE                             Where the Entity exists.   \n          FE    Circumstances marks expressions that indicate ...   \n          FE    The perspective of an individual who judges wh...   \n          FE    This FE signifies that the state of affairs ex...   \n          FE    This FE describes a participant of the state o...   \n          LU     FN: be real, directly or indirectly perceptible.   \n          LU                 COD:  the fact or state of existing.   \n          LU    COD: actually existing or occurring in fact; n...   \n\n                         synset_ID  \nframe     slot                      \nExistence NAME          being.n.01  \n          FE           entity.n.01  \n          FE             time.n.05  \n          FE         duration.n.01  \n          FE          purpose.n.01  \n          FE            state.n.02  \n          FE      explanation.n.01  \n          FE         position.n.01  \n          FE     circumstance.n.01  \n          FE    point_of_view.n.01  \n          FE       concessive.a.01  \n          FE      delineative.s.01  \n          LU            exist.v.01  \n          LU            being.n.01  \n          LU             real.a.01  ",
      "text/html": "<div>\n<style scoped>\n    .dataframe tbody tr th:only-of-type {\n        vertical-align: middle;\n    }\n\n    .dataframe tbody tr th {\n        vertical-align: top;\n    }\n\n    .dataframe thead th {\n        text-align: right;\n    }\n</style>\n<table border=\"1\" class=\"dataframe\">\n  <thead>\n    <tr style=\"text-align: right;\">\n      <th></th>\n      <th></th>\n      <th>value</th>\n      <th>definition</th>\n      <th>synset_ID</th>\n    </tr>\n    <tr>\n      <th>frame</th>\n      <th>slot</th>\n      <th></th>\n      <th></th>\n      <th></th>\n    </tr>\n  </thead>\n  <tbody>\n    <tr>\n      <th rowspan=\"15\" valign=\"top\">Existence</th>\n      <th>NAME</th>\n      <td>Existence</td>\n      <td>An Entity is declared to exist, generally irre...</td>\n      <td>being.n.01</td>\n    </tr>\n    <tr>\n      <th>FE</th>\n      <td>Entity</td>\n      <td>Some entity, abstract or concrete, which is st...</td>\n      <td>entity.n.01</td>\n    </tr>\n    <tr>\n      <th>FE</th>\n      <td>Time</td>\n      <td>A time at which the entity is in existence.</td>\n      <td>time.n.05</td>\n    </tr>\n    <tr>\n      <th>FE</th>\n      <td>Duration</td>\n      <td>The period during which the Entity exists.</td>\n      <td>duration.n.01</td>\n    </tr>\n    <tr>\n      <th>FE</th>\n      <td>Inherent_purpose</td>\n      <td>The reason why the Entity exists.  Generally, ...</td>\n      <td>purpose.n.01</td>\n    </tr>\n    <tr>\n      <th>FE</th>\n      <td>State</td>\n      <td>The condition that the Entity exists in.  'Nat...</td>\n      <td>state.n.02</td>\n    </tr>\n    <tr>\n      <th>FE</th>\n      <td>Explanation</td>\n      <td>A situation, force, or entity which brings abo...</td>\n      <td>explanation.n.01</td>\n    </tr>\n    <tr>\n      <th>FE</th>\n      <td>Place</td>\n      <td>Where the Entity exists.</td>\n      <td>position.n.01</td>\n    </tr>\n    <tr>\n      <th>FE</th>\n      <td>Circumstances</td>\n      <td>Circumstances marks expressions that indicate ...</td>\n      <td>circumstance.n.01</td>\n    </tr>\n    <tr>\n      <th>FE</th>\n      <td>Viewpoint</td>\n      <td>The perspective of an individual who judges wh...</td>\n      <td>point_of_view.n.01</td>\n    </tr>\n    <tr>\n      <th>FE</th>\n      <td>Concessive</td>\n      <td>This FE signifies that the state of affairs ex...</td>\n      <td>concessive.a.01</td>\n    </tr>\n    <tr>\n      <th>FE</th>\n      <td>Depictive</td>\n      <td>This FE describes a participant of the state o...</td>\n      <td>delineative.s.01</td>\n    </tr>\n    <tr>\n      <th>LU</th>\n      <td>exist.v</td>\n      <td>FN: be real, directly or indirectly perceptible.</td>\n      <td>exist.v.01</td>\n    </tr>\n    <tr>\n      <th>LU</th>\n      <td>existence.n</td>\n      <td>COD:  the fact or state of existing.</td>\n      <td>being.n.01</td>\n    </tr>\n    <tr>\n      <th>LU</th>\n      <td>real.a</td>\n      <td>COD: actually existing or occurring in fact; n...</td>\n      <td>real.a.01</td>\n    </tr>\n  </tbody>\n</table>\n</div>"
     },
     "metadata": {}
    }
   ]
  },
  {
   "cell_type": "markdown",
   "source": "## Procedura di Mapping \n\nLa procedura automatica è basata sull'idea di **context overlapping** tra il contesto del frame (un suo slot) e quello del synset preso in considerazione.\nFOrmalmente:\n\n$$ \\operatorname{overlap(w,s)} = |\\operatorname{ctx}(w) \\cap \\operatorname{ctx}(s)| + 1 $$\n\nRimangono da definire due punti prima di implementare la procedura:\n\n* come rappresentare il contesto?\n* come gestire la polisemia dei termini?\n\nNel caso più semplice, il contesto può essere rappresentato dal modello *bag-of-words*. Nello specifico:\n\n### Framenet Context\n\nPer un elemento del frame, il contesto è dato dalla bag-of-words della definizione dell'elemento stesso. Vediamo un esempio:",
   "metadata": {
    "cell_id": "00008-2ae5f29b-b69b-49ab-91ab-2fda09507d45",
    "deepnote_cell_type": "markdown"
   }
  },
  {
   "cell_type": "code",
   "metadata": {
    "cell_id": "00009-564d1058-80d4-42c9-bbfb-33b964cdc9ea",
    "deepnote_to_be_reexecuted": false,
    "source_hash": "da04489a",
    "execution_start": 1620813142675,
    "execution_millis": 1529,
    "deepnote_cell_type": "code"
   },
   "source": "fncb = mapp.FrameNetContext()\n\nframe = fn.frame(frame_names[0])\nprint(f\"'{frame.name}' frame definition: {frame.definition}\")\nprint()\nframe_ctx = fncb.get_context(frame, frame.name, mapp.FrameNetSlotType.NAME)\nprint(f\"'{frame.name}' frame context: {frame_ctx}\")",
   "execution_count": null,
   "outputs": [
    {
     "name": "stdout",
     "text": "'Existence' frame definition: An Entity is declared to exist, generally irrespective of its position or even the possibility of its position being specified. Time, Duration, Inherent_purpose, and State may also be mentioned.  This frame is to be contrasted with Presence, which describes the existence of an Entity in a particular (and salient) spacio-temporal context, and which also entails the presence of an observer who can detect the existence of the Entity in that context.  'Finally, Poland ceased to exist as a state for hundreds of years.' 'Such laws exist to prevent exactly this kind of fraud.' 'There IS a Santa Claus!'\n\n'Existence' frame context: {'observer', 'frame', 'prevent', 'inherent_purpose', 'presence', \"'finally\", 'detect', 'ceased', 'hundred', 'contrasted', 'exactly', 'exist', 'salient', 'generally', 'fraud', 'existence', 'irrespective', 'law', 'time', 'declared', 'entity', 'duration', \"'there\", 'claus', 'context', 'poland', 'santa', 'entail', 'possibility', 'position', 'year', \"'such\", 'spacio-temporal', 'mentioned', 'describes', 'kind'}\n",
     "output_type": "stream"
    }
   ]
  },
  {
   "cell_type": "markdown",
   "source": "La classe 'FrameNetContext' permette di estrarre il contesto sia del frame, che da un so FE (frame element) o LU (lexical unit).\n\n### Wordnet Context\n\nPer un WordNet synset, il contesto è dato dalla bag-of-words da:\n* definizione della glossa del synset\n* frasi di esempio\n* le due precedenti ma dei synset in relazione di iperonimia e iponimia.\n\nVediamo un esempio:",
   "metadata": {
    "cell_id": "00010-562a1359-f4c0-4a3e-bc75-5b8d3c4ad252",
    "deepnote_cell_type": "markdown"
   }
  },
  {
   "cell_type": "code",
   "metadata": {
    "cell_id": "00011-aece9957-27df-4dfd-823f-bf15b627beac",
    "deepnote_to_be_reexecuted": false,
    "source_hash": "78ddb14b",
    "execution_start": 1620813144207,
    "execution_millis": 38,
    "deepnote_cell_type": "code"
   },
   "source": "wncb = mapp.WordNetContext()\n\nsynset = wn.synset('being.n.01')\nprint(f\"'{synset.name()}': {synset.definition()}\\nexample sentences: {synset.examples()}\")\nprint()\nsynset_ctx = wncb.get_context(synset)\nprint(f\"'{synset.name()}' frame context: {synset_ctx}\")",
   "execution_count": null,
   "outputs": [
    {
     "name": "stdout",
     "text": "'being.n.01': the state or fact of existing\nexample sentences: ['a point of view gradually coming into being', 'laws in existence for centuries']\n\n'being.n.01' frame context: {'point', 'capability', 'condition', 'characterize', 'action', 'fact', 'current', 'existing', 'century', 'main', 'occur', 'believed', 'previous', 'limit', 'alive', 'afterlife', 'religion', 'substance', 'material', 'existence', 'law', 'objectively', 'attribute', 'experience', 'gradually', 'mode', 'course', 'true', 'living', 'coming', 'event', 'eternal', 'individual', 'view', 'respect', 'reality', 'happening', 'characteristic', 'peacefully'}\n",
     "output_type": "stream"
    }
   ]
  },
  {
   "cell_type": "markdown",
   "source": "Rimane un ultimo punto lasciato in sospeso: il fenomeno della polisemia. Dato il valore di un elemento del frame, essenzialmente un termine/lemma, a questo possono corrispondere molteplici sensi:",
   "metadata": {
    "cell_id": "00012-fad77a1a-92c8-4b6a-ae27-e93a9ff46875",
    "deepnote_cell_type": "markdown"
   }
  },
  {
   "cell_type": "code",
   "metadata": {
    "cell_id": "00013-5cc214b8-a5e7-479b-98a9-92c495937f9b",
    "deepnote_to_be_reexecuted": false,
    "source_hash": "bab84c69",
    "execution_start": 1620813144224,
    "execution_millis": 21,
    "deepnote_cell_type": "code"
   },
   "source": "time_FE = annotations.loc[('Existence','FE'),'value'].iloc[1]\nwn.synsets(time_FE)",
   "execution_count": null,
   "outputs": [
    {
     "name": "stderr",
     "text": "/shared-libs/python3.7/py/lib/python3.7/site-packages/pandas/core/indexing.py:889: PerformanceWarning: indexing past lexsort depth may impact performance.\n  return self._getitem_tuple(key)\n",
     "output_type": "stream"
    },
    {
     "output_type": "execute_result",
     "execution_count": 8,
     "data": {
      "text/plain": "[Synset('time.n.01'),\n Synset('time.n.02'),\n Synset('time.n.03'),\n Synset('time.n.04'),\n Synset('time.n.05'),\n Synset('time.n.06'),\n Synset('clock_time.n.01'),\n Synset('fourth_dimension.n.01'),\n Synset('meter.n.04'),\n Synset('prison_term.n.01'),\n Synset('clock.v.01'),\n Synset('time.v.02'),\n Synset('time.v.03'),\n Synset('time.v.04'),\n Synset('time.v.05')]"
     },
     "metadata": {}
    }
   ]
  },
  {
   "cell_type": "markdown",
   "source": "La procedura di mapping seleziona il senso che **massimizza** la misura di overlapping. In formula:\n\n\n$$ s^* = \\operatorname*{max}_{\\substack{s \\in \\operatorname*{synsets(w)}}}\\operatorname*{overlap(w,s)} $$\n\nDi seguito vediamo un esecuzione della procedura su alcune annotazioni",
   "metadata": {
    "cell_id": "00014-3f215b89-4a32-468a-9804-b2a2cd6e2b34",
    "deepnote_cell_type": "markdown"
   }
  },
  {
   "cell_type": "code",
   "metadata": {
    "cell_id": "00015-f4fa0e6c-67d1-4a91-8e6b-55b8d5c2eb54",
    "deepnote_to_be_reexecuted": false,
    "source_hash": "84760200",
    "execution_start": 1620813144238,
    "execution_millis": 1,
    "deepnote_cell_type": "code"
   },
   "source": "def map_annotation(df_row, mapper):\n    \"\"\"\n    This is just an helper function to deal with DataFrame.apply method.map\n    The function just help to call mapping.FrameToSynsetMapper.map method with the right\n    parameters since apply() give in input a DataFrame.row istance\n    \"\"\"\n    frame_name = df_row.name[0]\n    slot_value = df_row['value']\n    slot_type = mapp.FrameNetSlotType[df_row.name[1]]\n    return mapper.map(frame_name, slot_value, slot_type)",
   "execution_count": null,
   "outputs": []
  },
  {
   "cell_type": "code",
   "metadata": {
    "cell_id": "00016-2a071ff8-186f-466c-af0d-056ef80d53aa",
    "deepnote_to_be_reexecuted": false,
    "source_hash": "5cad0994",
    "execution_start": 1620813144242,
    "execution_millis": 1266,
    "deepnote_cell_type": "code"
   },
   "source": "predictions = annotations[['value','synset_ID']].copy()  # discard definitions\n\nfncb = mapp.FrameNetContext()\nwncb = mapp.WordNetContext()\nmapper = mapp.FrameToSynsetMapper(fncb, wncb)\n\npredictions['system_synset'] = predictions.apply(map_annotation, mapper=mapper, axis=1)\n#predictions['system_synset'].fillna('',inplace=True) \npredictions.head(15)",
   "execution_count": null,
   "outputs": [
    {
     "output_type": "execute_result",
     "execution_count": 10,
     "data": {
      "application/vnd.deepnote.dataframe.v2+json": {
       "row_count": 15,
       "column_count": 3,
       "columns": [
        {
         "name": "value",
         "dtype": "object",
         "stats": {
          "unique_count": 15,
          "nan_count": 0,
          "categories": [
           {
            "name": "Existence",
            "count": 1
           },
           {
            "name": "Entity",
            "count": 1
           },
           {
            "name": "13 others",
            "count": 13
           }
          ]
         }
        },
        {
         "name": "synset_ID",
         "dtype": "object",
         "stats": {
          "unique_count": 14,
          "nan_count": 0,
          "categories": [
           {
            "name": "being.n.01",
            "count": 2
           },
           {
            "name": "entity.n.01",
            "count": 1
           },
           {
            "name": "12 others",
            "count": 12
           }
          ]
         }
        },
        {
         "name": "system_synset",
         "dtype": "object",
         "stats": {
          "unique_count": 13,
          "nan_count": 1,
          "categories": [
           {
            "name": "being.n.01",
            "count": 2
           },
           {
            "name": "12 others",
            "count": 12
           },
           {
            "name": "Missing",
            "count": 1
           }
          ]
         }
        },
        {
         "name": "_deepnote_index_column",
         "dtype": "object"
        }
       ],
       "rows_top": [
        {
         "value": "Existence",
         "synset_ID": "being.n.01",
         "system_synset": "being.n.01",
         "_deepnote_index_column": "('Existence', 'NAME')"
        },
        {
         "value": "Entity",
         "synset_ID": "entity.n.01",
         "system_synset": "entity.n.01",
         "_deepnote_index_column": "('Existence', 'FE')"
        },
        {
         "value": "Time",
         "synset_ID": "time.n.05",
         "system_synset": "time.n.05",
         "_deepnote_index_column": "('Existence', 'FE')"
        },
        {
         "value": "Duration",
         "synset_ID": "duration.n.01",
         "system_synset": "duration.n.01",
         "_deepnote_index_column": "('Existence', 'FE')"
        },
        {
         "value": "Inherent_purpose",
         "synset_ID": "purpose.n.01",
         "system_synset": "nan",
         "_deepnote_index_column": "('Existence', 'FE')"
        },
        {
         "value": "State",
         "synset_ID": "state.n.02",
         "system_synset": "state.n.02",
         "_deepnote_index_column": "('Existence', 'FE')"
        },
        {
         "value": "Explanation",
         "synset_ID": "explanation.n.01",
         "system_synset": "explanation.n.01",
         "_deepnote_index_column": "('Existence', 'FE')"
        },
        {
         "value": "Place",
         "synset_ID": "position.n.01",
         "system_synset": "topographic_point.n.01",
         "_deepnote_index_column": "('Existence', 'FE')"
        },
        {
         "value": "Circumstances",
         "synset_ID": "circumstance.n.01",
         "system_synset": "circumstance.n.01",
         "_deepnote_index_column": "('Existence', 'FE')"
        },
        {
         "value": "Viewpoint",
         "synset_ID": "point_of_view.n.01",
         "system_synset": "point_of_view.n.01",
         "_deepnote_index_column": "('Existence', 'FE')"
        },
        {
         "value": "Concessive",
         "synset_ID": "concessive.a.01",
         "system_synset": "concessive.a.01",
         "_deepnote_index_column": "('Existence', 'FE')"
        },
        {
         "value": "Depictive",
         "synset_ID": "delineative.s.01",
         "system_synset": "delineative.s.01",
         "_deepnote_index_column": "('Existence', 'FE')"
        },
        {
         "value": "exist.v",
         "synset_ID": "exist.v.01",
         "system_synset": "exist.v.01",
         "_deepnote_index_column": "('Existence', 'LU')"
        },
        {
         "value": "existence.n",
         "synset_ID": "being.n.01",
         "system_synset": "being.n.01",
         "_deepnote_index_column": "('Existence', 'LU')"
        },
        {
         "value": "real.a",
         "synset_ID": "real.a.01",
         "system_synset": "real.a.01",
         "_deepnote_index_column": "('Existence', 'LU')"
        }
       ],
       "rows_bottom": null
      },
      "text/plain": "                           value           synset_ID           system_synset\nframe     slot                                                              \nExistence NAME         Existence          being.n.01              being.n.01\n          FE              Entity         entity.n.01             entity.n.01\n          FE                Time           time.n.05               time.n.05\n          FE            Duration       duration.n.01           duration.n.01\n          FE    Inherent_purpose        purpose.n.01                    None\n          FE               State          state.n.02              state.n.02\n          FE         Explanation    explanation.n.01        explanation.n.01\n          FE               Place       position.n.01  topographic_point.n.01\n          FE       Circumstances   circumstance.n.01       circumstance.n.01\n          FE           Viewpoint  point_of_view.n.01      point_of_view.n.01\n          FE          Concessive     concessive.a.01         concessive.a.01\n          FE           Depictive    delineative.s.01        delineative.s.01\n          LU             exist.v          exist.v.01              exist.v.01\n          LU         existence.n          being.n.01              being.n.01\n          LU              real.a           real.a.01               real.a.01",
      "text/html": "<div>\n<style scoped>\n    .dataframe tbody tr th:only-of-type {\n        vertical-align: middle;\n    }\n\n    .dataframe tbody tr th {\n        vertical-align: top;\n    }\n\n    .dataframe thead th {\n        text-align: right;\n    }\n</style>\n<table border=\"1\" class=\"dataframe\">\n  <thead>\n    <tr style=\"text-align: right;\">\n      <th></th>\n      <th></th>\n      <th>value</th>\n      <th>synset_ID</th>\n      <th>system_synset</th>\n    </tr>\n    <tr>\n      <th>frame</th>\n      <th>slot</th>\n      <th></th>\n      <th></th>\n      <th></th>\n    </tr>\n  </thead>\n  <tbody>\n    <tr>\n      <th rowspan=\"15\" valign=\"top\">Existence</th>\n      <th>NAME</th>\n      <td>Existence</td>\n      <td>being.n.01</td>\n      <td>being.n.01</td>\n    </tr>\n    <tr>\n      <th>FE</th>\n      <td>Entity</td>\n      <td>entity.n.01</td>\n      <td>entity.n.01</td>\n    </tr>\n    <tr>\n      <th>FE</th>\n      <td>Time</td>\n      <td>time.n.05</td>\n      <td>time.n.05</td>\n    </tr>\n    <tr>\n      <th>FE</th>\n      <td>Duration</td>\n      <td>duration.n.01</td>\n      <td>duration.n.01</td>\n    </tr>\n    <tr>\n      <th>FE</th>\n      <td>Inherent_purpose</td>\n      <td>purpose.n.01</td>\n      <td>None</td>\n    </tr>\n    <tr>\n      <th>FE</th>\n      <td>State</td>\n      <td>state.n.02</td>\n      <td>state.n.02</td>\n    </tr>\n    <tr>\n      <th>FE</th>\n      <td>Explanation</td>\n      <td>explanation.n.01</td>\n      <td>explanation.n.01</td>\n    </tr>\n    <tr>\n      <th>FE</th>\n      <td>Place</td>\n      <td>position.n.01</td>\n      <td>topographic_point.n.01</td>\n    </tr>\n    <tr>\n      <th>FE</th>\n      <td>Circumstances</td>\n      <td>circumstance.n.01</td>\n      <td>circumstance.n.01</td>\n    </tr>\n    <tr>\n      <th>FE</th>\n      <td>Viewpoint</td>\n      <td>point_of_view.n.01</td>\n      <td>point_of_view.n.01</td>\n    </tr>\n    <tr>\n      <th>FE</th>\n      <td>Concessive</td>\n      <td>concessive.a.01</td>\n      <td>concessive.a.01</td>\n    </tr>\n    <tr>\n      <th>FE</th>\n      <td>Depictive</td>\n      <td>delineative.s.01</td>\n      <td>delineative.s.01</td>\n    </tr>\n    <tr>\n      <th>LU</th>\n      <td>exist.v</td>\n      <td>exist.v.01</td>\n      <td>exist.v.01</td>\n    </tr>\n    <tr>\n      <th>LU</th>\n      <td>existence.n</td>\n      <td>being.n.01</td>\n      <td>being.n.01</td>\n    </tr>\n    <tr>\n      <th>LU</th>\n      <td>real.a</td>\n      <td>real.a.01</td>\n      <td>real.a.01</td>\n    </tr>\n  </tbody>\n</table>\n</div>"
     },
     "metadata": {}
    }
   ]
  },
  {
   "cell_type": "markdown",
   "source": "## Risultati",
   "metadata": {
    "cell_id": "00017-01f978bb-816b-4485-bb8e-c07fe5bc16fc",
    "deepnote_cell_type": "markdown"
   }
  },
  {
   "cell_type": "code",
   "metadata": {
    "cell_id": "00018-8d8c5ea8-87b7-4fae-aa43-3a72fadb3022",
    "deepnote_to_be_reexecuted": false,
    "source_hash": "380067e8",
    "execution_start": 1620813145499,
    "execution_millis": 2,
    "deepnote_cell_type": "code"
   },
   "source": "def accuracy(true, predicted):\n    correct_predictions = sum([true_sense.lower() == predicted_sense.lower() for true_sense, predicted_sense in zip(true, predicted)\n    if true_sense and predicted_sense])\n    return correct_predictions / len(true)",
   "execution_count": null,
   "outputs": []
  },
  {
   "cell_type": "code",
   "metadata": {
    "cell_id": "00019-6cc45ffb-7469-4280-8291-439dcb7f5e2c",
    "deepnote_to_be_reexecuted": false,
    "source_hash": "ecd4303f",
    "execution_start": 1620813145505,
    "execution_millis": 9,
    "deepnote_cell_type": "code"
   },
   "source": "acc = accuracy(predictions['synset_ID'], predictions['system_synset'])\nprint(f\"Total accuracy achieved: {acc}\")",
   "execution_count": null,
   "outputs": [
    {
     "name": "stdout",
     "text": "Total accuracy achieved: 0.5196078431372549\n",
     "output_type": "stream"
    }
   ]
  },
  {
   "cell_type": "code",
   "metadata": {
    "cell_id": "00020-3a64664a-75dd-4407-9d2c-ade29ca3e8e4",
    "deepnote_to_be_reexecuted": false,
    "source_hash": "58a7bd9e",
    "execution_start": 1620813145555,
    "execution_millis": 7,
    "deepnote_cell_type": "code"
   },
   "source": "for frame_name, frame_df in predictions.groupby('frame'):\n    acc = accuracy(frame_df['synset_ID'], frame_df['system_synset'])\n    print(f\"Frame: {frame_name} with accuracy: {acc}\")",
   "execution_count": null,
   "outputs": [
    {
     "name": "stdout",
     "text": "Frame: Education_teaching with accuracy: 0.5510204081632653\nFrame: Existence with accuracy: 0.7647058823529411\nFrame: Immobilization with accuracy: 0.3125\nFrame: Mental_activity with accuracy: 0.45454545454545453\nFrame: Response_scenario with accuracy: 0.3333333333333333\n",
     "output_type": "stream"
    }
   ]
  },
  {
   "cell_type": "markdown",
   "source": "Come è possibile osservare dall'output delle precedenti celle, l'accuracy totale raggiunta dal sistema è del $\\approx 0.55\\%$ con un deviazione std. dello $\\approx 0.16\\%$ calcolata sull'accuracy individuale dei 5 frame del frameset.\n\nRisulta interessante analizzare i risultati ottenuti su i frame che hanno ottenuto la massima e la minima accuratezza, rispettivamente: *\"Existence\"* e *\"Response_scenario\"*. \n\nDa una prima analisi quantitativa e qualitativa della composizione dei due frame, possiamo suppore che la differenza di performance sia dovuta principalmente a:\n\n* Ricchezza delle annotazioni lessicali. Il numero di FE e LU del frame \"Existence\" è maggiore rispetto al frame \"Response_scenario\".\n* Ridotto \"**impedance mismatch**\" tra il frame \"Existence\" e i sensi presenti in WordNet. Il frame \"Response_scenario\" descrive una situazione stereotipizzata al contrario del frame \"Existence\" il quale presenta concetti molto generali che ben si adattano alla natura di WordNet, e quindi ne facilitano il mapping.\n\nQuest'ultimo punto, è stato empiricamente osservato anche in fase di annotazione manuale, in moltepliici casi.",
   "metadata": {
    "cell_id": "00021-22e0183e-f827-4e72-b312-96968abda1ef",
    "deepnote_cell_type": "markdown"
   }
  },
  {
   "cell_type": "code",
   "metadata": {
    "cell_id": "00022-201ffc2e-e718-49ed-9b52-9079ca34cbfb",
    "deepnote_to_be_reexecuted": false,
    "source_hash": "b439f0e7",
    "execution_start": 1620813145556,
    "execution_millis": 6,
    "deepnote_cell_type": "code"
   },
   "source": "fes_existence = len(fn.frame('Existence')['FE'])\nfes_response = len(fn.frame('Response_scenario')['FE'])\nprint(f\"# FEs {fes_existence} vs {fes_response}\")\n\nlus_existence = len(fn.frame('Existence')['lexUnit'])\nlus_response = len(fn.frame('Response_scenario')['lexUnit'])\nprint(f\"# LUs {lus_existence} vs {lus_response}\")",
   "execution_count": null,
   "outputs": [
    {
     "name": "stdout",
     "text": "# FEs 11 vs 8\n# LUs 5 vs 0\n",
     "output_type": "stream"
    }
   ]
  },
  {
   "cell_type": "markdown",
   "source": "Bisogna comunque porre molta attenzione a generalizzare la precedente osservazione in quanto il numero di campioni analizzati (frame) non è statisticamente significante. Le conclusioni riportate però possono porre le basi per una successiva (e più accurata) investigazione dell'errore.  ",
   "metadata": {
    "cell_id": "00023-d38c70e2-cc2a-42c5-b451-72c161936e3e",
    "deepnote_cell_type": "markdown"
   }
  },
  {
   "cell_type": "markdown",
   "source": "<a style='text-decoration:none;line-height:16px;display:flex;color:#5B5B62;padding:10px;justify-content:end;' href='https://deepnote.com?utm_source=created-in-deepnote-cell&projectId=afb22156-bb61-4d65-847d-18db79c0d4d2' target=\"_blank\">\n<img alt='Created in deepnote.com' style='display:inline;max-height:16px;margin:0px;margin-right:7.5px;' src='data:image/svg+xml;base64,PD94bWwgdmVyc2lvbj0iMS4wIiBlbmNvZGluZz0iVVRGLTgiPz4KPHN2ZyB3aWR0aD0iODBweCIgaGVpZ2h0PSI4MHB4IiB2aWV3Qm94PSIwIDAgODAgODAiIHZlcnNpb249IjEuMSIgeG1sbnM9Imh0dHA6Ly93d3cudzMub3JnLzIwMDAvc3ZnIiB4bWxuczp4bGluaz0iaHR0cDovL3d3dy53My5vcmcvMTk5OS94bGluayI+CiAgICA8IS0tIEdlbmVyYXRvcjogU2tldGNoIDU0LjEgKDc2NDkwKSAtIGh0dHBzOi8vc2tldGNoYXBwLmNvbSAtLT4KICAgIDx0aXRsZT5Hcm91cCAzPC90aXRsZT4KICAgIDxkZXNjPkNyZWF0ZWQgd2l0aCBTa2V0Y2guPC9kZXNjPgogICAgPGcgaWQ9IkxhbmRpbmciIHN0cm9rZT0ibm9uZSIgc3Ryb2tlLXdpZHRoPSIxIiBmaWxsPSJub25lIiBmaWxsLXJ1bGU9ImV2ZW5vZGQiPgogICAgICAgIDxnIGlkPSJBcnRib2FyZCIgdHJhbnNmb3JtPSJ0cmFuc2xhdGUoLTEyMzUuMDAwMDAwLCAtNzkuMDAwMDAwKSI+CiAgICAgICAgICAgIDxnIGlkPSJHcm91cC0zIiB0cmFuc2Zvcm09InRyYW5zbGF0ZSgxMjM1LjAwMDAwMCwgNzkuMDAwMDAwKSI+CiAgICAgICAgICAgICAgICA8cG9seWdvbiBpZD0iUGF0aC0yMCIgZmlsbD0iIzAyNjVCNCIgcG9pbnRzPSIyLjM3NjIzNzYyIDgwIDM4LjA0NzY2NjcgODAgNTcuODIxNzgyMiA3My44MDU3NTkyIDU3LjgyMTc4MjIgMzIuNzU5MjczOSAzOS4xNDAyMjc4IDMxLjY4MzE2ODMiPjwvcG9seWdvbj4KICAgICAgICAgICAgICAgIDxwYXRoIGQ9Ik0zNS4wMDc3MTgsODAgQzQyLjkwNjIwMDcsNzYuNDU0OTM1OCA0Ny41NjQ5MTY3LDcxLjU0MjI2NzEgNDguOTgzODY2LDY1LjI2MTk5MzkgQzUxLjExMjI4OTksNTUuODQxNTg0MiA0MS42NzcxNzk1LDQ5LjIxMjIyODQgMjUuNjIzOTg0Niw0OS4yMTIyMjg0IEMyNS40ODQ5Mjg5LDQ5LjEyNjg0NDggMjkuODI2MTI5Niw0My4yODM4MjQ4IDM4LjY0NzU4NjksMzEuNjgzMTY4MyBMNzIuODcxMjg3MSwzMi41NTQ0MjUgTDY1LjI4MDk3Myw2Ny42NzYzNDIxIEw1MS4xMTIyODk5LDc3LjM3NjE0NCBMMzUuMDA3NzE4LDgwIFoiIGlkPSJQYXRoLTIyIiBmaWxsPSIjMDAyODY4Ij48L3BhdGg+CiAgICAgICAgICAgICAgICA8cGF0aCBkPSJNMCwzNy43MzA0NDA1IEwyNy4xMTQ1MzcsMC4yNTcxMTE0MzYgQzYyLjM3MTUxMjMsLTEuOTkwNzE3MDEgODAsMTAuNTAwMzkyNyA4MCwzNy43MzA0NDA1IEM4MCw2NC45NjA0ODgyIDY0Ljc3NjUwMzgsNzkuMDUwMzQxNCAzNC4zMjk1MTEzLDgwIEM0Ny4wNTUzNDg5LDc3LjU2NzA4MDggNTMuNDE4MjY3Nyw3MC4zMTM2MTAzIDUzLjQxODI2NzcsNTguMjM5NTg4NSBDNTMuNDE4MjY3Nyw0MC4xMjg1NTU3IDM2LjMwMzk1NDQsMzcuNzMwNDQwNSAyNS4yMjc0MTcsMzcuNzMwNDQwNSBDMTcuODQzMDU4NiwzNy43MzA0NDA1IDkuNDMzOTE5NjYsMzcuNzMwNDQwNSAwLDM3LjczMDQ0MDUgWiIgaWQ9IlBhdGgtMTkiIGZpbGw9IiMzNzkzRUYiPjwvcGF0aD4KICAgICAgICAgICAgPC9nPgogICAgICAgIDwvZz4KICAgIDwvZz4KPC9zdmc+' > </img>\nCreated in <span style='font-weight:600;margin-left:4px;'>Deepnote</span></a>",
   "metadata": {
    "tags": [],
    "created_in_deepnote_cell": true,
    "deepnote_cell_type": "markdown"
   }
  }
 ],
 "nbformat": 4,
 "nbformat_minor": 2,
 "metadata": {
  "language_info": {
   "codemirror_mode": {
    "name": "ipython",
    "version": 3
   },
   "file_extension": ".py",
   "mimetype": "text/x-python",
   "name": "python",
   "nbconvert_exporter": "python",
   "pygments_lexer": "ipython3",
   "version": "3.8.8-final"
  },
  "orig_nbformat": 2,
  "kernelspec": {
   "name": "python3",
   "display_name": "Python 3.8.8 64-bit",
   "metadata": {
    "interpreter": {
     "hash": "739282abffc8079465c7416af47f8b6d2681da148d602a4884c4032805e054cf"
    }
   }
  },
  "deepnote_notebook_id": "40d2f746-b9b3-4599-818b-f6828e8df224",
  "deepnote": {},
  "deepnote_execution_queue": []
 }
}