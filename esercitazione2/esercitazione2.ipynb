{
 "metadata": {
  "language_info": {
   "codemirror_mode": {
    "name": "ipython",
    "version": 3
   },
   "file_extension": ".py",
   "mimetype": "text/x-python",
   "name": "python",
   "nbconvert_exporter": "python",
   "pygments_lexer": "ipython3",
   "version": "3.8.8-final"
  },
  "orig_nbformat": 2,
  "kernelspec": {
   "name": "python3",
   "display_name": "Python 3.8.8 64-bit",
   "metadata": {
    "interpreter": {
     "hash": "739282abffc8079465c7416af47f8b6d2681da148d602a4884c4032805e054cf"
    }
   }
  }
 },
 "nbformat": 4,
 "nbformat_minor": 2,
 "cells": [
  {
   "cell_type": "code",
   "execution_count": 1,
   "metadata": {},
   "outputs": [],
   "source": [
    "import nltk\n",
    "from nltk.corpus import wordnet as wn\n",
    "from nltk.corpus import framenet as fn\n",
    "import pandas as pd\n",
    "from pathlib import Path\n",
    "import src.mapping as mapp"
   ]
  },
  {
   "source": [
    "# Esercitazione 2\n",
    "\n",
    "In questa esercitazione vedremo come effettuare un task di allineamento tra 2 risorse lessicali: *FrameNet* e *WordNet*. Nello specifico vederemo come mappare gli \"slot\" di un frame ad un WordNet synset.\n",
    "\n",
    "L'esercitazione si divide in due 3 principali:\n",
    "\n",
    "* Annotazione manuale per creare una risorsa \"Gold Standard\".\n",
    "* Definizione di una procedura automatica di mapping.\n",
    "* Valutazione tra il mapping automatico e quello manuale.\n",
    "\n",
    "### Frameset\n",
    "I frame selezionati per l'esercitazione sono dati dalla chiamata a `getFrameSetForStudent('Fina')`. Il risultato della chamata viene riportato di seguito:\n",
    "\n",
    "> student: Fina\n",
    "> * ID:  660      frame: Existence\n",
    "> * ID: 1710      frame: Mental_activity\n",
    "> * ID:  111      frame: Education_teaching\n",
    "> * ID:  250      frame: Immobilization\n",
    "> * ID: 2231      frame: Response_scenario"
   ],
   "cell_type": "markdown",
   "metadata": {}
  },
  {
   "cell_type": "code",
   "execution_count": 3,
   "metadata": {},
   "outputs": [],
   "source": [
    "frame_names = ['Existence', 'Mental_activity', \n",
    "               'Education_teaching', 'Immobilization', \n",
    "               'Response_scenario']"
   ]
  },
  {
   "source": [
    "## Annotazione\n",
    "\n",
    "La fase di annotazione prevede di creare un mapping manuale tra elementi del frame e WordNet sysnet. La funzione `generate_annotations()` genera un file tsv `output/to_annotate.tsv` di aiuto nel processo di annotazione. \n",
    "\n",
    "Dopo aver annotato con i rispettivi sysnet id, il file deve essere **rinominato** in `annotations.tsv` e copiato nella directory `data`. Quest'ultimo passaggio è necessario per far funzionare correttamente il resto del codice presente in questo notebook!"
   ],
   "cell_type": "markdown",
   "metadata": {}
  },
  {
   "cell_type": "code",
   "execution_count": 4,
   "metadata": {},
   "outputs": [],
   "source": [
    "def frame_to_dataframe(frame):\n",
    "    frame_name = [f\"{frame.name}\"]\n",
    "    FEs = [f\"{v.name}\" for k,v in frame['FE'].items()]\n",
    "    LUs = [f\"{v.name}\" for k,v in frame['lexUnit'].items()]\n",
    "\n",
    "    frame_def = [frame.definition.split('.')[0]] #just the first sentence of the frame definition text\n",
    "    FEs_def = [v.definition for k,v in frame['FE'].items()]\n",
    "    LUs_def = [v.definition for k,v in frame['lexUnit'].items()]\n",
    "    \n",
    "    index_name = [frame.name] * (1 + \n",
    "    len(FEs) + len(LUs)) # index first level\n",
    "    index_frame = ['NAME'] # second level index for the frame itself\n",
    "    index_FE = ['FE'] * len(FEs) # second level index for frame elements slots\n",
    "    index_lu = ['LU'] * len(LUs) # second level index for lexical unit slots\n",
    "\n",
    "\n",
    "    return pd.DataFrame({'value': frame_name + FEs + LUs, \n",
    "                         'definition': frame_def + FEs_def + LUs_def}, \n",
    "                         index=[index_name, index_frame + index_FE + index_lu ], \n",
    "                         columns=['value', 'definition'])\n",
    "\n",
    "\n",
    "def generate_annotations(frame_names):\n",
    "    frames = pd.DataFrame()\n",
    "\n",
    "    frames = [frame_to_dataframe(fn.frame(name)) for name in frame_names]\n",
    "\n",
    "    frames_df = pd.concat(frames, axis=0)\n",
    "    frames_df['synset_ID'] = None\n",
    "    frames_df.index.names = ['frame', 'slot']\n",
    "    \n",
    "    return frames_df"
   ]
  },
  {
   "cell_type": "code",
   "execution_count": 5,
   "metadata": {},
   "outputs": [],
   "source": [
    "generate_annotations(frame_names).to_csv('output/to_annotate.tsv', sep='\\t')\n"
   ]
  },
  {
   "source": [
    "Dopo aver generato il file di annotazione, bisogna effettuare il mapping **manualmente**.\n",
    "Il risultato rappresenta il gold standard con cui comparare l'output della procedura di mapping"
   ],
   "cell_type": "markdown",
   "metadata": {}
  },
  {
   "cell_type": "code",
   "execution_count": 31,
   "metadata": {},
   "outputs": [
    {
     "output_type": "execute_result",
     "data": {
      "text/plain": [
       "                           value  \\\n",
       "frame     slot                     \n",
       "Existence NAME         Existence   \n",
       "          FE              Entity   \n",
       "          FE                Time   \n",
       "          FE            Duration   \n",
       "          FE    Inherent_purpose   \n",
       "          FE               State   \n",
       "          FE         Explanation   \n",
       "          FE               Place   \n",
       "          FE       Circumstances   \n",
       "          FE           Viewpoint   \n",
       "          FE          Concessive   \n",
       "          FE           Depictive   \n",
       "          LU             exist.v   \n",
       "          LU         existence.n   \n",
       "          LU              real.a   \n",
       "\n",
       "                                                       definition  \\\n",
       "frame     slot                                                      \n",
       "Existence NAME  An Entity is declared to exist, generally irre...   \n",
       "          FE    Some entity, abstract or concrete, which is st...   \n",
       "          FE          A time at which the entity is in existence.   \n",
       "          FE           The period during which the Entity exists.   \n",
       "          FE    The reason why the Entity exists.  Generally, ...   \n",
       "          FE    The condition that the Entity exists in.  'Nat...   \n",
       "          FE    A situation, force, or entity which brings abo...   \n",
       "          FE                             Where the Entity exists.   \n",
       "          FE    Circumstances marks expressions that indicate ...   \n",
       "          FE    The perspective of an individual who judges wh...   \n",
       "          FE    This FE signifies that the state of affairs ex...   \n",
       "          FE    This FE describes a participant of the state o...   \n",
       "          LU     FN: be real, directly or indirectly perceptible.   \n",
       "          LU                 COD:  the fact or state of existing.   \n",
       "          LU    COD: actually existing or occurring in fact; n...   \n",
       "\n",
       "                         synset_ID  \n",
       "frame     slot                      \n",
       "Existence NAME          being.n.01  \n",
       "          FE           entity.n.01  \n",
       "          FE             time.n.05  \n",
       "          FE         duration.n.01  \n",
       "          FE          purpose.n.01  \n",
       "          FE            state.n.02  \n",
       "          FE      explanation.n.01  \n",
       "          FE         position.n.01  \n",
       "          FE     circumstance.n.01  \n",
       "          FE    point_of_view.n.01  \n",
       "          FE       concessive.a.01  \n",
       "          FE      delineative.s.01  \n",
       "          LU            exist.v.01  \n",
       "          LU            being.n.01  \n",
       "          LU             real.a.01  "
      ],
      "text/html": "<div>\n<style scoped>\n    .dataframe tbody tr th:only-of-type {\n        vertical-align: middle;\n    }\n\n    .dataframe tbody tr th {\n        vertical-align: top;\n    }\n\n    .dataframe thead th {\n        text-align: right;\n    }\n</style>\n<table border=\"1\" class=\"dataframe\">\n  <thead>\n    <tr style=\"text-align: right;\">\n      <th></th>\n      <th></th>\n      <th>value</th>\n      <th>definition</th>\n      <th>synset_ID</th>\n    </tr>\n    <tr>\n      <th>frame</th>\n      <th>slot</th>\n      <th></th>\n      <th></th>\n      <th></th>\n    </tr>\n  </thead>\n  <tbody>\n    <tr>\n      <th rowspan=\"15\" valign=\"top\">Existence</th>\n      <th>NAME</th>\n      <td>Existence</td>\n      <td>An Entity is declared to exist, generally irre...</td>\n      <td>being.n.01</td>\n    </tr>\n    <tr>\n      <th>FE</th>\n      <td>Entity</td>\n      <td>Some entity, abstract or concrete, which is st...</td>\n      <td>entity.n.01</td>\n    </tr>\n    <tr>\n      <th>FE</th>\n      <td>Time</td>\n      <td>A time at which the entity is in existence.</td>\n      <td>time.n.05</td>\n    </tr>\n    <tr>\n      <th>FE</th>\n      <td>Duration</td>\n      <td>The period during which the Entity exists.</td>\n      <td>duration.n.01</td>\n    </tr>\n    <tr>\n      <th>FE</th>\n      <td>Inherent_purpose</td>\n      <td>The reason why the Entity exists.  Generally, ...</td>\n      <td>purpose.n.01</td>\n    </tr>\n    <tr>\n      <th>FE</th>\n      <td>State</td>\n      <td>The condition that the Entity exists in.  'Nat...</td>\n      <td>state.n.02</td>\n    </tr>\n    <tr>\n      <th>FE</th>\n      <td>Explanation</td>\n      <td>A situation, force, or entity which brings abo...</td>\n      <td>explanation.n.01</td>\n    </tr>\n    <tr>\n      <th>FE</th>\n      <td>Place</td>\n      <td>Where the Entity exists.</td>\n      <td>position.n.01</td>\n    </tr>\n    <tr>\n      <th>FE</th>\n      <td>Circumstances</td>\n      <td>Circumstances marks expressions that indicate ...</td>\n      <td>circumstance.n.01</td>\n    </tr>\n    <tr>\n      <th>FE</th>\n      <td>Viewpoint</td>\n      <td>The perspective of an individual who judges wh...</td>\n      <td>point_of_view.n.01</td>\n    </tr>\n    <tr>\n      <th>FE</th>\n      <td>Concessive</td>\n      <td>This FE signifies that the state of affairs ex...</td>\n      <td>concessive.a.01</td>\n    </tr>\n    <tr>\n      <th>FE</th>\n      <td>Depictive</td>\n      <td>This FE describes a participant of the state o...</td>\n      <td>delineative.s.01</td>\n    </tr>\n    <tr>\n      <th>LU</th>\n      <td>exist.v</td>\n      <td>FN: be real, directly or indirectly perceptible.</td>\n      <td>exist.v.01</td>\n    </tr>\n    <tr>\n      <th>LU</th>\n      <td>existence.n</td>\n      <td>COD:  the fact or state of existing.</td>\n      <td>being.n.01</td>\n    </tr>\n    <tr>\n      <th>LU</th>\n      <td>real.a</td>\n      <td>COD: actually existing or occurring in fact; n...</td>\n      <td>real.a.01</td>\n    </tr>\n  </tbody>\n</table>\n</div>"
     },
     "metadata": {},
     "execution_count": 31
    }
   ],
   "source": [
    "annotations  = pd.read_csv('data/annotations.tsv', sep='\\t', index_col=[0,1], skipinitialspace=True)\n",
    "\n",
    "annotations.head(15) "
   ]
  },
  {
   "source": [
    "## Procedura di Mapping \n",
    "\n",
    "La procedura automatica è basata sull'idea di **context overlapping** tra il contesto del frame (un suo slot) e quello del synset preso in considerazione.\n",
    "FOrmalmente:\n",
    "\n",
    "$$ \\operatorname*{overlap(w,s)} = |\\operatorname*{ctx}(w) \\cap \\operatorname*{ctx}(s)| + 1 $$\n",
    "\n",
    "Rimangono da definire due punti prima di implementare la procedura:\n",
    "\n",
    "* come rappresentare il contesto?\n",
    "* come gestire la polisemia dei termini?\n",
    "\n",
    "Nel caso più semplice, il contesto può essere rappresentato dal modello *bag-of-words*. Nello specifico:\n",
    "\n",
    "### Framenet Context\n",
    "\n",
    "Per un elemento del frame, il contesto è dato dalla bag-of-words della definizione dell'elemento stesso. Vediamo un esempio:"
   ],
   "cell_type": "markdown",
   "metadata": {}
  },
  {
   "cell_type": "code",
   "execution_count": 32,
   "metadata": {},
   "outputs": [
    {
     "output_type": "stream",
     "name": "stdout",
     "text": [
      "'Existence' frame definition: An Entity is declared to exist, generally irrespective of its position or even the possibility of its position being specified. Time, Duration, Inherent_purpose, and State may also be mentioned.  This frame is to be contrasted with Presence, which describes the existence of an Entity in a particular (and salient) spacio-temporal context, and which also entails the presence of an observer who can detect the existence of the Entity in that context.  'Finally, Poland ceased to exist as a state for hundreds of years.' 'Such laws exist to prevent exactly this kind of fraud.' 'There IS a Santa Claus!'\n\n'Existence' frame context: {'inherent_purpose', 'kind', 'law', 'describes', 'detect', 'frame', 'santa', 'exist', \"'there\", 'declared', 'salient', 'position', 'prevent', 'contrasted', 'poland', 'duration', 'exactly', 'time', 'year', 'context', 'spacio-temporal', 'generally', 'claus', 'entail', 'observer', 'existence', 'irrespective', \"'finally\", 'mentioned', 'entity', 'possibility', \"'such\", 'fraud', 'hundred', 'presence', 'ceased'}\n"
     ]
    }
   ],
   "source": [
    "fncb = mapp.FrameNetContext()\n",
    "\n",
    "frame = fn.frame(frame_names[0])\n",
    "print(f\"'{frame.name}' frame definition: {frame.definition}\")\n",
    "print()\n",
    "frame_ctx = fncb.get_context(frame, frame.name, mapp.FrameNetSlotType.NAME)\n",
    "print(f\"'{frame.name}' frame context: {frame_ctx}\")"
   ]
  },
  {
   "source": [
    "La classe 'FrameNetContext' permette di estrarre il contesto sia del frame, che da un so FE (frame element) o LU (lexical unit).\n",
    "\n",
    "### Wordnet Context\n",
    "\n",
    "Per un WordNet synset, il contesto è dato dalla bag-of-words da:\n",
    "* definizione della glossa del synset\n",
    "* frasi di esempio\n",
    "* le due precedenti ma dei synset in relazione di iperonimia e iponimia.\n",
    "\n",
    "Vediamo un esempio:"
   ],
   "cell_type": "markdown",
   "metadata": {}
  },
  {
   "cell_type": "code",
   "execution_count": 33,
   "metadata": {},
   "outputs": [
    {
     "output_type": "stream",
     "name": "stdout",
     "text": [
      "'being.n.01': the state or fact of existing\nexample sentences: ['a point of view gradually coming into being', 'laws in existence for centuries']\n\n'being.n.01' frame context: {'fact', 'respect', 'main', 'law', 'view', 'point', 'individual', 'occur', 'course', 'action', 'existing', 'characterize', 'condition', 'century', 'peacefully', 'characteristic', 'attribute', 'eternal', 'religion', 'coming', 'believed', 'mode', 'gradually', 'reality', 'limit', 'afterlife', 'true', 'happening', 'capability', 'living', 'existence', 'current', 'event', 'objectively', 'alive', 'material', 'substance', 'previous', 'experience'}\n"
     ]
    }
   ],
   "source": [
    "wncb = mapp.WordNetContext()\n",
    "\n",
    "synset = wn.synset('being.n.01')\n",
    "print(f\"'{synset.name()}': {synset.definition()}\\nexample sentences: {synset.examples()}\")\n",
    "print()\n",
    "synset_ctx = wncb.get_context(synset)\n",
    "print(f\"'{synset.name()}' frame context: {synset_ctx}\")"
   ]
  },
  {
   "source": [
    "Rimane un ultimo punto lasciato in sospeso: il fenomeno della polisemia. Dato il valore di un elemento del frame, essenzialmente un termine/lemma, a questo possono corrispondere molteplici sensi:"
   ],
   "cell_type": "markdown",
   "metadata": {}
  },
  {
   "cell_type": "code",
   "execution_count": 34,
   "metadata": {},
   "outputs": [
    {
     "output_type": "stream",
     "name": "stderr",
     "text": [
      "/home/prf-ubuntu/miniconda3/envs/TLN/lib/python3.8/site-packages/pandas/core/indexing.py:889: PerformanceWarning: indexing past lexsort depth may impact performance.\n  return self._getitem_tuple(key)\n"
     ]
    },
    {
     "output_type": "execute_result",
     "data": {
      "text/plain": [
       "[Synset('time.n.01'),\n",
       " Synset('time.n.02'),\n",
       " Synset('time.n.03'),\n",
       " Synset('time.n.04'),\n",
       " Synset('time.n.05'),\n",
       " Synset('time.n.06'),\n",
       " Synset('clock_time.n.01'),\n",
       " Synset('fourth_dimension.n.01'),\n",
       " Synset('meter.n.04'),\n",
       " Synset('prison_term.n.01'),\n",
       " Synset('clock.v.01'),\n",
       " Synset('time.v.02'),\n",
       " Synset('time.v.03'),\n",
       " Synset('time.v.04'),\n",
       " Synset('time.v.05')]"
      ]
     },
     "metadata": {},
     "execution_count": 34
    }
   ],
   "source": [
    "time_FE = annotations.loc[('Existence','FE'),'value'].iloc[1]\n",
    "wn.synsets(time_FE)"
   ]
  },
  {
   "source": [
    "La procedura di mapping seleziona il senso che **massimizza** la misura di overlapping. In formula:\n",
    "\n",
    "\n",
    "$$ s^* = \\operatorname*{max}_{\\substack{s \\in \\operatorname*{synsets(w)}}}\\operatorname*{overlap(w,s)} $$\n",
    "\n",
    "Di seguito vediamo un esecuzione della procedura su alcune annotazioni"
   ],
   "cell_type": "markdown",
   "metadata": {}
  },
  {
   "cell_type": "code",
   "execution_count": 35,
   "metadata": {},
   "outputs": [],
   "source": [
    "def map_annotation(df_row, mapper):\n",
    "    \"\"\"\n",
    "    This is just an helper function to deal with DataFrame.apply method.map\n",
    "    The function just help to call mapping.FrameToSynsetMapper.map method with the right\n",
    "    parameters since apply() give in input a DataFrame.row istance\n",
    "    \"\"\"\n",
    "    frame_name = df_row.name[0]\n",
    "    slot_value = df_row['value']\n",
    "    slot_type = mapp.FrameNetSlotType[df_row.name[1]]\n",
    "    return mapper.map(frame_name, slot_value, slot_type)"
   ]
  },
  {
   "cell_type": "code",
   "execution_count": 36,
   "metadata": {},
   "outputs": [
    {
     "output_type": "execute_result",
     "data": {
      "text/plain": [
       "                           value           synset_ID           system_synset\n",
       "frame     slot                                                              \n",
       "Existence NAME         Existence          being.n.01              being.n.01\n",
       "          FE              Entity         entity.n.01             entity.n.01\n",
       "          FE                Time           time.n.05               time.n.05\n",
       "          FE            Duration       duration.n.01           duration.n.01\n",
       "          FE    Inherent_purpose        purpose.n.01                    None\n",
       "          FE               State          state.n.02              state.n.02\n",
       "          FE         Explanation    explanation.n.01        explanation.n.01\n",
       "          FE               Place       position.n.01  topographic_point.n.01\n",
       "          FE       Circumstances   circumstance.n.01       circumstance.n.01\n",
       "          FE           Viewpoint  point_of_view.n.01      point_of_view.n.01\n",
       "          FE          Concessive     concessive.a.01         concessive.a.01\n",
       "          FE           Depictive    delineative.s.01        delineative.s.01\n",
       "          LU             exist.v          exist.v.01              exist.v.01\n",
       "          LU         existence.n          being.n.01              being.n.01\n",
       "          LU              real.a           real.a.01               real.a.01"
      ],
      "text/html": "<div>\n<style scoped>\n    .dataframe tbody tr th:only-of-type {\n        vertical-align: middle;\n    }\n\n    .dataframe tbody tr th {\n        vertical-align: top;\n    }\n\n    .dataframe thead th {\n        text-align: right;\n    }\n</style>\n<table border=\"1\" class=\"dataframe\">\n  <thead>\n    <tr style=\"text-align: right;\">\n      <th></th>\n      <th></th>\n      <th>value</th>\n      <th>synset_ID</th>\n      <th>system_synset</th>\n    </tr>\n    <tr>\n      <th>frame</th>\n      <th>slot</th>\n      <th></th>\n      <th></th>\n      <th></th>\n    </tr>\n  </thead>\n  <tbody>\n    <tr>\n      <th rowspan=\"15\" valign=\"top\">Existence</th>\n      <th>NAME</th>\n      <td>Existence</td>\n      <td>being.n.01</td>\n      <td>being.n.01</td>\n    </tr>\n    <tr>\n      <th>FE</th>\n      <td>Entity</td>\n      <td>entity.n.01</td>\n      <td>entity.n.01</td>\n    </tr>\n    <tr>\n      <th>FE</th>\n      <td>Time</td>\n      <td>time.n.05</td>\n      <td>time.n.05</td>\n    </tr>\n    <tr>\n      <th>FE</th>\n      <td>Duration</td>\n      <td>duration.n.01</td>\n      <td>duration.n.01</td>\n    </tr>\n    <tr>\n      <th>FE</th>\n      <td>Inherent_purpose</td>\n      <td>purpose.n.01</td>\n      <td>None</td>\n    </tr>\n    <tr>\n      <th>FE</th>\n      <td>State</td>\n      <td>state.n.02</td>\n      <td>state.n.02</td>\n    </tr>\n    <tr>\n      <th>FE</th>\n      <td>Explanation</td>\n      <td>explanation.n.01</td>\n      <td>explanation.n.01</td>\n    </tr>\n    <tr>\n      <th>FE</th>\n      <td>Place</td>\n      <td>position.n.01</td>\n      <td>topographic_point.n.01</td>\n    </tr>\n    <tr>\n      <th>FE</th>\n      <td>Circumstances</td>\n      <td>circumstance.n.01</td>\n      <td>circumstance.n.01</td>\n    </tr>\n    <tr>\n      <th>FE</th>\n      <td>Viewpoint</td>\n      <td>point_of_view.n.01</td>\n      <td>point_of_view.n.01</td>\n    </tr>\n    <tr>\n      <th>FE</th>\n      <td>Concessive</td>\n      <td>concessive.a.01</td>\n      <td>concessive.a.01</td>\n    </tr>\n    <tr>\n      <th>FE</th>\n      <td>Depictive</td>\n      <td>delineative.s.01</td>\n      <td>delineative.s.01</td>\n    </tr>\n    <tr>\n      <th>LU</th>\n      <td>exist.v</td>\n      <td>exist.v.01</td>\n      <td>exist.v.01</td>\n    </tr>\n    <tr>\n      <th>LU</th>\n      <td>existence.n</td>\n      <td>being.n.01</td>\n      <td>being.n.01</td>\n    </tr>\n    <tr>\n      <th>LU</th>\n      <td>real.a</td>\n      <td>real.a.01</td>\n      <td>real.a.01</td>\n    </tr>\n  </tbody>\n</table>\n</div>"
     },
     "metadata": {},
     "execution_count": 36
    }
   ],
   "source": [
    "predictions = annotations[['value','synset_ID']].copy()  # discard definitions\n",
    "\n",
    "fncb = mapp.FrameNetContext()\n",
    "wncb = mapp.WordNetContext()\n",
    "mapper = mapp.FrameToSynsetMapper(fncb, wncb)\n",
    "\n",
    "predictions['system_synset'] = predictions.apply(map_annotation, mapper=mapper, axis=1)\n",
    "#predictions['system_synset'].fillna('',inplace=True) \n",
    "predictions.head(15)"
   ]
  },
  {
   "source": [
    "## Risultati"
   ],
   "cell_type": "markdown",
   "metadata": {}
  },
  {
   "cell_type": "code",
   "execution_count": 13,
   "metadata": {},
   "outputs": [],
   "source": [
    "def accuracy(true, predicted):\n",
    "    correct_predictions = sum([true_sense.lower() == predicted_sense.lower() for true_sense, predicted_sense in zip(true, predicted)\n",
    "    if true_sense and predicted_sense])\n",
    "    return correct_predictions / len(true)"
   ]
  },
  {
   "cell_type": "code",
   "execution_count": 38,
   "metadata": {},
   "outputs": [
    {
     "output_type": "stream",
     "name": "stdout",
     "text": [
      "Total accuracy achieved: 0.5196078431372549\n"
     ]
    }
   ],
   "source": [
    "acc = accuracy(predictions['synset_ID'], predictions['system_synset'])\n",
    "print(f\"Total accuracy achieved: {acc}\")"
   ]
  },
  {
   "cell_type": "code",
   "execution_count": 37,
   "metadata": {},
   "outputs": [
    {
     "output_type": "stream",
     "name": "stdout",
     "text": [
      "Frame: Education_teaching with accuracy: 0.5510204081632653\nFrame: Existence with accuracy: 0.7647058823529411\nFrame: Immobilization with accuracy: 0.3125\nFrame: Mental_activity with accuracy: 0.45454545454545453\nFrame: Response_scenario with accuracy: 0.3333333333333333\n"
     ]
    }
   ],
   "source": [
    "for frame_name, frame_df in predictions.groupby('frame'):\n",
    "    acc = accuracy(frame_df['synset_ID'], frame_df['system_synset'])\n",
    "    print(f\"Frame: {frame_name} with accuracy: {acc}\")"
   ]
  },
  {
   "source": [
    "Come è possibile osservare dall'output delle precedenti celle, l'accuracy totale raggiunta dal sistema è del $\\approx 0.55\\%$ con un deviazione std. dello $\\approx 0.16\\%$ calcolata sull'accuracy individuale dei 5 frame del frameset.\n",
    "\n",
    "Risulta interessante analizzare i risultati ottenuti su i frame che hanno ottenuto la massima e la minima accuratezza, rispettivamente: *\"Existence\"* e *\"Response_scenario\"*. \n",
    "\n",
    "Da una prima analisi quantitativa e qualitativa della composizione dei due frame, possiamo suppore che la differenza di performance sia dovuta principalmente a:\n",
    "\n",
    "* Ricchezza delle annotazioni lessicali. Il numero di FE e LU del frame \"Existence\" è maggiore rispetto al frame \"Response_scenario\".\n",
    "* Ridotto \"**impedance mismatch**\" tra il frame \"Existence\" e i sensi presenti in WordNet. Il frame \"Response_scenario\" descrive una situazione stereotipizzata al contrario del frame \"Existence\" il quale presenta concetti molto generali che ben si adattano alla natura di WordNet, e quindi ne facilitano il mapping.\n",
    "\n",
    "Quest'ultimo punto, è stato empiricamente osservato anche in fase di annotazione manuale, in moltepliici casi."
   ],
   "cell_type": "markdown",
   "metadata": {}
  },
  {
   "cell_type": "code",
   "execution_count": 52,
   "metadata": {},
   "outputs": [
    {
     "output_type": "stream",
     "name": "stdout",
     "text": [
      "# FEs 11 vs 8\n# LUs 5 vs 0\n"
     ]
    }
   ],
   "source": [
    "fes_existence = len(fn.frame('Existence')['FE'])\n",
    "fes_response = len(fn.frame('Response_scenario')['FE'])\n",
    "print(f\"# FEs {fes_existence} vs {fes_response}\")\n",
    "\n",
    "lus_existence = len(fn.frame('Existence')['lexUnit'])\n",
    "lus_response = len(fn.frame('Response_scenario')['lexUnit'])\n",
    "print(f\"# LUs {lus_existence} vs {lus_response}\")"
   ]
  },
  {
   "source": [
    "Bisogna comunque porre molta attenzione a generalizzare la precedente osservazione in quanto il numero di campioni analizzati (frame) non è statisticamente significante. Le conclusioni riportate però possono porre le basi per una successiva (e più accurata) investigazione dell'errore.  "
   ],
   "cell_type": "markdown",
   "metadata": {}
  }
 ]
}