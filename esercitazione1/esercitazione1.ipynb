{
 "cells": [
  {
   "cell_type": "markdown",
   "source": "# Parte 1: Concept Similarity\n\nNella prima parte utilizziamo 2 risorse lessicali per un task di **concept similarity**. Le risorse sono\n* Wordnet, utilizzando le API fornite da NLTK\n* WordSim353, un corpus in cui abbiamo una lista di triple (word1, word2, similarity value).\n\nL'obiettivo di questa parte è implementare 3 misure di similarity basate sulla struttura tassonomica di Wordnet:\n\n* *Wu Palmer Similarity*\n\n$$ \\operatorname{sim}(s1,s2) = \\frac{2\\cdot\\operatorname{depth}(LCS(s1,s2))}{\\operatorname{depth}(s1) + \\operatorname{depth}(s2)} $$\n\nDove $LCS(s1,s2)$ è il *Lowest Common Subsumer*, ovvero il sysnset **comune** più vicino ai synsets $s1,s2$ nella gerarchia iperonimi/iponimi. $\\operatorname{depth}(s)$ è la profondità (distanza minima) del synset $s$ dalla radice.\n\n* *Shortest Path Similarity*\n\n$$ \\operatorname{sim}(s1,s2) = 2\\cdot\\operatorname{depthMax} - \\operatorname{len}(s1,s2) $$\n\n* *Leakcock-Chodorow Similarity*\n\n$$ \\operatorname{sim}(s1,s2) = -\\log\\frac{\\operatorname{len}(s1,s2)}{2\\cdot\\operatorname{depthMax}} $$\n\n\n$\\operatorname{depthMax}$ è una costante che caratterizza la massima profondità della tassomia. Dunque è la distanza tra la radice della tassomia e la foglia alla massima profondità. Dato che Wordnet partiziona il lessico in base a 4 Part-of-Speech (POS)(Noun, Verb, Adjective, Adverb), il valore $\\operatorname{depthMax}$ dipende dal particolare POS considerato. \n",
   "metadata": {
    "cell_id": "00000-fef8fc79-bd50-456c-942f-84b1ea61ae3f",
    "deepnote_cell_type": "markdown"
   }
  },
  {
   "cell_type": "code",
   "metadata": {
    "cell_id": "00001-69537693-12e9-4130-ab3d-32dff45628ee",
    "deepnote_to_be_reexecuted": false,
    "source_hash": "7078c0f6",
    "execution_start": 1620808631094,
    "execution_millis": 5076,
    "deepnote_cell_type": "code"
   },
   "source": "from pathlib import Path\nimport pandas as pd\nimport src.concept_similarity as cs\nimport src.data_manager as dm\n\nimport matplotlib.pyplot as plt\nimport matplotlib\nmatplotlib.style.use('ggplot')\nimport nltk\n\n# required lexical resources/ corpus\nnltk.download('punkt')\nnltk.download('wordnet')",
   "execution_count": 1,
   "outputs": [
    {
     "name": "stderr",
     "text": "[nltk_data] Downloading package punkt to /root/nltk_data...\n[nltk_data]   Unzipping tokenizers/punkt.zip.\n[nltk_data] Downloading package wordnet to /root/nltk_data...\n[nltk_data]   Unzipping corpora/wordnet.zip.\n",
     "output_type": "stream"
    },
    {
     "output_type": "execute_result",
     "execution_count": 1,
     "data": {
      "text/plain": "True"
     },
     "metadata": {}
    }
   ]
  },
  {
   "cell_type": "markdown",
   "source": "### EDA del corpus WordSim353\n\nVediamo alcuni esempi di annotazioni presenti nel corpus. Selezioniamo le coppie di parole che corrispondo rispettivamente al\nminimo, primo quartile, mediana, secondo quartile e massimo dello score di similarità.",
   "metadata": {
    "cell_id": "00002-d4d8090e-e22c-4a6f-a9b6-1bd97b390dad",
    "deepnote_cell_type": "markdown"
   }
  },
  {
   "cell_type": "code",
   "metadata": {
    "cell_id": "00003-8e694abc-589d-4ec1-ad57-ab21c3c3497b",
    "deepnote_to_be_reexecuted": false,
    "source_hash": "db699a98",
    "execution_start": 1620808636180,
    "execution_millis": 130,
    "deepnote_cell_type": "code"
   },
   "source": "\nwordsim353 = dm.WordSimCorpus(Path('data/WordSim353.csv'))\nwordsim_df = pd.DataFrame(wordsim353, columns=['word1','word2','gold_score'])\n\nexample_words = pd.DataFrame()\nfor qpos in [0.0, 0.25, 0.5, 0.75, 1.0]: # sample word pair for each quartile\n    quantile = wordsim_df['gold_score'].quantile(q=qpos, interpolation='nearest')\n    example_words = example_words.append(wordsim_df[wordsim_df['gold_score']== quantile].sample())\n\nexample_words",
   "execution_count": 2,
   "outputs": [
    {
     "output_type": "execute_result",
     "execution_count": 2,
     "data": {
      "application/vnd.deepnote.dataframe.v2+json": {
       "row_count": 5,
       "column_count": 3,
       "columns": [
        {
         "name": "word1",
         "dtype": "object",
         "stats": {
          "unique_count": 5,
          "nan_count": 0,
          "categories": [
           {
            "name": "king",
            "count": 1
           },
           {
            "name": "observation",
            "count": 1
           },
           {
            "name": "3 others",
            "count": 3
           }
          ]
         }
        },
        {
         "name": "word2",
         "dtype": "object",
         "stats": {
          "unique_count": 5,
          "nan_count": 0,
          "categories": [
           {
            "name": "cabbage",
            "count": 1
           },
           {
            "name": "architecture",
            "count": 1
           },
           {
            "name": "3 others",
            "count": 3
           }
          ]
         }
        },
        {
         "name": "gold_score",
         "dtype": "float64",
         "stats": {
          "unique_count": 5,
          "nan_count": 0,
          "min": "0.023",
          "max": "1.0",
          "histogram": [
           {
            "bin_start": 0.023,
            "bin_end": 0.1207,
            "count": 1
           },
           {
            "bin_start": 0.1207,
            "bin_end": 0.21839999999999998,
            "count": 0
           },
           {
            "bin_start": 0.21839999999999998,
            "bin_end": 0.3161,
            "count": 0
           },
           {
            "bin_start": 0.3161,
            "bin_end": 0.4138,
            "count": 0
           },
           {
            "bin_start": 0.4138,
            "bin_end": 0.5115,
            "count": 1
           },
           {
            "bin_start": 0.5115,
            "bin_end": 0.6092,
            "count": 0
           },
           {
            "bin_start": 0.6092,
            "bin_end": 0.7069,
            "count": 1
           },
           {
            "bin_start": 0.7069,
            "bin_end": 0.8046,
            "count": 1
           },
           {
            "bin_start": 0.8046,
            "bin_end": 0.9023,
            "count": 0
           },
           {
            "bin_start": 0.9023,
            "bin_end": 1,
            "count": 1
           }
          ]
         }
        },
        {
         "name": "_deepnote_index_column",
         "dtype": "int64"
        }
       ],
       "rows_top": [
        {
         "word1": "king",
         "word2": "cabbage",
         "gold_score": 0.023,
         "_deepnote_index_column": 33
        },
        {
         "word1": "observation",
         "word2": "architecture",
         "gold_score": 0.438,
         "_deepnote_index_column": 343
        },
        {
         "word1": "shower",
         "word2": "thunderstorm",
         "gold_score": 0.631,
         "_deepnote_index_column": 347
        },
        {
         "word1": "tennis",
         "word2": "racket",
         "gold_score": 0.756,
         "_deepnote_index_column": 45
        },
        {
         "word1": "tiger",
         "word2": "tiger",
         "gold_score": 1,
         "_deepnote_index_column": 2
        }
       ],
       "rows_bottom": null
      },
      "text/plain": "           word1         word2  gold_score\n33          king       cabbage       0.023\n343  observation  architecture       0.438\n347       shower  thunderstorm       0.631\n45        tennis        racket       0.756\n2          tiger         tiger       1.000",
      "text/html": "<div>\n<style scoped>\n    .dataframe tbody tr th:only-of-type {\n        vertical-align: middle;\n    }\n\n    .dataframe tbody tr th {\n        vertical-align: top;\n    }\n\n    .dataframe thead th {\n        text-align: right;\n    }\n</style>\n<table border=\"1\" class=\"dataframe\">\n  <thead>\n    <tr style=\"text-align: right;\">\n      <th></th>\n      <th>word1</th>\n      <th>word2</th>\n      <th>gold_score</th>\n    </tr>\n  </thead>\n  <tbody>\n    <tr>\n      <th>33</th>\n      <td>king</td>\n      <td>cabbage</td>\n      <td>0.023</td>\n    </tr>\n    <tr>\n      <th>343</th>\n      <td>observation</td>\n      <td>architecture</td>\n      <td>0.438</td>\n    </tr>\n    <tr>\n      <th>347</th>\n      <td>shower</td>\n      <td>thunderstorm</td>\n      <td>0.631</td>\n    </tr>\n    <tr>\n      <th>45</th>\n      <td>tennis</td>\n      <td>racket</td>\n      <td>0.756</td>\n    </tr>\n    <tr>\n      <th>2</th>\n      <td>tiger</td>\n      <td>tiger</td>\n      <td>1.000</td>\n    </tr>\n  </tbody>\n</table>\n</div>"
     },
     "metadata": {}
    }
   ]
  },
  {
   "cell_type": "markdown",
   "source": "Da notare che :\n\n$$\\operatorname{sim}: S\\times S \\to \\mathbb{R}$$\n\nOvvero le metriche di similarità prendono in input due synset e restituiscono uno score numerico. Dunque bisogna implementare un meccanismo che prenda in input due **word forms** e restituisca uno score di similarità considerando che per il fenomeno della **polisemia** una word-form può avere differenti significati e dunque appartenere a differenti synsets. A tal proposito definiamo la word similarity come:\n\n$$ \\operatorname{sim}(w_1, w_2) = \\operatorname*{max}_{\\substack{c_1 \\in \\operatorname{Syn}(w_1)\\\\ c_2 \\in \\operatorname{Syn}(w_2) }} \\operatorname{sim}(c_1,c_2)$$\n\nDove $\\operatorname{Syn}(w)$ è l'insieme dei synsets in cui occorre la word-form $w$.\n\nVediamo su questi esempi selezionati il comportamento delle rispettive metriche di similarità.",
   "metadata": {
    "cell_id": "00004-5e041cf2-42e5-4810-9526-37650098bf21",
    "deepnote_cell_type": "markdown"
   }
  },
  {
   "cell_type": "code",
   "metadata": {
    "cell_id": "00005-7fffa9ce-60bf-4b58-8818-f7b7603ccb33",
    "deepnote_to_be_reexecuted": false,
    "source_hash": "8912dc4e",
    "execution_start": 1620808636308,
    "execution_millis": 17096,
    "deepnote_cell_type": "code"
   },
   "source": "metrics = [(cs.wu_palmer_similarity, 'wu_palmer'), \n           (cs.shortest_path_similarity, 'shortest_path'),\n           (cs.leakcock_chodorow_similarity, 'leakcock_chodorow')]\n    \n    \nfor metric, metric_name in metrics:\n    example_words[metric_name] = example_words.apply(lambda x: cs.word_similarity(x['word1'], x['word2'], metric), axis=1)\n    \nexample_words\n",
   "execution_count": 3,
   "outputs": [
    {
     "output_type": "execute_result",
     "execution_count": 3,
     "data": {
      "application/vnd.deepnote.dataframe.v2+json": {
       "row_count": 5,
       "column_count": 6,
       "columns": [
        {
         "name": "word1",
         "dtype": "object",
         "stats": {
          "unique_count": 5,
          "nan_count": 0,
          "categories": [
           {
            "name": "king",
            "count": 1
           },
           {
            "name": "observation",
            "count": 1
           },
           {
            "name": "3 others",
            "count": 3
           }
          ]
         }
        },
        {
         "name": "word2",
         "dtype": "object",
         "stats": {
          "unique_count": 5,
          "nan_count": 0,
          "categories": [
           {
            "name": "cabbage",
            "count": 1
           },
           {
            "name": "architecture",
            "count": 1
           },
           {
            "name": "3 others",
            "count": 3
           }
          ]
         }
        },
        {
         "name": "gold_score",
         "dtype": "float64",
         "stats": {
          "unique_count": 5,
          "nan_count": 0,
          "min": "0.023",
          "max": "1.0",
          "histogram": [
           {
            "bin_start": 0.023,
            "bin_end": 0.1207,
            "count": 1
           },
           {
            "bin_start": 0.1207,
            "bin_end": 0.21839999999999998,
            "count": 0
           },
           {
            "bin_start": 0.21839999999999998,
            "bin_end": 0.3161,
            "count": 0
           },
           {
            "bin_start": 0.3161,
            "bin_end": 0.4138,
            "count": 0
           },
           {
            "bin_start": 0.4138,
            "bin_end": 0.5115,
            "count": 1
           },
           {
            "bin_start": 0.5115,
            "bin_end": 0.6092,
            "count": 0
           },
           {
            "bin_start": 0.6092,
            "bin_end": 0.7069,
            "count": 1
           },
           {
            "bin_start": 0.7069,
            "bin_end": 0.8046,
            "count": 1
           },
           {
            "bin_start": 0.8046,
            "bin_end": 0.9023,
            "count": 0
           },
           {
            "bin_start": 0.9023,
            "bin_end": 1,
            "count": 1
           }
          ]
         }
        },
        {
         "name": "wu_palmer",
         "dtype": "float64",
         "stats": {
          "unique_count": 5,
          "nan_count": 0,
          "min": "0.6896551724137931",
          "max": "1.0",
          "histogram": [
           {
            "bin_start": 0.6896551724137931,
            "bin_end": 0.7206896551724138,
            "count": 1
           },
           {
            "bin_start": 0.7206896551724138,
            "bin_end": 0.7517241379310345,
            "count": 1
           },
           {
            "bin_start": 0.7517241379310345,
            "bin_end": 0.7827586206896552,
            "count": 1
           },
           {
            "bin_start": 0.7827586206896552,
            "bin_end": 0.8137931034482759,
            "count": 1
           },
           {
            "bin_start": 0.8137931034482759,
            "bin_end": 0.8448275862068966,
            "count": 0
           },
           {
            "bin_start": 0.8448275862068966,
            "bin_end": 0.8758620689655172,
            "count": 0
           },
           {
            "bin_start": 0.8758620689655172,
            "bin_end": 0.906896551724138,
            "count": 0
           },
           {
            "bin_start": 0.906896551724138,
            "bin_end": 0.9379310344827586,
            "count": 0
           },
           {
            "bin_start": 0.9379310344827586,
            "bin_end": 0.9689655172413794,
            "count": 0
           },
           {
            "bin_start": 0.9689655172413794,
            "bin_end": 1,
            "count": 1
           }
          ]
         }
        },
        {
         "name": "shortest_path",
         "dtype": "float64",
         "stats": {
          "unique_count": 5,
          "nan_count": 0,
          "min": "0.775",
          "max": "1.0",
          "histogram": [
           {
            "bin_start": 0.775,
            "bin_end": 0.7975,
            "count": 1
           },
           {
            "bin_start": 0.7975,
            "bin_end": 0.8200000000000001,
            "count": 1
           },
           {
            "bin_start": 0.8200000000000001,
            "bin_end": 0.8425,
            "count": 0
           },
           {
            "bin_start": 0.8425,
            "bin_end": 0.865,
            "count": 1
           },
           {
            "bin_start": 0.865,
            "bin_end": 0.8875,
            "count": 1
           },
           {
            "bin_start": 0.8875,
            "bin_end": 0.91,
            "count": 0
           },
           {
            "bin_start": 0.91,
            "bin_end": 0.9325,
            "count": 0
           },
           {
            "bin_start": 0.9325,
            "bin_end": 0.9550000000000001,
            "count": 0
           },
           {
            "bin_start": 0.9550000000000001,
            "bin_end": 0.9775,
            "count": 0
           },
           {
            "bin_start": 0.9775,
            "bin_end": 1,
            "count": 1
           }
          ]
         }
        },
        {
         "name": "leakcock_chodorow",
         "dtype": "float64",
         "stats": {
          "unique_count": 5,
          "nan_count": 0,
          "min": "1.410986973710262",
          "max": "3.713572066704308",
          "histogram": [
           {
            "bin_start": 1.410986973710262,
            "bin_end": 1.6412454830096666,
            "count": 2
           },
           {
            "bin_start": 1.6412454830096666,
            "bin_end": 1.8715039923090713,
            "count": 1
           },
           {
            "bin_start": 1.8715039923090713,
            "bin_end": 2.1017625016084756,
            "count": 1
           },
           {
            "bin_start": 2.1017625016084756,
            "bin_end": 2.3320210109078805,
            "count": 0
           },
           {
            "bin_start": 2.3320210109078805,
            "bin_end": 2.562279520207285,
            "count": 0
           },
           {
            "bin_start": 2.562279520207285,
            "bin_end": 2.7925380295066895,
            "count": 0
           },
           {
            "bin_start": 2.7925380295066895,
            "bin_end": 3.0227965388060944,
            "count": 0
           },
           {
            "bin_start": 3.0227965388060944,
            "bin_end": 3.253055048105499,
            "count": 0
           },
           {
            "bin_start": 3.253055048105499,
            "bin_end": 3.4833135574049034,
            "count": 0
           },
           {
            "bin_start": 3.4833135574049034,
            "bin_end": 3.713572066704308,
            "count": 1
           }
          ]
         }
        },
        {
         "name": "_deepnote_index_column",
         "dtype": "int64"
        }
       ],
       "rows_top": [
        {
         "word1": "king",
         "word2": "cabbage",
         "gold_score": 0.023,
         "wu_palmer": 0.6896551724137931,
         "shortest_path": 0.775,
         "leakcock_chodorow": 1.410986973710262,
         "_deepnote_index_column": 33
        },
        {
         "word1": "observation",
         "word2": "architecture",
         "gold_score": 0.438,
         "wu_palmer": 0.7619047619047619,
         "shortest_path": 0.875,
         "leakcock_chodorow": 1.9218125974762528,
         "_deepnote_index_column": 343
        },
        {
         "word1": "shower",
         "word2": "thunderstorm",
         "gold_score": 0.631,
         "wu_palmer": 0.7857142857142857,
         "shortest_path": 0.85,
         "leakcock_chodorow": 1.7676619176489945,
         "_deepnote_index_column": 347
        },
        {
         "word1": "tennis",
         "word2": "racket",
         "gold_score": 0.756,
         "wu_palmer": 0.7333333333333333,
         "shortest_path": 0.8,
         "leakcock_chodorow": 1.5163474893680884,
         "_deepnote_index_column": 45
        },
        {
         "word1": "tiger",
         "word2": "tiger",
         "gold_score": 1,
         "wu_palmer": 1,
         "shortest_path": 1,
         "leakcock_chodorow": 3.713572066704308,
         "_deepnote_index_column": 2
        }
       ],
       "rows_bottom": null
      },
      "text/plain": "           word1         word2  gold_score  wu_palmer  shortest_path  \\\n33          king       cabbage       0.023   0.689655          0.775   \n343  observation  architecture       0.438   0.761905          0.875   \n347       shower  thunderstorm       0.631   0.785714          0.850   \n45        tennis        racket       0.756   0.733333          0.800   \n2          tiger         tiger       1.000   1.000000          1.000   \n\n     leakcock_chodorow  \n33            1.410987  \n343           1.921813  \n347           1.767662  \n45            1.516347  \n2             3.713572  ",
      "text/html": "<div>\n<style scoped>\n    .dataframe tbody tr th:only-of-type {\n        vertical-align: middle;\n    }\n\n    .dataframe tbody tr th {\n        vertical-align: top;\n    }\n\n    .dataframe thead th {\n        text-align: right;\n    }\n</style>\n<table border=\"1\" class=\"dataframe\">\n  <thead>\n    <tr style=\"text-align: right;\">\n      <th></th>\n      <th>word1</th>\n      <th>word2</th>\n      <th>gold_score</th>\n      <th>wu_palmer</th>\n      <th>shortest_path</th>\n      <th>leakcock_chodorow</th>\n    </tr>\n  </thead>\n  <tbody>\n    <tr>\n      <th>33</th>\n      <td>king</td>\n      <td>cabbage</td>\n      <td>0.023</td>\n      <td>0.689655</td>\n      <td>0.775</td>\n      <td>1.410987</td>\n    </tr>\n    <tr>\n      <th>343</th>\n      <td>observation</td>\n      <td>architecture</td>\n      <td>0.438</td>\n      <td>0.761905</td>\n      <td>0.875</td>\n      <td>1.921813</td>\n    </tr>\n    <tr>\n      <th>347</th>\n      <td>shower</td>\n      <td>thunderstorm</td>\n      <td>0.631</td>\n      <td>0.785714</td>\n      <td>0.850</td>\n      <td>1.767662</td>\n    </tr>\n    <tr>\n      <th>45</th>\n      <td>tennis</td>\n      <td>racket</td>\n      <td>0.756</td>\n      <td>0.733333</td>\n      <td>0.800</td>\n      <td>1.516347</td>\n    </tr>\n    <tr>\n      <th>2</th>\n      <td>tiger</td>\n      <td>tiger</td>\n      <td>1.000</td>\n      <td>1.000000</td>\n      <td>1.000</td>\n      <td>3.713572</td>\n    </tr>\n  </tbody>\n</table>\n</div>"
     },
     "metadata": {}
    }
   ]
  },
  {
   "cell_type": "markdown",
   "source": "Possiamo osservare che, per gli esempi selezionati, non sussiste un forte agreement con il \"gold score\".\nInoltre il valore delle metriche non è direttamente comparabaile in quanto le scale sono differenti.\n\nIn generale, si può osservare che all'aumentare della similarità indicata dal gold score, aumenta anche\nil valore calcolato delle tre metriche.",
   "metadata": {
    "cell_id": "00006-19e400c3-1164-476a-a32b-f540a81da69e",
    "deepnote_cell_type": "markdown"
   }
  },
  {
   "cell_type": "markdown",
   "source": "### Correlazione\nVediamo di seguito l'agreement tra i gli score di similarità target (presenti nel corpus come annotazioni) e quelli calcolati dalle rispettive metriche.\n\nCome primo step calcoliamo le metriche di similarità per ogni coppia di temini presenti nel corpus:",
   "metadata": {
    "cell_id": "00007-f4427dc6-dfe6-4288-9809-1f835dd80720",
    "deepnote_cell_type": "markdown"
   }
  },
  {
   "cell_type": "code",
   "metadata": {
    "cell_id": "00008-758df476-6ebe-4784-8134-76b15120b240",
    "deepnote_to_be_reexecuted": false,
    "source_hash": "66b7e6ac",
    "execution_start": 1620808653400,
    "execution_millis": 4760,
    "deepnote_cell_type": "code"
   },
   "source": "for metric, metric_name in metrics:\n    wordsim_df[metric_name] = wordsim_df.apply(lambda x: cs.word_similarity(x['word1'], x['word2'], metric), axis=1)",
   "execution_count": 4,
   "outputs": []
  },
  {
   "cell_type": "markdown",
   "source": "Di seguito calcoliamo gli indici di correlazione di pearson e spearman. Utilizziamo i metodi delle API di Pandas, ricordando dalla documentazione:\n\n> \"Compute pairwise correlation of columns, excluding NA/null values.\"",
   "metadata": {
    "cell_id": "00009-d3a35582-2422-4431-addb-1be26e477520",
    "deepnote_cell_type": "markdown"
   }
  },
  {
   "cell_type": "code",
   "metadata": {
    "cell_id": "00010-deecbe60-4021-4671-8b97-aecb459e0a81",
    "deepnote_to_be_reexecuted": false,
    "source_hash": "f9f34945",
    "execution_start": 1620808658164,
    "execution_millis": 33,
    "deepnote_cell_type": "code"
   },
   "source": "excluded_cols = [name for metric, name in metrics]\n(wordsim_df.corr(method='pearson')\n           .drop(excluded_cols,axis=1)\n           .drop('gold_score'))",
   "execution_count": 5,
   "outputs": [
    {
     "output_type": "execute_result",
     "execution_count": 5,
     "data": {
      "application/vnd.deepnote.dataframe.v2+json": {
       "row_count": 3,
       "column_count": 1,
       "columns": [
        {
         "name": "gold_score",
         "dtype": "float64",
         "stats": {
          "unique_count": 3,
          "nan_count": 0,
          "min": "0.2579769623890451",
          "max": "0.35130412967054425",
          "histogram": [
           {
            "bin_start": 0.2579769623890451,
            "bin_end": 0.267309679117195,
            "count": 1
           },
           {
            "bin_start": 0.267309679117195,
            "bin_end": 0.27664239584534495,
            "count": 0
           },
           {
            "bin_start": 0.27664239584534495,
            "bin_end": 0.28597511257349484,
            "count": 0
           },
           {
            "bin_start": 0.28597511257349484,
            "bin_end": 0.2953078293016448,
            "count": 0
           },
           {
            "bin_start": 0.2953078293016448,
            "bin_end": 0.3046405460297947,
            "count": 0
           },
           {
            "bin_start": 0.3046405460297947,
            "bin_end": 0.31397326275794457,
            "count": 0
           },
           {
            "bin_start": 0.31397326275794457,
            "bin_end": 0.3233059794860945,
            "count": 0
           },
           {
            "bin_start": 0.3233059794860945,
            "bin_end": 0.3326386962142444,
            "count": 1
           },
           {
            "bin_start": 0.3326386962142444,
            "bin_end": 0.34197141294239436,
            "count": 0
           },
           {
            "bin_start": 0.34197141294239436,
            "bin_end": 0.35130412967054425,
            "count": 1
           }
          ]
         }
        },
        {
         "name": "_deepnote_index_column",
         "dtype": "object"
        }
       ],
       "rows_top": [
        {
         "gold_score": 0.32917350176206317,
         "_deepnote_index_column": "wu_palmer"
        },
        {
         "gold_score": 0.2579769623890451,
         "_deepnote_index_column": "shortest_path"
        },
        {
         "gold_score": 0.35130412967054425,
         "_deepnote_index_column": "leakcock_chodorow"
        }
       ],
       "rows_bottom": null
      },
      "text/plain": "                   gold_score\nwu_palmer            0.329174\nshortest_path        0.257977\nleakcock_chodorow    0.351304",
      "text/html": "<div>\n<style scoped>\n    .dataframe tbody tr th:only-of-type {\n        vertical-align: middle;\n    }\n\n    .dataframe tbody tr th {\n        vertical-align: top;\n    }\n\n    .dataframe thead th {\n        text-align: right;\n    }\n</style>\n<table border=\"1\" class=\"dataframe\">\n  <thead>\n    <tr style=\"text-align: right;\">\n      <th></th>\n      <th>gold_score</th>\n    </tr>\n  </thead>\n  <tbody>\n    <tr>\n      <th>wu_palmer</th>\n      <td>0.329174</td>\n    </tr>\n    <tr>\n      <th>shortest_path</th>\n      <td>0.257977</td>\n    </tr>\n    <tr>\n      <th>leakcock_chodorow</th>\n      <td>0.351304</td>\n    </tr>\n  </tbody>\n</table>\n</div>"
     },
     "metadata": {}
    }
   ]
  },
  {
   "cell_type": "code",
   "metadata": {
    "cell_id": "00011-640efd7e-85df-4196-9454-35a92906bede",
    "deepnote_to_be_reexecuted": false,
    "source_hash": "4b6a24fd",
    "execution_start": 1620808658194,
    "execution_millis": 31,
    "deepnote_cell_type": "code"
   },
   "source": "(wordsim_df.corr(method='spearman')\n           .drop(excluded_cols,axis=1)\n           .drop('gold_score'))",
   "execution_count": 6,
   "outputs": [
    {
     "output_type": "execute_result",
     "execution_count": 6,
     "data": {
      "application/vnd.deepnote.dataframe.v2+json": {
       "row_count": 3,
       "column_count": 1,
       "columns": [
        {
         "name": "gold_score",
         "dtype": "float64",
         "stats": {
          "unique_count": 2,
          "nan_count": 0,
          "min": "0.3142805017400023",
          "max": "0.327860913148961",
          "histogram": [
           {
            "bin_start": 0.3142805017400023,
            "bin_end": 0.3156385428808982,
            "count": 2
           },
           {
            "bin_start": 0.3156385428808982,
            "bin_end": 0.31699658402179404,
            "count": 0
           },
           {
            "bin_start": 0.31699658402179404,
            "bin_end": 0.3183546251626899,
            "count": 0
           },
           {
            "bin_start": 0.3183546251626899,
            "bin_end": 0.3197126663035858,
            "count": 0
           },
           {
            "bin_start": 0.3197126663035858,
            "bin_end": 0.32107070744448163,
            "count": 0
           },
           {
            "bin_start": 0.32107070744448163,
            "bin_end": 0.3224287485853775,
            "count": 0
           },
           {
            "bin_start": 0.3224287485853775,
            "bin_end": 0.3237867897262734,
            "count": 0
           },
           {
            "bin_start": 0.3237867897262734,
            "bin_end": 0.3251448308671693,
            "count": 0
           },
           {
            "bin_start": 0.3251448308671693,
            "bin_end": 0.3265028720080651,
            "count": 0
           },
           {
            "bin_start": 0.3265028720080651,
            "bin_end": 0.327860913148961,
            "count": 1
           }
          ]
         }
        },
        {
         "name": "_deepnote_index_column",
         "dtype": "object"
        }
       ],
       "rows_top": [
        {
         "gold_score": 0.327860913148961,
         "_deepnote_index_column": "wu_palmer"
        },
        {
         "gold_score": 0.3142805017400023,
         "_deepnote_index_column": "shortest_path"
        },
        {
         "gold_score": 0.3142805017400023,
         "_deepnote_index_column": "leakcock_chodorow"
        }
       ],
       "rows_bottom": null
      },
      "text/plain": "                   gold_score\nwu_palmer            0.327861\nshortest_path        0.314281\nleakcock_chodorow    0.314281",
      "text/html": "<div>\n<style scoped>\n    .dataframe tbody tr th:only-of-type {\n        vertical-align: middle;\n    }\n\n    .dataframe tbody tr th {\n        vertical-align: top;\n    }\n\n    .dataframe thead th {\n        text-align: right;\n    }\n</style>\n<table border=\"1\" class=\"dataframe\">\n  <thead>\n    <tr style=\"text-align: right;\">\n      <th></th>\n      <th>gold_score</th>\n    </tr>\n  </thead>\n  <tbody>\n    <tr>\n      <th>wu_palmer</th>\n      <td>0.327861</td>\n    </tr>\n    <tr>\n      <th>shortest_path</th>\n      <td>0.314281</td>\n    </tr>\n    <tr>\n      <th>leakcock_chodorow</th>\n      <td>0.314281</td>\n    </tr>\n  </tbody>\n</table>\n</div>"
     },
     "metadata": {}
    }
   ]
  },
  {
   "cell_type": "markdown",
   "source": "Entrambi gli indici, non sembrano indicare una forte correlazione positiva. Possiamo verificarlo visivamente dai seguenti scatter plot:",
   "metadata": {
    "cell_id": "00012-d7ee9c24-3139-43bd-b27e-eb18040d4f95",
    "deepnote_cell_type": "markdown"
   }
  },
  {
   "cell_type": "code",
   "metadata": {
    "cell_id": "00013-67e6d7ea-3f42-463c-be1b-d629eef1c22a",
    "deepnote_to_be_reexecuted": false,
    "source_hash": "da6d8212",
    "execution_start": 1620808658228,
    "execution_millis": 889,
    "deepnote_cell_type": "code"
   },
   "source": "fig, axes = plt.subplots(1,3,figsize=(26,8))\nfor ax, metric_name in zip(axes, [name for metric, name in metrics]):\n    #ax.scatter(x=wordsim_df['gold_score'], y=wordsim_df[metric_name])\n    wordsim_df.plot.scatter(x='gold_score', y=metric_name, ax=ax)\n    ax.set_ylim(bottom=0.0)\n    ax.set_title(\"Gold Score vs {} similarity\".format(metric_name.replace('_',' ')))",
   "execution_count": 7,
   "outputs": [
    {
     "data": {
      "text/plain": "<Figure size 1872x576 with 3 Axes>",
      "image/png": "[encoded data removed]"
     },
     "metadata": {
      "image/png": {
       "width": 1505,
       "height": 500
      }
     },
     "output_type": "display_data"
    }
   ]
  },
  {
   "cell_type": "markdown",
   "source": "# Parte 2: Word Sense Disambiguation\n\nIn questa seconda parte vedremo come utilizzare l'algoritmo *Lesk* per un task di *Word Sense Disambiguation* (WSD). Utilizzeremo un breve corpus di frasi, ognuna contenente un singolo senso polisemico che dovrà essere disambiguato utilizando l'algoritomo Lesk e dunque sfruttando le risorse lessicali codificate in WordNet.",
   "metadata": {
    "cell_id": "00014-63b9d970-8c9c-411f-901f-0c9505d462c8",
    "deepnote_cell_type": "markdown"
   }
  },
  {
   "cell_type": "code",
   "metadata": {
    "cell_id": "00015-9fcd1471-0ded-4d70-8b4d-68a4bca6877d",
    "deepnote_to_be_reexecuted": false,
    "source_hash": "310c3594",
    "execution_start": 1620808659166,
    "execution_millis": 49,
    "deepnote_cell_type": "code"
   },
   "source": "from nltk.corpus import wordnet as wn\nimport src.word_sense_disambiguation as wsd\nimport numpy as np\n\nwn.synsets('word')[0]._wordnet_corpus_reader.get_version() # quick hack to retrieve wordnet version used by NLTK",
   "execution_count": 8,
   "outputs": [
    {
     "output_type": "execute_result",
     "execution_count": 8,
     "data": {
      "text/plain": "'3.0'"
     },
     "metadata": {}
    }
   ]
  },
  {
   "cell_type": "markdown",
   "source": "Ma cosa significa nella pratica che un termine è polisemico? Vediamo un semplice esempio per una frase presa dal corpus.",
   "metadata": {
    "cell_id": "00016-e0de7327-e8d4-431b-9230-2ca41311e267",
    "deepnote_cell_type": "markdown"
   }
  },
  {
   "cell_type": "code",
   "metadata": {
    "cell_id": "00017-e6908786-dad8-4531-9c77-f8473a495be2",
    "deepnote_to_be_reexecuted": false,
    "source_hash": "dfd87f9a",
    "execution_start": 1620808659211,
    "execution_millis": 48,
    "deepnote_cell_type": "code"
   },
   "source": "corpus_path = Path('data/sentences.txt')\ncorpus = dm.WSDSentences(corpus_path)\n\n_, poly_word, sentence = corpus.get_sentences()[0]\nprint(\"Chosen sentence: {}\\n\".format(sentence))\n\nfor syn in wn.synsets(poly_word):\n    example = syn.examples()[0] if len(syn.examples()) != 0 else '' \n    print(\"{} sense: {}\\nDefinition: {}\\nExample: {}\\n\".format(poly_word, syn.name(), syn.definition(), example))",
   "execution_count": 9,
   "outputs": [
    {
     "name": "stdout",
     "text": "Chosen sentence: Arms bend at the elbow.\n\nArms sense: weaponry.n.01\nDefinition: weapons considered collectively\nExample: \n\nArms sense: coat_of_arms.n.01\nDefinition: the official symbols of a family, state, etc.\nExample: \n\nArms sense: arm.n.01\nDefinition: a human limb; technically the part of the superior limb between the shoulder and the elbow but commonly used to refer to the whole superior limb\nExample: \n\nArms sense: arm.n.02\nDefinition: any projection that is thought to resemble a human arm\nExample: the arm of the record player\n\nArms sense: weapon.n.01\nDefinition: any instrument or instrumentality used in fighting or hunting\nExample: he was licensed to carry a weapon\n\nArms sense: arm.n.04\nDefinition: the part of an armchair or sofa that supports the elbow and forearm of a seated person\nExample: \n\nArms sense: branch.n.01\nDefinition: a division of some larger or more complex organization\nExample: a branch of Congress\n\nArms sense: sleeve.n.01\nDefinition: the part of a garment that is attached at the armhole and that provides a cloth covering for the arm\nExample: \n\nArms sense: arm.v.01\nDefinition: prepare oneself for a military confrontation\nExample: The U.S. is girding for a conflict in the Middle East\n\nArms sense: arm.v.02\nDefinition: supply with arms\nExample: The U.S. armed the freedom fighters in Afghanistan\n\n",
     "output_type": "stream"
    }
   ]
  },
  {
   "cell_type": "markdown",
   "source": "Quindi per il termine \"Arm\" esistono differenti significati dipendenti dal contesto preso in considerazione. Nel caso specifico, il contesto espresso dalla frase\nsi riferisce chiaramente ad \"Arm\" nel senso di parte anatomica.\n\nDi seguito utilizziamo l'algoritmo Lesk per disambiguare la parola indicata nel corpus.",
   "metadata": {
    "cell_id": "00018-2dd9f48e-3cdf-46ae-8067-ee28be351cdf",
    "deepnote_cell_type": "markdown"
   }
  },
  {
   "cell_type": "code",
   "metadata": {
    "cell_id": "00019-e80afc1c-5076-4d7e-9384-7e4a7d53d2d3",
    "deepnote_to_be_reexecuted": false,
    "source_hash": "891f7665",
    "execution_start": 1620808659255,
    "execution_millis": 57,
    "deepnote_cell_type": "code"
   },
   "source": "    output_path = Path(\"output\")\n    output_path.mkdir(parents=True, exist_ok=True)\n    out_file = output_path / 'wsd_sentences.txt'\n\n    with out_file.open('w') as file:\n        for key, word, sentence in corpus.get_sentences(): # for each sentence\n            best_sense, _ = wsd.lesk_wsd(sentence, word)\n\n            if best_sense: # a sense is found for a given word\n                repl_string = '[{}]'.format(', '.join(best_sense.lemma_names()))\n                syn_name = best_sense.name()\n                syn_definition = best_sense.definition()\n            else:\n                repl_string = '[NONE]'\n                syn_name = ''\n                syn_definition = ''\n\n            repl_sentence = corpus.replace_polysemous_word(key, repl_string)\n            to_write = \"{} | {} | {}\\n\".format(repl_sentence, syn_name, syn_definition)\n            print(to_write)\n            file.write(to_write)\n",
   "execution_count": 10,
   "outputs": [
    {
     "name": "stdout",
     "text": "[coat_of_arms, arms, blazon, blazonry] bend at the elbow. | coat_of_arms.n.01 | the official symbols of a family, state, etc.\n\nGermany sells [coat_of_arms, arms, blazon, blazonry] to Saudi Arabia. | coat_of_arms.n.01 | the official symbols of a family, state, etc.\n\nThe [key] broke in the lock. | key.n.01 | metal device shaped in such a way that when it is inserted into the appropriate lock the lock's mechanism can be rotated\n\nThe [Key, Francis_Scott_Key] problem was not one of quality but of quantity. | key.n.07 | United States lawyer and poet who wrote a poem after witnessing the British attack on Baltimore during the War of 1812; the poem was later set to music and entitled `The Star-Spangled Banner' (1779-1843)\n\nWork out the [solution] in your head. | solution.n.01 | a homogeneous mixture of two or more substances; frequently (but not necessarily) a liquid solution\n\nHeat the [solution, answer, result, resolution, solvent] to 75° Celsius. | solution.n.02 | a statement that solves a problem or explains how to solve the problem\n\nThe house was burnt to [ash] while the owner returned. | ash.n.01 | the residue that remains when something is burned\n\nThis table is made of [ash] wood. | ash.n.03 | strong elastic wood of any of various ash trees; used for furniture and tool handles and sporting goods such as baseball bats\n\nThe [NONE] with her boss took longer than she expected. |  | \n\nShe packed her [NONE] in her purse. |  | \n\nThe [categorization, categorisation, classification, compartmentalization, compartmentalisation, assortment] of the genetic data took two years. | categorization.n.03 | the act of distributing things into classes or categories of the same type\n\nThe journal Science published the [categorization, categorisation, classification, compartmentalization, compartmentalisation, assortment] this month. | categorization.n.03 | the act of distributing things into classes or categories of the same type\n\nHis cottage is near a small [forest, wood, woods]. | forest.n.01 | the trees and other plants in a large densely wooded area\n\nThe statue was made out of a block of [wood]. | wood.n.08 | a golf club with a long shaft used to hit long shots; originally made with a wooden head\n\n",
     "output_type": "stream"
    }
   ]
  },
  {
   "cell_type": "markdown",
   "source": "La precedente cella costruisce le bag-of-words non considerando la rimozione delle stopword. Vediamo di seguito se e come influsice la rimozione delle stop words sull'algoritmo lesk.",
   "metadata": {
    "cell_id": "00020-d8d72521-cc21-4c68-9423-7225a3f184a6",
    "deepnote_cell_type": "markdown"
   }
  },
  {
   "cell_type": "code",
   "metadata": {
    "cell_id": "00021-456eef4a-835d-4ef3-9d19-d522a41ec6e0",
    "deepnote_to_be_reexecuted": false,
    "source_hash": "33e92b2",
    "execution_start": 1620808659354,
    "execution_millis": 50,
    "deepnote_cell_type": "code"
   },
   "source": "    with out_file.open('w') as file:\n        for key, word, sentence in corpus.get_sentences():\n            best_sense, _ = wsd.lesk_wsd(sentence, word, stopwords=wsd.STOP_WORDS)\n\n            if best_sense: # a sense is found for a given word\n                repl_string = '[{}]'.format(', '.join(best_sense.lemma_names()))\n                syn_name = best_sense.name()\n                syn_definition = best_sense.definition()\n            else:\n                repl_string = '[NONE]'\n                syn_name = ''\n                syn_definition = ''\n\n            repl_sentence = corpus.replace_polysemous_word(key, repl_string)\n            to_write = \"{} | {} | {}\\n\".format(repl_sentence, syn_name, syn_definition)\n            print(to_write)\n            file.write(to_write)",
   "execution_count": 11,
   "outputs": [
    {
     "name": "stdout",
     "text": "[coat_of_arms, arms, blazon, blazonry] bend at the elbow. | coat_of_arms.n.01 | the official symbols of a family, state, etc.\n\nGermany sells [coat_of_arms, arms, blazon, blazonry] to Saudi Arabia. | coat_of_arms.n.01 | the official symbols of a family, state, etc.\n\nThe [key] broke in the lock. | key.n.01 | metal device shaped in such a way that when it is inserted into the appropriate lock the lock's mechanism can be rotated\n\nThe [Key, Francis_Scott_Key] problem was not one of quality but of quantity. | key.n.07 | United States lawyer and poet who wrote a poem after witnessing the British attack on Baltimore during the War of 1812; the poem was later set to music and entitled `The Star-Spangled Banner' (1779-1843)\n\nWork out the [solution] in your head. | solution.n.01 | a homogeneous mixture of two or more substances; frequently (but not necessarily) a liquid solution\n\nHeat the [solution] to 75° Celsius. | solution.n.01 | a homogeneous mixture of two or more substances; frequently (but not necessarily) a liquid solution\n\nThe house was burnt to [ash] while the owner returned. | ash.v.01 | convert into ashes\n\nThis table is made of [ash] wood. | ash.n.03 | strong elastic wood of any of various ash trees; used for furniture and tool handles and sporting goods such as baseball bats\n\nThe [NONE] with her boss took longer than she expected. |  | \n\nShe packed her [NONE] in her purse. |  | \n\nThe [NONE] of the genetic data took two years. |  | \n\nThe journal Science published the [NONE] this month. |  | \n\nHis cottage is near a small [NONE]. |  | \n\nThe statue was made out of a block of [NONE]. |  | \n\n",
     "output_type": "stream"
    }
   ]
  },
  {
   "cell_type": "markdown",
   "source": " Analizziamo i risultati:\n* Solamente $5$ su $14$ de termini polisemici totali sono stati disambiguati **correttamente**, con un'accuratezza dunque dello $0.35$%.\n* In $2$ casi su $14$ l'algoritmo lesk **non è riuscito a trovare un senso** per il termine polisemico. Nello specifico, questo significa che non è r\nriuscito a trovare un senso in cui la signature e il contesto avessero un valore di overlap $>0$.\n* Un esempio peculiare è il caso delle 2 frasi:\n\n>Work out the [solution] in your head. | solution.n.01 | a homogeneous mixture of two or more substances; frequently (but not necessarily) a liquid solution\n>Heat the [solution, answer, result, resolution, solvent] to 75° Celsius. | solution.n.02 | a statement that solves a problem or explains how to solve the problem\n\nin cui l'algoritmo ha invertito esattamente i corrispettivi sensi corretti.\n\n* Inoltre, dalla seconda esecuzione, si può notare un **peggioramento** delle prestazione eliminando le **stopwords**.\n\nCome è possibile interpretare questi risultati? La riduzione delle prestazioni della seconda esecuzione ci fornisce un indizio importante. L'algoritmo con brevi frasi ha pessime prestazioni in quanto non riesce a trovare dei sensi con overlap $>0$, denotando dunque una certa **dipendenza dalle stopwords**, comportamento certamente non desiderabile, in quanto esse non catturano il contesto della frase.",
   "metadata": {
    "cell_id": "00022-cc8a681c-73d5-4a8b-86e1-d1dc7b7e7be5",
    "deepnote_cell_type": "markdown"
   }
  },
  {
   "cell_type": "markdown",
   "source": "### SemCor Evaluation\n\nEffettuiamo un task di word sense disambiguation utilizzando l'algoritmo Lesk su un differente corpus: *SemCor*. ",
   "metadata": {
    "cell_id": "00023-cae5f3c2-879f-4bbb-94ef-fa034dd63df7",
    "deepnote_cell_type": "markdown"
   }
  },
  {
   "cell_type": "code",
   "metadata": {
    "cell_id": "00024-0b75497e-7b10-4851-b3e4-3030714947dc",
    "deepnote_to_be_reexecuted": false,
    "source_hash": "380067e8",
    "execution_start": 1620808659399,
    "deepnote_cell_type": "code"
   },
   "source": "def accuracy(true, predicted):\n    correct_predictions = sum([true_sense.lower() == predicted_sense.lower() for true_sense, predicted_sense in zip(true, predicted)\n    if true_sense and predicted_sense])\n    return correct_predictions / len(true)",
   "execution_count": 12,
   "outputs": []
  },
  {
   "cell_type": "code",
   "metadata": {
    "tags": [],
    "cell_id": "00025-96a0785c-a793-4b64-bafd-c6a473c235ba",
    "deepnote_to_be_reexecuted": false,
    "source_hash": "d8215e4c",
    "execution_start": 1620808759542,
    "execution_millis": 7732,
    "deepnote_cell_type": "code"
   },
   "source": "semcor_files = [Path('data/semcor3.0/br-e21'),\n                Path('data/semcor3.0/br-j59'),\n                Path('data/semcor3.0/br-r07'),\n                Path('data/semcor3.0/br-k25'),\n                Path('data/semcor3.0/br-p01')]\n\n\naccuracy_scores = []\nfor file_path in semcor_files:\n    semcor = dm.SemCorCorpus(file_path)\n\n    true_senses =  []\n    predicted_senses = []\n\n    for sentence, annotated_words in semcor.get_annotated_sentences():\n        for (word, true_sense_id) in annotated_words:\n            lesk_sense, _ = wsd.lesk_wsd(sentence, word)\n            lesk_sense_name = lesk_sense.name() if lesk_sense else None\n            \n            true_senses.append(true_sense_id)\n            predicted_senses.append(lesk_sense_name)\n    \n    accuracy_scores.append(accuracy(true_senses, predicted_senses))",
   "execution_count": 14,
   "outputs": []
  },
  {
   "cell_type": "code",
   "metadata": {
    "cell_id": "00026-1605d72d-bb52-472a-9d49-a42da197ce46",
    "deepnote_to_be_reexecuted": false,
    "source_hash": "b04a1e0b",
    "execution_start": 1620808773578,
    "execution_millis": 17,
    "deepnote_cell_type": "code"
   },
   "source": "accuracy_scores = np.array(accuracy_scores)\nfor file, acc_score in  zip(semcor_files, accuracy_scores):\n    print(\"Accuracy on {} file: {:.4f}\".format(file.stem, acc_score))\n    \nprint('Achieved {:.3f}+-{:.2f} mean accuracy on {} runs'.format(accuracy_scores.mean(),\naccuracy_scores.std(), len(accuracy_scores)))    \n",
   "execution_count": 16,
   "outputs": [
    {
     "name": "stdout",
     "text": "Accuracy on br-e21 file: 0.2364\nAccuracy on br-j59 file: 0.1656\nAccuracy on br-r07 file: 0.1641\nAccuracy on br-k25 file: 0.2310\nAccuracy on br-p01 file: 0.2581\nAchieved 0.211+-0.04 mean accuracy on 5 runs\n",
     "output_type": "stream"
    }
   ]
  },
  {
   "cell_type": "markdown",
   "source": "<a style='text-decoration:none;line-height:16px;display:flex;color:#5B5B62;padding:10px;justify-content:end;' href='https://deepnote.com?utm_source=created-in-deepnote-cell&projectId=afb22156-bb61-4d65-847d-18db79c0d4d2' target=\"_blank\">\n<img alt='Created in deepnote.com' style='display:inline;max-height:16px;margin:0px;margin-right:7.5px;' src='data:image/svg+xml;base64,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' > </img>\nCreated in <span style='font-weight:600;margin-left:4px;'>Deepnote</span></a>",
   "metadata": {
    "tags": [],
    "created_in_deepnote_cell": true,
    "deepnote_cell_type": "markdown"
   }
  }
 ],
 "nbformat": 4,
 "nbformat_minor": 2,
 "metadata": {
  "language_info": {
   "codemirror_mode": {
    "name": "ipython",
    "version": 3
   },
   "file_extension": ".py",
   "mimetype": "text/x-python",
   "name": "python",
   "nbconvert_exporter": "python",
   "pygments_lexer": "ipython3",
   "version": "3.8.8-final"
  },
  "orig_nbformat": 2,
  "kernelspec": {
   "name": "python3",
   "display_name": "Python 3.8.8 64-bit ('TLN': conda)",
   "metadata": {
    "interpreter": {
     "hash": "739282abffc8079465c7416af47f8b6d2681da148d602a4884c4032805e054cf"
    }
   }
  },
  "deepnote_notebook_id": "d646f545-22d3-4e15-8eb5-d5e72dc1f6c6",
  "deepnote": {},
  "deepnote_execution_queue": []
 }
}